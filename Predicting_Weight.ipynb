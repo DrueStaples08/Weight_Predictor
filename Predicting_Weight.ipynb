{
  "nbformat": 4,
  "nbformat_minor": 0,
  "metadata": {
    "colab": {
      "name": "Predicting_Weight.ipynb",
      "provenance": [],
      "collapsed_sections": [
        "T6TBa1uwYx33",
        "4S5df7PBZE0G",
        "mKgw04YWY-oX",
        "4DQo5-s3izH4",
        "ZU4wquD4iRax",
        "6Ts-amThvnnY",
        "k_KpQjqZltc4",
        "HStB5Xuji3YH"
      ],
      "authorship_tag": "ABX9TyMDt794b1Q4YavUVfXsaR3p",
      "include_colab_link": true
    },
    "kernelspec": {
      "name": "python3",
      "display_name": "Python 3"
    },
    "accelerator": "GPU"
  },
  "cells": [
    {
      "cell_type": "markdown",
      "metadata": {
        "id": "view-in-github",
        "colab_type": "text"
      },
      "source": [
        "<a href=\"https://colab.research.google.com/github/DrueStaples08/Weight_Predictor/blob/master/Predicting_Weight.ipynb\" target=\"_parent\"><img src=\"https://colab.research.google.com/assets/colab-badge.svg\" alt=\"Open In Colab\"/></a>"
      ]
    },
    {
      "cell_type": "markdown",
      "metadata": {
        "id": "BPZsTA2fKxWK",
        "colab_type": "text"
      },
      "source": [
        "#Use the features of gender and height to try and predict weight"
      ]
    },
    {
      "cell_type": "markdown",
      "metadata": {
        "id": "T6TBa1uwYx33",
        "colab_type": "text"
      },
      "source": [
        "#Import Packages"
      ]
    },
    {
      "cell_type": "code",
      "metadata": {
        "id": "qVSDMdqzssIg",
        "colab_type": "code",
        "colab": {}
      },
      "source": [
        "import pandas as pd\n",
        "from pandas_profiling import ProfileReport\n",
        "import seaborn as sns\n",
        "from sklearn.utils import shuffle\n",
        "import matplotlib.pyplot as plt\n",
        "from scipy.stats import zscore\n",
        "from sklearn.decomposition import PCA\n",
        "from sklearn.preprocessing import StandardScaler\n",
        "import numpy as np\n",
        "from sklearn.ensemble import ExtraTreesRegressor\n",
        "from sklearn.model_selection import GridSearchCV, RandomizedSearchCV, train_test_split, cross_val_score\n",
        "from sklearn.linear_model import LinearRegression\n",
        "from sklearn import metrics"
      ],
      "execution_count": 0,
      "outputs": []
    },
    {
      "cell_type": "code",
      "metadata": {
        "id": "ikdFGoib0v_-",
        "colab_type": "code",
        "colab": {}
      },
      "source": [
        "%matplotlib inline"
      ],
      "execution_count": 0,
      "outputs": []
    },
    {
      "cell_type": "code",
      "metadata": {
        "id": "FoDOUaDwvZ78",
        "colab_type": "code",
        "colab": {}
      },
      "source": [
        "dff = pd.read_csv('weight-height.csv')"
      ],
      "execution_count": 0,
      "outputs": []
    },
    {
      "cell_type": "code",
      "metadata": {
        "id": "1NFRbYmUve2y",
        "colab_type": "code",
        "colab": {}
      },
      "source": [
        "df = dff"
      ],
      "execution_count": 0,
      "outputs": []
    },
    {
      "cell_type": "markdown",
      "metadata": {
        "id": "4S5df7PBZE0G",
        "colab_type": "text"
      },
      "source": [
        "#Data Exploration"
      ]
    },
    {
      "cell_type": "code",
      "metadata": {
        "id": "dDXLjomavf0k",
        "colab_type": "code",
        "outputId": "f9a3abc1-f46a-4917-bf27-3c65f747fdf5",
        "colab": {
          "base_uri": "https://localhost:8080/",
          "height": 199
        }
      },
      "source": [
        "df.head()"
      ],
      "execution_count": 0,
      "outputs": [
        {
          "output_type": "execute_result",
          "data": {
            "text/html": [
              "<div>\n",
              "<style scoped>\n",
              "    .dataframe tbody tr th:only-of-type {\n",
              "        vertical-align: middle;\n",
              "    }\n",
              "\n",
              "    .dataframe tbody tr th {\n",
              "        vertical-align: top;\n",
              "    }\n",
              "\n",
              "    .dataframe thead th {\n",
              "        text-align: right;\n",
              "    }\n",
              "</style>\n",
              "<table border=\"1\" class=\"dataframe\">\n",
              "  <thead>\n",
              "    <tr style=\"text-align: right;\">\n",
              "      <th></th>\n",
              "      <th>Gender</th>\n",
              "      <th>Height</th>\n",
              "      <th>Weight</th>\n",
              "    </tr>\n",
              "  </thead>\n",
              "  <tbody>\n",
              "    <tr>\n",
              "      <th>0</th>\n",
              "      <td>Male</td>\n",
              "      <td>73.847017</td>\n",
              "      <td>241.893563</td>\n",
              "    </tr>\n",
              "    <tr>\n",
              "      <th>1</th>\n",
              "      <td>Male</td>\n",
              "      <td>68.781904</td>\n",
              "      <td>162.310473</td>\n",
              "    </tr>\n",
              "    <tr>\n",
              "      <th>2</th>\n",
              "      <td>Male</td>\n",
              "      <td>74.110105</td>\n",
              "      <td>212.740856</td>\n",
              "    </tr>\n",
              "    <tr>\n",
              "      <th>3</th>\n",
              "      <td>Male</td>\n",
              "      <td>71.730978</td>\n",
              "      <td>220.042470</td>\n",
              "    </tr>\n",
              "    <tr>\n",
              "      <th>4</th>\n",
              "      <td>Male</td>\n",
              "      <td>69.881796</td>\n",
              "      <td>206.349801</td>\n",
              "    </tr>\n",
              "  </tbody>\n",
              "</table>\n",
              "</div>"
            ],
            "text/plain": [
              "  Gender     Height      Weight\n",
              "0   Male  73.847017  241.893563\n",
              "1   Male  68.781904  162.310473\n",
              "2   Male  74.110105  212.740856\n",
              "3   Male  71.730978  220.042470\n",
              "4   Male  69.881796  206.349801"
            ]
          },
          "metadata": {
            "tags": []
          },
          "execution_count": 5
        }
      ]
    },
    {
      "cell_type": "code",
      "metadata": {
        "id": "ovdmUcmYvhY4",
        "colab_type": "code",
        "outputId": "2019619c-5258-4312-ca31-4a82bfec7d72",
        "colab": {
          "base_uri": "https://localhost:8080/",
          "height": 290
        }
      },
      "source": [
        "df.describe()"
      ],
      "execution_count": 0,
      "outputs": [
        {
          "output_type": "execute_result",
          "data": {
            "text/html": [
              "<div>\n",
              "<style scoped>\n",
              "    .dataframe tbody tr th:only-of-type {\n",
              "        vertical-align: middle;\n",
              "    }\n",
              "\n",
              "    .dataframe tbody tr th {\n",
              "        vertical-align: top;\n",
              "    }\n",
              "\n",
              "    .dataframe thead th {\n",
              "        text-align: right;\n",
              "    }\n",
              "</style>\n",
              "<table border=\"1\" class=\"dataframe\">\n",
              "  <thead>\n",
              "    <tr style=\"text-align: right;\">\n",
              "      <th></th>\n",
              "      <th>Height</th>\n",
              "      <th>Weight</th>\n",
              "    </tr>\n",
              "  </thead>\n",
              "  <tbody>\n",
              "    <tr>\n",
              "      <th>count</th>\n",
              "      <td>10000.000000</td>\n",
              "      <td>10000.000000</td>\n",
              "    </tr>\n",
              "    <tr>\n",
              "      <th>mean</th>\n",
              "      <td>66.367560</td>\n",
              "      <td>161.440357</td>\n",
              "    </tr>\n",
              "    <tr>\n",
              "      <th>std</th>\n",
              "      <td>3.847528</td>\n",
              "      <td>32.108439</td>\n",
              "    </tr>\n",
              "    <tr>\n",
              "      <th>min</th>\n",
              "      <td>54.263133</td>\n",
              "      <td>64.700127</td>\n",
              "    </tr>\n",
              "    <tr>\n",
              "      <th>25%</th>\n",
              "      <td>63.505620</td>\n",
              "      <td>135.818051</td>\n",
              "    </tr>\n",
              "    <tr>\n",
              "      <th>50%</th>\n",
              "      <td>66.318070</td>\n",
              "      <td>161.212928</td>\n",
              "    </tr>\n",
              "    <tr>\n",
              "      <th>75%</th>\n",
              "      <td>69.174262</td>\n",
              "      <td>187.169525</td>\n",
              "    </tr>\n",
              "    <tr>\n",
              "      <th>max</th>\n",
              "      <td>78.998742</td>\n",
              "      <td>269.989699</td>\n",
              "    </tr>\n",
              "  </tbody>\n",
              "</table>\n",
              "</div>"
            ],
            "text/plain": [
              "             Height        Weight\n",
              "count  10000.000000  10000.000000\n",
              "mean      66.367560    161.440357\n",
              "std        3.847528     32.108439\n",
              "min       54.263133     64.700127\n",
              "25%       63.505620    135.818051\n",
              "50%       66.318070    161.212928\n",
              "75%       69.174262    187.169525\n",
              "max       78.998742    269.989699"
            ]
          },
          "metadata": {
            "tags": []
          },
          "execution_count": 12
        }
      ]
    },
    {
      "cell_type": "code",
      "metadata": {
        "id": "L0CRUvsjyDgs",
        "colab_type": "code",
        "outputId": "c23b1e6c-8d8e-4ca0-ba56-1874a170706c",
        "colab": {
          "base_uri": "https://localhost:8080/",
          "height": 139
        }
      },
      "source": [
        "df.groupby('Gender')[['Height', 'Weight']].mean()"
      ],
      "execution_count": 0,
      "outputs": [
        {
          "output_type": "execute_result",
          "data": {
            "text/html": [
              "<div>\n",
              "<style scoped>\n",
              "    .dataframe tbody tr th:only-of-type {\n",
              "        vertical-align: middle;\n",
              "    }\n",
              "\n",
              "    .dataframe tbody tr th {\n",
              "        vertical-align: top;\n",
              "    }\n",
              "\n",
              "    .dataframe thead th {\n",
              "        text-align: right;\n",
              "    }\n",
              "</style>\n",
              "<table border=\"1\" class=\"dataframe\">\n",
              "  <thead>\n",
              "    <tr style=\"text-align: right;\">\n",
              "      <th></th>\n",
              "      <th>Height</th>\n",
              "      <th>Weight</th>\n",
              "    </tr>\n",
              "    <tr>\n",
              "      <th>Gender</th>\n",
              "      <th></th>\n",
              "      <th></th>\n",
              "    </tr>\n",
              "  </thead>\n",
              "  <tbody>\n",
              "    <tr>\n",
              "      <th>Female</th>\n",
              "      <td>63.708774</td>\n",
              "      <td>135.860093</td>\n",
              "    </tr>\n",
              "    <tr>\n",
              "      <th>Male</th>\n",
              "      <td>69.026346</td>\n",
              "      <td>187.020621</td>\n",
              "    </tr>\n",
              "  </tbody>\n",
              "</table>\n",
              "</div>"
            ],
            "text/plain": [
              "           Height      Weight\n",
              "Gender                       \n",
              "Female  63.708774  135.860093\n",
              "Male    69.026346  187.020621"
            ]
          },
          "metadata": {
            "tags": []
          },
          "execution_count": 13
        }
      ]
    },
    {
      "cell_type": "code",
      "metadata": {
        "id": "zNjf7dDnyOs3",
        "colab_type": "code",
        "outputId": "ce96a50e-6be1-4596-a779-64374fda873a",
        "colab": {
          "base_uri": "https://localhost:8080/",
          "height": 1000
        }
      },
      "source": [
        "ProfileReport(df)"
      ],
      "execution_count": 0,
      "outputs": [
        {
          "output_type": "stream",
          "text": [
            "/usr/local/lib/python3.6/dist-packages/pandas_profiling/describe.py:392: FutureWarning: The join_axes-keyword is deprecated. Use .reindex or .reindex_like on the result to achieve the same functionality.\n",
            "  variable_stats = pd.concat(ldesc, join_axes=pd.Index([names]), axis=1)\n"
          ],
          "name": "stderr"
        },
        {
          "output_type": "execute_result",
          "data": {
            "text/html": [
              "<meta charset=\"UTF-8\">\n",
              "\n",
              "<style>\n",
              "\n",
              "        .variablerow {\n",
              "            border: 1px solid #e1e1e8;\n",
              "            border-top: hidden;\n",
              "            padding-top: 2em;\n",
              "            padding-bottom: 2em;\n",
              "            padding-left: 1em;\n",
              "            padding-right: 1em;\n",
              "        }\n",
              "\n",
              "        .headerrow {\n",
              "            border: 1px solid #e1e1e8;\n",
              "            background-color: #f5f5f5;\n",
              "            padding: 2em;\n",
              "        }\n",
              "        .namecol {\n",
              "            margin-top: -1em;\n",
              "            overflow-x: auto;\n",
              "        }\n",
              "\n",
              "        .dl-horizontal dt {\n",
              "            text-align: left;\n",
              "            padding-right: 1em;\n",
              "            white-space: normal;\n",
              "        }\n",
              "\n",
              "        .dl-horizontal dd {\n",
              "            margin-left: 0;\n",
              "        }\n",
              "\n",
              "        .ignore {\n",
              "            opacity: 0.4;\n",
              "        }\n",
              "\n",
              "        .container.pandas-profiling {\n",
              "            max-width:975px;\n",
              "        }\n",
              "\n",
              "        .col-md-12 {\n",
              "            padding-left: 2em;\n",
              "        }\n",
              "\n",
              "        .indent {\n",
              "            margin-left: 1em;\n",
              "        }\n",
              "\n",
              "        .center-img {\n",
              "            margin-left: auto !important;\n",
              "            margin-right: auto !important;\n",
              "            display: block;\n",
              "        }\n",
              "\n",
              "        /* Table example_values */\n",
              "            table.example_values {\n",
              "                border: 0;\n",
              "            }\n",
              "\n",
              "            .example_values th {\n",
              "                border: 0;\n",
              "                padding: 0 ;\n",
              "                color: #555;\n",
              "                font-weight: 600;\n",
              "            }\n",
              "\n",
              "            .example_values tr, .example_values td{\n",
              "                border: 0;\n",
              "                padding: 0;\n",
              "                color: #555;\n",
              "            }\n",
              "\n",
              "        /* STATS */\n",
              "            table.stats {\n",
              "                border: 0;\n",
              "            }\n",
              "\n",
              "            .stats th {\n",
              "                border: 0;\n",
              "                padding: 0 2em 0 0;\n",
              "                color: #555;\n",
              "                font-weight: 600;\n",
              "            }\n",
              "\n",
              "            .stats tr {\n",
              "                border: 0;\n",
              "            }\n",
              "\n",
              "            .stats td{\n",
              "                color: #555;\n",
              "                padding: 1px;\n",
              "                border: 0;\n",
              "            }\n",
              "\n",
              "\n",
              "        /* Sample table */\n",
              "            table.sample {\n",
              "                border: 0;\n",
              "                margin-bottom: 2em;\n",
              "                margin-left:1em;\n",
              "            }\n",
              "            .sample tr {\n",
              "                border:0;\n",
              "            }\n",
              "            .sample td, .sample th{\n",
              "                padding: 0.5em;\n",
              "                white-space: nowrap;\n",
              "                border: none;\n",
              "\n",
              "            }\n",
              "\n",
              "            .sample thead {\n",
              "                border-top: 0;\n",
              "                border-bottom: 2px solid #ddd;\n",
              "            }\n",
              "\n",
              "            .sample td {\n",
              "                width:100%;\n",
              "            }\n",
              "\n",
              "\n",
              "        /* There is no good solution available to make the divs equal height and then center ... */\n",
              "            .histogram {\n",
              "                margin-top: 3em;\n",
              "            }\n",
              "        /* Freq table */\n",
              "\n",
              "            table.freq {\n",
              "                margin-bottom: 2em;\n",
              "                border: 0;\n",
              "            }\n",
              "            table.freq th, table.freq tr, table.freq td {\n",
              "                border: 0;\n",
              "                padding: 0;\n",
              "            }\n",
              "\n",
              "            .freq thead {\n",
              "                font-weight: 600;\n",
              "                white-space: nowrap;\n",
              "                overflow: hidden;\n",
              "                text-overflow: ellipsis;\n",
              "\n",
              "            }\n",
              "\n",
              "            td.fillremaining{\n",
              "                width:auto;\n",
              "                max-width: none;\n",
              "            }\n",
              "\n",
              "            td.number, th.number {\n",
              "                text-align:right ;\n",
              "            }\n",
              "\n",
              "        /* Freq mini */\n",
              "            .freq.mini td{\n",
              "                width: 50%;\n",
              "                padding: 1px;\n",
              "                font-size: 12px;\n",
              "\n",
              "            }\n",
              "            table.freq.mini {\n",
              "                 width:100%;\n",
              "            }\n",
              "            .freq.mini th {\n",
              "                overflow: hidden;\n",
              "                text-overflow: ellipsis;\n",
              "                white-space: nowrap;\n",
              "                max-width: 5em;\n",
              "                font-weight: 400;\n",
              "                text-align:right;\n",
              "                padding-right: 0.5em;\n",
              "            }\n",
              "\n",
              "            .missing {\n",
              "                color: #a94442;\n",
              "            }\n",
              "            .alert, .alert > th, .alert > td {\n",
              "                color: #a94442;\n",
              "            }\n",
              "\n",
              "\n",
              "        /* Bars in tables */\n",
              "            .freq .bar{\n",
              "                float: left;\n",
              "                width: 0;\n",
              "                height: 100%;\n",
              "                line-height: 20px;\n",
              "                color: #fff;\n",
              "                text-align: center;\n",
              "                background-color: #337ab7;\n",
              "                border-radius: 3px;\n",
              "                margin-right: 4px;\n",
              "            }\n",
              "            .other .bar {\n",
              "                background-color: #999;\n",
              "            }\n",
              "            .missing .bar{\n",
              "                background-color: #a94442;\n",
              "            }\n",
              "            .tooltip-inner {\n",
              "                width: 100%;\n",
              "                white-space: nowrap;\n",
              "                text-align:left;\n",
              "            }\n",
              "\n",
              "            .extrapadding{\n",
              "                padding: 2em;\n",
              "            }\n",
              "\n",
              "            .pp-anchor{\n",
              "\n",
              "            }\n",
              "\n",
              "</style>\n",
              "\n",
              "<div class=\"container pandas-profiling\">\n",
              "    <div class=\"row headerrow highlight\">\n",
              "        <h1>Overview</h1>\n",
              "    </div>\n",
              "    <div class=\"row variablerow\">\n",
              "    <div class=\"col-md-6 namecol\">\n",
              "        <p class=\"h4\">Dataset info</p>\n",
              "        <table class=\"stats\" style=\"margin-left: 1em;\">\n",
              "            <tbody>\n",
              "            <tr>\n",
              "                <th>Number of variables</th>\n",
              "                <td>3 </td>\n",
              "            </tr>\n",
              "            <tr>\n",
              "                <th>Number of observations</th>\n",
              "                <td>10000 </td>\n",
              "            </tr>\n",
              "            <tr>\n",
              "                <th>Total Missing (%)</th>\n",
              "                <td>0.0% </td>\n",
              "            </tr>\n",
              "            <tr>\n",
              "                <th>Total size in memory</th>\n",
              "                <td>234.5 KiB </td>\n",
              "            </tr>\n",
              "            <tr>\n",
              "                <th>Average record size in memory</th>\n",
              "                <td>24.0 B </td>\n",
              "            </tr>\n",
              "            </tbody>\n",
              "        </table>\n",
              "    </div>\n",
              "    <div class=\"col-md-6 namecol\">\n",
              "        <p class=\"h4\">Variables types</p>\n",
              "        <table class=\"stats\" style=\"margin-left: 1em;\">\n",
              "            <tbody>\n",
              "            <tr>\n",
              "                <th>Numeric</th>\n",
              "                <td>1 </td>\n",
              "            </tr>\n",
              "            <tr>\n",
              "                <th>Categorical</th>\n",
              "                <td>1 </td>\n",
              "            </tr>\n",
              "            <tr>\n",
              "                <th>Boolean</th>\n",
              "                <td>0 </td>\n",
              "            </tr>\n",
              "            <tr>\n",
              "                <th>Date</th>\n",
              "                <td>0 </td>\n",
              "            </tr>\n",
              "            <tr>\n",
              "                <th>Text (Unique)</th>\n",
              "                <td>0 </td>\n",
              "            </tr>\n",
              "            <tr>\n",
              "                <th>Rejected</th>\n",
              "                <td>1 </td>\n",
              "            </tr>\n",
              "            <tr>\n",
              "                <th>Unsupported</th>\n",
              "                <td>0 </td>\n",
              "            </tr>\n",
              "            </tbody>\n",
              "        </table>\n",
              "    </div>\n",
              "    <div class=\"col-md-12\" style=\"padding-left: 1em;\">\n",
              "        \n",
              "        <p class=\"h4\">Warnings</p>\n",
              "        <ul class=\"list-unstyled\"><li><a href=\"#pp_var_Weight\"><code>Weight</code></a> is highly correlated with <a href=\"#pp_var_Height\"><code>Height</code></a> (ρ = 0.92476) <span class=\"label label-primary\">Rejected</span></li> </ul>\n",
              "    </div>\n",
              "</div>\n",
              "    <div class=\"row headerrow highlight\">\n",
              "        <h1>Variables</h1>\n",
              "    </div>\n",
              "    <div class=\"row variablerow\">\n",
              "    <div class=\"col-md-3 namecol\">\n",
              "        <p class=\"h4 pp-anchor\" id=\"pp_var_Gender\">Gender<br/>\n",
              "            <small>Categorical</small>\n",
              "        </p>\n",
              "    </div><div class=\"col-md-3\">\n",
              "    <table class=\"stats \">\n",
              "        <tr class=\"\">\n",
              "            <th>Distinct count</th>\n",
              "            <td>2</td>\n",
              "        </tr>\n",
              "        <tr>\n",
              "            <th>Unique (%)</th>\n",
              "            <td>0.0%</td>\n",
              "        </tr>\n",
              "        <tr class=\"ignore\">\n",
              "            <th>Missing (%)</th>\n",
              "            <td>0.0%</td>\n",
              "        </tr>\n",
              "        <tr class=\"ignore\">\n",
              "            <th>Missing (n)</th>\n",
              "            <td>0</td>\n",
              "        </tr>\n",
              "    </table>\n",
              "</div>\n",
              "<div class=\"col-md-6 collapse in\" id=\"minifreqtable5801975614418388135\">\n",
              "    <table class=\"mini freq\">\n",
              "        <tr class=\"\">\n",
              "    <th>Male</th>\n",
              "    <td>\n",
              "        <div class=\"bar\" style=\"width:100%\" data-toggle=\"tooltip\" data-placement=\"right\" data-html=\"true\"\n",
              "             data-delay=500 title=\"Percentage: 50.0%\">\n",
              "            5000\n",
              "        </div>\n",
              "        \n",
              "    </td>\n",
              "</tr><tr class=\"\">\n",
              "    <th>Female</th>\n",
              "    <td>\n",
              "        <div class=\"bar\" style=\"width:100%\" data-toggle=\"tooltip\" data-placement=\"right\" data-html=\"true\"\n",
              "             data-delay=500 title=\"Percentage: 50.0%\">\n",
              "            5000\n",
              "        </div>\n",
              "        \n",
              "    </td>\n",
              "</tr>\n",
              "    </table>\n",
              "</div>\n",
              "<div class=\"col-md-12 text-right\">\n",
              "    <a role=\"button\" data-toggle=\"collapse\" data-target=\"#freqtable5801975614418388135, #minifreqtable5801975614418388135\"\n",
              "       aria-expanded=\"true\" aria-controls=\"collapseExample\">\n",
              "        Toggle details\n",
              "    </a>\n",
              "</div>\n",
              "<div class=\"col-md-12 extrapadding collapse\" id=\"freqtable5801975614418388135\">\n",
              "    \n",
              "<table class=\"freq table table-hover\">\n",
              "    <thead>\n",
              "    <tr>\n",
              "        <td class=\"fillremaining\">Value</td>\n",
              "        <td class=\"number\">Count</td>\n",
              "        <td class=\"number\">Frequency (%)</td>\n",
              "        <td style=\"min-width:200px\">&nbsp;</td>\n",
              "    </tr>\n",
              "    </thead>\n",
              "    <tr class=\"\">\n",
              "        <td class=\"fillremaining\">Male</td>\n",
              "        <td class=\"number\">5000</td>\n",
              "        <td class=\"number\">50.0%</td>\n",
              "        <td>\n",
              "            <div class=\"bar\" style=\"width:100%\">&nbsp;</div>\n",
              "        </td>\n",
              "</tr><tr class=\"\">\n",
              "        <td class=\"fillremaining\">Female</td>\n",
              "        <td class=\"number\">5000</td>\n",
              "        <td class=\"number\">50.0%</td>\n",
              "        <td>\n",
              "            <div class=\"bar\" style=\"width:100%\">&nbsp;</div>\n",
              "        </td>\n",
              "</tr>\n",
              "</table>\n",
              "</div>\n",
              "</div><div class=\"row variablerow\">\n",
              "    <div class=\"col-md-3 namecol\">\n",
              "        <p class=\"h4 pp-anchor\" id=\"pp_var_Height\">Height<br/>\n",
              "            <small>Numeric</small>\n",
              "        </p>\n",
              "    </div><div class=\"col-md-6\">\n",
              "    <div class=\"row\">\n",
              "        <div class=\"col-sm-6\">\n",
              "            <table class=\"stats \">\n",
              "                <tr>\n",
              "                    <th>Distinct count</th>\n",
              "                    <td>10000</td>\n",
              "                </tr>\n",
              "                <tr>\n",
              "                    <th>Unique (%)</th>\n",
              "                    <td>100.0%</td>\n",
              "                </tr>\n",
              "                <tr class=\"ignore\">\n",
              "                    <th>Missing (%)</th>\n",
              "                    <td>0.0%</td>\n",
              "                </tr>\n",
              "                <tr class=\"ignore\">\n",
              "                    <th>Missing (n)</th>\n",
              "                    <td>0</td>\n",
              "                </tr>\n",
              "                <tr class=\"ignore\">\n",
              "                    <th>Infinite (%)</th>\n",
              "                    <td>0.0%</td>\n",
              "                </tr>\n",
              "                <tr class=\"ignore\">\n",
              "                    <th>Infinite (n)</th>\n",
              "                    <td>0</td>\n",
              "                </tr>\n",
              "            </table>\n",
              "\n",
              "        </div>\n",
              "        <div class=\"col-sm-6\">\n",
              "            <table class=\"stats \">\n",
              "\n",
              "                <tr>\n",
              "                    <th>Mean</th>\n",
              "                    <td>66.368</td>\n",
              "                </tr>\n",
              "                <tr>\n",
              "                    <th>Minimum</th>\n",
              "                    <td>54.263</td>\n",
              "                </tr>\n",
              "                <tr>\n",
              "                    <th>Maximum</th>\n",
              "                    <td>78.999</td>\n",
              "                </tr>\n",
              "                <tr class=\"ignore\">\n",
              "                    <th>Zeros (%)</th>\n",
              "                    <td>0.0%</td>\n",
              "                </tr>\n",
              "            </table>\n",
              "        </div>\n",
              "    </div>\n",
              "</div>\n",
              "<div class=\"col-md-3 collapse in\" id=\"minihistogram-7979378644338927625\">\n",
              "    <img src=\"data:image/png;base64,iVBORw0KGgoAAAANSUhEUgAAAMgAAABLCAYAAAA1fMjoAAAABHNCSVQICAgIfAhkiAAAAAlwSFlzAAAPYQAAD2EBqD%2BnaQAAADh0RVh0U29mdHdhcmUAbWF0cGxvdGxpYiB2ZXJzaW9uMy4xLjIsIGh0dHA6Ly9tYXRwbG90bGliLm9yZy8li6FKAAABNUlEQVR4nO3cy2nEMBRA0UxISSkiPWU9PaWI6UnZZhEu9oCxxjpnb9Dmog8P38YY4w341/vZC4CZfZy9gCv7/P7Z/c3j/nXASniWQCYjqrk4YkEQCASBQBAIBJf0HZ65QPPa7CAQBAJBIBAEAkEgEAQCwTPvBex9fja7tZ0dBIJAIAgEgkAgCASCQCAIBIJAIAgEgkAgCASCQCAIBMKy07x%2BwMAWdhAIAoEgEAjL3kFW5g/y29lBIAgEgkAgCASCQCAIBIJAIAgEgkAgCATCJUZNjK5zlEsEwvFWnd9yxIIgEAi3McY4exF/uU%2BsbbZj2XSBwEwcsSAIBIJAIAgEgkAgCASCQCAIBIJAIAgEgkAgCASCQCAIBIJAIAgEgkAgCASCQCAIBIJAIAgEgkAgCASCQCD8AmN1Is3Y2F8oAAAAAElFTkSuQmCC\">\n",
              "\n",
              "</div>\n",
              "<div class=\"col-md-12 text-right\">\n",
              "    <a role=\"button\" data-toggle=\"collapse\" data-target=\"#descriptives-7979378644338927625,#minihistogram-7979378644338927625\"\n",
              "       aria-expanded=\"false\" aria-controls=\"collapseExample\">\n",
              "        Toggle details\n",
              "    </a>\n",
              "</div>\n",
              "<div class=\"row collapse col-md-12\" id=\"descriptives-7979378644338927625\">\n",
              "    <ul class=\"nav nav-tabs\" role=\"tablist\">\n",
              "        <li role=\"presentation\" class=\"active\"><a href=\"#quantiles-7979378644338927625\"\n",
              "                                                  aria-controls=\"quantiles-7979378644338927625\" role=\"tab\"\n",
              "                                                  data-toggle=\"tab\">Statistics</a></li>\n",
              "        <li role=\"presentation\"><a href=\"#histogram-7979378644338927625\" aria-controls=\"histogram-7979378644338927625\"\n",
              "                                   role=\"tab\" data-toggle=\"tab\">Histogram</a></li>\n",
              "        <li role=\"presentation\"><a href=\"#common-7979378644338927625\" aria-controls=\"common-7979378644338927625\"\n",
              "                                   role=\"tab\" data-toggle=\"tab\">Common Values</a></li>\n",
              "        <li role=\"presentation\"><a href=\"#extreme-7979378644338927625\" aria-controls=\"extreme-7979378644338927625\"\n",
              "                                   role=\"tab\" data-toggle=\"tab\">Extreme Values</a></li>\n",
              "\n",
              "    </ul>\n",
              "\n",
              "    <div class=\"tab-content\">\n",
              "        <div role=\"tabpanel\" class=\"tab-pane active row\" id=\"quantiles-7979378644338927625\">\n",
              "            <div class=\"col-md-4 col-md-offset-1\">\n",
              "                <p class=\"h4\">Quantile statistics</p>\n",
              "                <table class=\"stats indent\">\n",
              "                    <tr>\n",
              "                        <th>Minimum</th>\n",
              "                        <td>54.263</td>\n",
              "                    </tr>\n",
              "                    <tr>\n",
              "                        <th>5-th percentile</th>\n",
              "                        <td>60.246</td>\n",
              "                    </tr>\n",
              "                    <tr>\n",
              "                        <th>Q1</th>\n",
              "                        <td>63.506</td>\n",
              "                    </tr>\n",
              "                    <tr>\n",
              "                        <th>Median</th>\n",
              "                        <td>66.318</td>\n",
              "                    </tr>\n",
              "                    <tr>\n",
              "                        <th>Q3</th>\n",
              "                        <td>69.174</td>\n",
              "                    </tr>\n",
              "                    <tr>\n",
              "                        <th>95-th percentile</th>\n",
              "                        <td>72.617</td>\n",
              "                    </tr>\n",
              "                    <tr>\n",
              "                        <th>Maximum</th>\n",
              "                        <td>78.999</td>\n",
              "                    </tr>\n",
              "                    <tr>\n",
              "                        <th>Range</th>\n",
              "                        <td>24.736</td>\n",
              "                    </tr>\n",
              "                    <tr>\n",
              "                        <th>Interquartile range</th>\n",
              "                        <td>5.6686</td>\n",
              "                    </tr>\n",
              "                </table>\n",
              "            </div>\n",
              "            <div class=\"col-md-4 col-md-offset-2\">\n",
              "                <p class=\"h4\">Descriptive statistics</p>\n",
              "                <table class=\"stats indent\">\n",
              "                    <tr>\n",
              "                        <th>Standard deviation</th>\n",
              "                        <td>3.8475</td>\n",
              "                    </tr>\n",
              "                    <tr>\n",
              "                        <th>Coef of variation</th>\n",
              "                        <td>0.057973</td>\n",
              "                    </tr>\n",
              "                    <tr>\n",
              "                        <th>Kurtosis</th>\n",
              "                        <td>-0.47413</td>\n",
              "                    </tr>\n",
              "                    <tr>\n",
              "                        <th>Mean</th>\n",
              "                        <td>66.368</td>\n",
              "                    </tr>\n",
              "                    <tr>\n",
              "                        <th>MAD</th>\n",
              "                        <td>3.168</td>\n",
              "                    </tr>\n",
              "                    <tr class=\"\">\n",
              "                        <th>Skewness</th>\n",
              "                        <td>0.049369</td>\n",
              "                    </tr>\n",
              "                    <tr>\n",
              "                        <th>Sum</th>\n",
              "                        <td>663680</td>\n",
              "                    </tr>\n",
              "                    <tr>\n",
              "                        <th>Variance</th>\n",
              "                        <td>14.803</td>\n",
              "                    </tr>\n",
              "                    <tr>\n",
              "                        <th>Memory size</th>\n",
              "                        <td>78.2 KiB</td>\n",
              "                    </tr>\n",
              "                </table>\n",
              "            </div>\n",
              "        </div>\n",
              "        <div role=\"tabpanel\" class=\"tab-pane col-md-8 col-md-offset-2\" id=\"histogram-7979378644338927625\">\n",
              "            <img src=\"data:image/png;base64,iVBORw0KGgoAAAANSUhEUgAAAlgAAAGQCAYAAAByNR6YAAAABHNCSVQICAgIfAhkiAAAAAlwSFlzAAAPYQAAD2EBqD%2BnaQAAADh0RVh0U29mdHdhcmUAbWF0cGxvdGxpYiB2ZXJzaW9uMy4xLjIsIGh0dHA6Ly9tYXRwbG90bGliLm9yZy8li6FKAAAgAElEQVR4nO3de3RV5Z3/8U8uJAohl4MkTgEJcisJQURDxoANBge5CF6IhMxSxGIHNEKJpJMqspTCr2BNFjiGhUZHpigzPXKpFQSJCKJSdca2YhLQKQFHzBhzCjmGxARCsn9/8Gt%2BPSRiMM/ZO%2Bf4fq3FQp/nnLO/%2B7uebD/uvbNPiGVZlgAAAGBMqNMFAAAABBsCFgAAgGEELAAAAMMIWAAAAIYRsAAAAAwjYAEAABhGwAIAADCMgAUAAGAYAQsAAMAwAhYAAIBhBCwAAADDCFgAAACGEbAAAAAMI2ABAAAYRsACAAAwjIAFAABgGAELAADAMAIWAACAYQQsAAAAwwhYAAAAhhGwAAAADCNgAQAAGEbAAgAAMIyABQAAYBgBCwAAwDACFgAAgGEELAAAAMMIWAAAAIYRsAAAAAwjYAEAABhGwAIAADCMgAUAAGAYAQsAAMAwAhYAAIBhBCwAAADDCFgAAACGEbAAAAAMI2ABAAAYRsACAAAwLNzpAr4vPJ5TTpcgSQoNDZHL1UsnTzaotdVyupygQ3/9i/76F/31P3rsXx31t2/f3s7U4shW4ZjQ0BCFhIQoNDTE6VKCEv31L/rrX/TX/%2Bixf3Wn/hKwAAAADCNgAQAAGEbAAgAAMIyABQAAYBgBCwAAwDACFgAAgGEELAAAAMMIWAAAAIYRsAAAAAwjYAEAABhGwAIAADCMgAUAAGAYAQsAAMCwcKcLAPD9M2XtAadLuCi7Fo9zugQAAYYzWAAAAIYRsAAAAAwjYAEAABjGPVgA8C24ZwzAxeIMFgAAgGEELAAAAMMIWAAAAIYRsAAAAAwjYAEAABhGwAIAADCMgAUAAGAYAQsAAMAwAhYAAIBhBCwAAADDCFgAAACGEbAAAAAMI2ABAAAYRsACAAAwjIAFAABgGAELAADAMAIWAACAYQQsAAAAwwI2YFVVVSk3N1dpaWlKT0/Xz3/%2Bc9XV1UmSDh8%2BrDvvvFPXXHONJk2apOeff97nvTt37tT06dN19dVX6/bbb9c777zTNtfa2qo1a9Zo4sSJSk1N1bx583T8%2BHFb9w0AAAS2gA1YCxYsUHR0tPbu3att27bpz3/%2Bsx5//HE1NTVp/vz5%2Bvu//3u9/fbbWrNmjZ555hmVlpZKOhe%2BCgoKlJ%2Bfr/fee09z587VAw88oOrqaknSpk2btH37dpWUlGjfvn1KTExUbm6uLMtycncBAEAACciAVVdXp5EjR2rJkiXq1auXLr/8ct1222364IMP9Oabb6q5uVn33XefevbsqeTkZN1xxx1yu92SpM2bNysjI0MZGRmKjIzUjBkzNGzYML3yyiuSJLfbrblz52rw4MGKiopSXl6eKisrdfDgQSd3GQAABJBwpwv4LqKjo7Vq1SqfsS%2B%2B%2BELx8fGqqKjQ8OHDFRYW1jaXlJSkzZs3S5IqKiqUkZHh896kpCSVlZWpqalJR44cUVJSUttcVFSUBg4cqLKyMo0ePbpT9dXU1Mjj8fiMhYf3VHx8/EXtpz%2BEhYX6/A2z6C%2B6g/Dw77b%2BWL/%2BR4/9qzv1NyAD1vnKysr04osvav369dq1a5eio6N95mNjY%2BX1etXa2iqv16uYmBif%2BZiYGB05ckRfffWVLMvqcL62trbT9bjdbhUXF/uM5ebmatGiRRe5Z/4THX2p0yUENfoLJ8XF9erS%2B1m//keP/as79DfgA9Yf/vAH3XfffVqyZInS09O1a9euDl8XEhLS9s/fdj9VV%2B%2B3ys7OVmZmps9YeHhP1dY2dOlzTQgLC1V09KWqq2tUS0ur0%2BUEHfqL7uC7HmtYv/5Hj/2ro/529X84vquADlh79%2B7Vz372My1btky33nqrJMnlcunTTz/1eZ3X61VsbKxCQ0MVFxcnr9fbbt7lcrW9pqP5Pn36dLqu%2BPj4dpcDPZ5TOnu2%2B/wwtbS0dqt6gg39hZO6uvZYv/5Hj/2rO/TX%2BYuU39Ef//hHFRQU6Mknn2wLV5I0cuRIffLJJzp79mzbWFlZma666qq2%2BfLycp/P%2But8ZGSkhg4dqoqKira5uro6ffbZZxo1apSf9wgAAASLgAxYZ8%2Be1SOPPKL8/HyNHz/eZy4jI0NRUVFav369GhsbdfDgQW3ZskU5OTmSpFmzZun3v/%2B93nzzTZ0%2BfVpbtmzRp59%2BqhkzZkiScnJytHHjRlVWVqq%2Bvl6FhYUaMWKEUlJSbN9PAAAQmALyEuGHH36oyspKrVy5UitXrvSZe%2B211/T000/r0UcfVUlJiS677DLl5eVpwoQJkqRhw4apsLBQq1atUlVVlYYMGaJnnnlGffv2lSTNnj1bHo9Hd911lxoaGpSWltbuhnUAAIALCbF4gqYtPJ5TTpcg6dyvb8fF9VJtbYPj16eDEf3tnClrDzhdQlDbtXjcd3of69f/6LF/ddTfvn17O1JLQF4iBAAA6M4IWAAAAIYRsAAAAAwjYAEAABhGwAIAADCMgAUAAGBYQD4HC0B7PPoAALoPzmABAAAYRsACAAAwjIAFAABgGAELAADAMAIWAACAYQQsAAAAwwhYAAAAhhGwAAAADCNgAQAAGEbAAgAAMIyABQAAYBgBCwAAwDACFgAAgGEELAAAAMMIWAAAAIYRsAAAAAwjYAEAABhGwAIAADCMgAUAAGAYAQsAAMAwAhYAAIBhBCwAAADDCFgAAACGEbAAAAAMI2ABAAAYRsACAAAwjIAFAABgGAELAADAMAIWAACAYQQsAAAAwwhYAAAAhhGwAAAADCNgAQAAGEbAAgAAMIyABQAAYBgBCwAAwDACFgAAgGEELAAAAMMIWAAAAIYRsAAAAAwLd7oAAIBZU9YecLqETtu1eJzTJQB%2BwRksAAAAwwhYAAAAhhGwAAAADCNgAQAAGEbAAgAAMIyABQAAYBgBCwAAwDACFgAAgGEELAAAAMMIWAAAAIYFdMB6%2B%2B23lZ6erry8PJ/xbdu26Yc//KFSUlJ8/nz00UeSpNbWVq1Zs0YTJ05Uamqq5s2bp%2BPHj7e93%2Bv1avHixUpPT9f48eO1dOlSNTU12bpvAAAgcAVswHr22We1cuVKDRw4sMP51NRUlZWV%2BfwZNWqUJGnTpk3avn27SkpKtG/fPiUmJio3N1eWZUmSli1bpsbGRu3YsUNbt25VZWWlCgsLbds3AAAQ2AI2YEVGRmrLli3fGLAuxO12a%2B7cuRo8eLCioqKUl5enyspKHTx4UH/5y1%2B0Z88e5eXlyeVyKSEhQffff7%2B2bt2q5uZmP%2BwJAAAINgEbsObMmaPevXt/4/wXX3yhe%2B65R6mpqZo4caJ%2B97vfSZKampp05MgRJSUltb02KipKAwcOVFlZmQ4fPqywsDANHz68bT45OVlff/21jh496r8dAgAAQSPc6QL8weVyKTExUQ8%2B%2BKCGDBmi119/Xf/8z/%2Bs%2BPh4XXnllbIsSzExMT7viYmJUW1trWJjYxUVFaWQkBCfOUmqra3t1PZramrk8Xh8xsLDeyo%2BPr6Le9Z1YWGhPn/DLPoLXJzw8O/XzwrHCP/qTv0NyoA1YcIETZgwoe3fp02bptdff13btm1Tfn6%2BJLXdb9WRC811htvtVnFxsc9Ybm6uFi1a1KXPNSk6%2BlKnSwhq9BfonLi4Xk6X4AiOEf7VHfoblAGrI/369VN5ebliY2MVGhoqr9frM%2B/1etWnTx%2B5XC7V19erpaVFYWFhbXOS1KdPn05tKzs7W5mZmT5j4eE9VVvbYGBPuiYsLFTR0Zeqrq5RLS2tTpcTdOgvcHG6w3HRThwj/Kuj/joV4oMyYP3Hf/yHYmJiNHXq1LaxyspKDRgwQJGRkRo6dKgqKio0duxYSVJdXZ0%2B%2B%2BwzjRo1Sv369ZNlWfr444%2BVnJwsSSorK1N0dLQGDRrUqe3Hx8e3uxzo8ZzS2bPd54eppaW1W9UTbOgv0Dnf158TjhH%2B1R366/xFSj84c%2BaMVqxYobKyMjU3N2vHjh166623NHv2bElSTk6ONm7cqMrKStXX16uwsFAjRoxQSkqKXC6XbrrpJq1du1YnT55UdXW11q1bp6ysLIWHB2UeBQAAhgVsYkhJSZEknT17VpK0Z88eSefONs2ZM0cNDQ366U9/Ko/Ho/79%2B2vdunUaOXKkJGn27NnyeDy666671NDQoLS0NJ97pn7xi1/o0Ucf1cSJE9WjRw/dfPPN7R5mCgAA8E1CrK7e0Y1O8XhOOV2CpHO/sRMX10u1tQ2Onz4NRk72d8raA7ZuDzBh1%2BJxTpdgK47B/tVRf/v2/eZHOvlTUF4iBAAAcBIBCwAAwDACFgAAgGEELAAAAMMIWAAAAIYRsAAAAAwjYAEAABhGwAIAADCMgAUAAGCY7QErMzNTxcXF%2BuKLL%2BzeNAAAgC1sD1gzZ87Uzp07deONN%2Bree%2B9VaWlp2/cJAgAABAPbA1Zubq527typl156SUOHDtUvf/lLZWRk6IknntCxY8fsLgcAAMA4x%2B7BSk5OVkFBgfbt26eHH35YL730kqZOnap58%2Bbpo48%2BcqosAACALnMsYDU3N2vnzp36yU9%2BooKCAiUkJOihhx7SiBEjNHfuXG3fvt2p0gAAALok3O4NVlZWasuWLXr55ZfV0NCgm266Sb/%2B9a91zTXXtL0mNTVVjz32mKZPn253eQAAAF1me8CaNm2aBg0apPnz5%2BvWW29VbGxsu9dkZGTo5MmTdpcGAABghO0Ba%2BPGjRo7duy3vu7gwYM2VAMAAGCe7fdgDR8%2BXAsWLNCePXvaxv7t3/5NP/nJT%2BT1eu0uBwAAwDjbA9aqVat06tQpDRkypG1swoQJam1t1erVq%2B0uBwAAwDjbLxG%2B88472r59u%2BLi4trGEhMTVVhYqJtvvtnucgAAAIyz/QxWU1OTIiMj2xcSGqrGxka7ywEAADDO9oCVmpqq1atX66uvvmob%2B/LLL7V8%2BXKfRzUAAAAEKtsvET788MP68Y9/rOuuu05RUVFqbW1VQ0ODBgwYoBdeeMHucgAAAIyzPWANGDBAr776qt566y199tlnCg0N1aBBgzR%2B/HiFhYXZXQ4AAIBxtgcsSYqIiNCNN97oxKYBAAD8zvaAdfz4cRUVFenPf/6zmpqa2s2/8cYbdpcEAABglCP3YNXU1Gj8%2BPHq2bOn3ZsHAADwO9sDVnl5ud544w25XC67Nw0AAGAL2x/T0KdPH85cAQCAoGZ7wJo/f76Ki4tlWZbdmwYAALCF7ZcI33rrLf3xj3/Utm3b1L9/f4WG%2Bma83/zmN3aXBAAAYJTtASsqKko/%2BtGP7N4sAACAbWwPWKtWrbJ7kwAAALay/R4sSTp69KieeuopPfTQQ21jf/rTn5woBQAAwDjbA9a7776rGTNmqLS0VDt27JB07uGjc%2BbM4SGjAAAgKNgesNasWaOf/exn2r59u0JCQiSd%2B37C1atXa926dXaXAwAAYJztAeu///u/lZOTI0ltAUuSJk%2BerMrKSrvLAQAAMM72gNW7d%2B8Ov4OwpqZGERERdpcDAABgnO0Ba8yYMfrlL3%2Bp%2Bvr6trFjx46poKBA1113nd3lAAAAGGf7Yxoeeugh3X333UpLS1NLS4vGjBmjxsZGDR06VKtXr7a7HAAAAONsD1iXX365duzYof379%2BvYsWO65JJLNGjQII0bN87nniwAAIBAZXvAkqQePXroxhtvdGLTAAAAfmd7wMrMzLzgmSqehQUAAAKd7QFr6tSpPgGrpaVFx44dU1lZme6%2B%2B267ywEAADDO9oCVn5/f4fju3bv1/vvv21wNAACAeY58F2FHbrzxRr366qtOlwEAANBl3SZgHTp0SJZlOV0GAABAl9l%2BiXD27NntxhobG1VZWalJkybZXQ4AAIBxtgesxMTEdr9FGBkZqaysLN1xxx12lwMAAGCc7QGLp7UDAIBgZ3vAevnllzv92ltvvdWPlQAAAPiH7QFr6dKlam1tbXdDe0hIiM9YSEgIAQsAAAQk2wPWc889p%2Beff14LFizQ8OHDZVmWPvnkEz377LO68847lZaWZndJAAAARjlyD1ZJSYkSEhLaxq699loNGDBA8%2BbN044dO%2BwuCQAAwCjbn4P16aefKiYmpt14dHS0qqqq7C4HAADAONsDVr9%2B/bR69WrV1ta2jdXV1amoqEhXXHGF3eUAAAAYZ/slwocfflhLliyR2%2B1Wr169FBoaqvr6el1yySVat26d3eUAAAAYZ3vAGj9%2BvN58803t379f1dXVsixLCQkJuv7669W7d2%2B7ywEAADDO9oAlSZdeeqkmTpyo6upqDRgwwIkSAAAA/Mb2e7CamppUUFCgq6%2B%2BWlOmTJF07h6se%2B%2B9V3V1dRf1WW%2B//bbS09OVl5fXbm7nzp2aPn26rr76at1%2B%2B%2B1655132uZaW1u1Zs0aTZw4UampqZo3b56OHz/eNu/1erV48WKlp6dr/PjxWrp0qZqamr7jHgMAgO8b2wPWE088ocOHD6uwsFChof9/8y0tLSosLOz05zz77LNauXKlBg4c2G7u8OHDKigoUH5%2Bvt577z3NnTtXDzzwgKqrqyVJmzZt0vbt21VSUqJ9%2B/YpMTFRubm5bQ86XbZsmRobG7Vjxw5t3bpVlZWVF1UbAAD4frM9YO3evVv/8i//osmTJ7d96XN0dLRWrVql0tLSTn9OZGSktmzZ0mHA2rx5szIyMpSRkaHIyEjNmDFDw4YN0yuvvCJJcrvdmjt3rgYPHqyoqCjl5eWpsrJSBw8e1F/%2B8hft2bNHeXl5crlcSkhI0P3336%2BtW7equbnZTBMAAEBQs/0erIaGBiUmJrYbd7lc%2Bvrrrzv9OXPmzPnGuYqKCmVkZPiMJSUlqaysTE1NTTpy5IiSkpLa5qKiojRw4ECVlZXp1KlTCgsL0/Dhw9vmk5OT9fXXX%2Bvo0aM%2B49%2BkpqZGHo/HZyw8vKfi4%2BM7u3t%2BExYW6vM3zKK/wMUJD/9%2B/axwjPCv7tRf2wPWFVdcoffff19paWk%2B3z342muv6Qc/%2BIGRbXi93nYPM42JidGRI0f01VdfybKsDudra2sVGxurqKiotrNrf52T5PPsrgtxu90qLi72GcvNzdWiRYu%2By%2B74RXT0pU6XENToL9A5cXG9nC7BERwj/Ks79Nf2gPWP//iPWrhwoWbOnKnW1lZt2LBB5eXl2r17t5YuXWpsO%2Bd/mfTFzH/be79Ndna2MjMzfcbCw3uqtrahS59rQlhYqKKjL1VdXaNaWlqdLifo0F/g4nSH46KdOEb4V0f9dSrE2x6wsrOzFR4erhdffFFhYWF6%2BumnNWjQIBUWFmry5MlGthEXFyev1%2Bsz5vV65XK5FBsbq9DQ0A7n%2B/TpI5fLpfr6erW0tCgsLKxtTpL69OnTqe3Hx8e3uxzo8ZzS2bPd54eppaW1W9UTbOgv0Dnf158TjhH%2B1R36a3vAOnnypGbOnKmZM2f6bRsjR45UeXm5z1hZWZmmTZumyMhIDR06VBUVFRo7dqykc4%2BJ%2BOyzzzRq1Cj169dPlmXp448/VnJyctt7o6OjNWjQIL/VDAAAgoftd4FNnDixy5fgvs2sWbP0%2B9//Xm%2B%2B%2BaZOnz6tLVu26NNPP9WMGTMkSTk5Odq4caMqKytVX1%2BvwsJCjRgxQikpKXK5XLrpppu0du1anTx5UtXV1Vq3bp2ysrIUHu7Ic1kBAECAsT0xpKWladeuXZo6dWqXPiclJUWSdPbsWUnSnj17JJ072zRs2DAVFhZq1apVqqqq0pAhQ/TMM8%2Bob9%2B%2BkqTZs2fL4/HorrvuUkNDg9LS0nxuSv/FL36hRx99VBMnTlSPHj108803d/gwUwAAgI6EWP4%2BnXSe5cuXq7S0VH379tUVV1yhHj16%2BMwXFRXZWY5tPJ5TTpcg6dyvRMfF9VJtbYPj16eDkZP9nbL2gK3bA0zYtXic0yXYimOwf3XU3759nfmeY9vPYB05ckRXXnmlpM4/9gAAACCQ2Baw8vLytGbNGr3wwgttY%2BvWrVNubq5dJQAAANjCtpvc9%2B7d226spKTErs0DAADYxrYzWB3d6mXz7V/AReGeJgDAd2XbGay//eqZC40BAAAEOue/DREAACDIELAAAAAMs%2B0erObmZi1ZsuRbx4L1OVgAAOD7w7aAdc0116impuZbxwAAAAKdbQHrb59/BQAAEMy4BwsAAMAwAhYAAIBhBCwAAADDCFgAAACGEbAAAAAMI2ABAAAYRsACAAAwjIAFAABgGAELAADAMAIWAACAYQQsAAAAwwhYAAAAhhGwAAAADCNgAQAAGEbAAgAAMIyABQAAYFi40wUAAL6/pqw94HQJF2XX4nFOl4AAwRksAAAAwwhYAAAAhhGwAAAADCNgAQAAGEbAAgAAMIyABQAAYBgBCwAAwDACFgAAgGEELAAAAMMIWAAAAIYRsAAAAAwjYAEAABhGwAIAADCMgAUAAGAYAQsAAMAwAhYAAIBhBCwAAADDCFgAAACGEbAAAAAMI2ABAAAYRsACAAAwjIAFAABgGAELAADAMAIWAACAYQQsAAAAwwhYAAAAhhGwAAAADCNgAQAAGEbAAgAAMIyABQAAYBgBCwAAwLCgDVjDhw/XyJEjlZKS0vZnxYoVkqR3331XWVlZGjNmjKZNm6ZXXnnF570bN27UTTfdpDFjxignJ0fl5eVO7AIAAAhQ4U4X4E%2Bvvfaa%2Bvfv7zNWU1Oj%2B%2B%2B/X0uXLtX06dP1hz/8Qffdd58GDRqklJQU7d27V0899ZSee%2B45DR8%2BXBs3btSCBQtUWlqqnj17OrQnAAAgkATtGaxvsn37diUmJiorK0uRkZFKT09XZmamNm/eLElyu926/fbbddVVV%2BmSSy7RvffeK0nat2%2Bfk2UDAIAAEtQBq6ioSBMmTNC1116rZcuWqaGhQRUVFUpKSvJ5XVJSUttlwPPnQ0NDNWLECJWVldlaOwAACFxBe4lw9OjRSk9P1%2BOPP67jx49r8eLFWr58ubxerxISEnxeGxsbq9raWkmS1%2BtVTEyMz3xMTEzbfGfU1NTI4/H4jIWH91R8fPx33BtzwsJCff4GAHReeHjXjp0cg/2rO/U3aAOW2%2B1u%2B%2BfBgwcrPz9f9913n6655ppvfa9lWV3ednFxsc9Ybm6uFi1a1KXPNSk6%2BlKnSwCAgBMX18vI53AM9q/u0N%2BgDVjn69%2B/v1paWhQaGiqv1%2BszV1tbK5fLJUmKi4trN%2B/1ejV06NBObys7O1uZmZk%2BY%2BHhPVVb2/AdqzcnLCxU0dGXqq6uUS0trU6XAwABpavHcY7B/tVRf02F4osVlAHr0KFDeuWVV/Tzn/%2B8bayyslIRERHKyMjQb3/7W5/Xl5eX66qrrpIkjRw5UhUVFbrtttskSS0tLTp06JCysrI6vf34%2BPh2lwM9nlM6e7b7/DC1tLR2q3oAIBCYOm5yDPav7tBf5y9S%2BkGfPn3kdrtVUlKiM2fO6NixY3ryySeVnZ2tW265RVVVVdq8ebNOnz6t/fv3a//%2B/Zo1a5YkKScnRy%2B//LI%2B/PBDNTY2av369YqIiNCECROc3SkAABAwgvIMVkJCgkpKSlRUVNQWkG677Tbl5eUpMjJSzzzzjFauXKnly5erX79%2BeuKJJ/TDH/5QkvSjH/1IDz74oBYvXqwTJ04oJSVFJSUluuSSSxzeKwAAEChCrK7e0Y1O8XhOOV2CpHO/ARMX10u1tQ2Onz7t7qasPeB0CQC6mV2Lx3Xp/RyD/auj/vbt29uRWoLyEiEAAICTCFgAAACGEbAAAAAMI2ABAAAYRsACAAAwjIAFAABgGAELAADAMAIWAACAYQQsAAAAwwhYAAAAhhGwAAAADCNgAQAAGEbAAgAAMIyABQAAYBgBCwAAwDACFgAAgGEELAAAAMMIWAAAAIYRsAAAAAwjYAEAABhGwAIAADCMgAUAAGAYAQsAAMAwAhYAAIBhBCwAAADDCFgAAACGEbAAAAAMI2ABAAAYRsACAAAwjIAFAABgGAELAADAMAIWAACAYQQsAAAAw8KdLgDfH1PWHnC6BAAAbMEZLAAAAMMIWAAAAIYRsAAAAAwjYAEAABhGwAIAADCMgAUAAGAYj2kAAKCTAu1xM7sWj3O6hO8tzmABAAAYRsACAAAwjIAFAABgGAELAADAMAIWAACAYQQsAAAAwwhYAAAAhhGwAAAADCNgAQAAGEbAAgAAMIyABQAAYBgBCwAAwDACFgAAgGEELAAAAMMIWAAAAIYRsAAAAAwjYAEAABhGwAIAADCMgNWBqqoq/dM//ZPS0tJ0ww036IknnlBra6vTZQEAgAAR7nQB3dHChQuVnJysPXv26MSJE5o/f74uu%2Bwy3XPPPU6X1s6UtQecLgEA0E0F0n8jdi0e53QJRnEG6zxlZWX6%2BOOPlZ%2Bfr969eysxMVFz586V2%2B12ujQAABAgOIN1noqKCvXr108xMTFtY8nJyTp27Jjq6%2BsVFRX1rZ9RU1Mjj8fjMxYe3lPx8fHG6wUAIBiEh3f9nE9YWKjP304iYJ3H6/UqOjraZ%2ByvYau2trZTAcvtdqu4uNhn7IEHHtDChQvNFfr/fPB/Jl/U62tqauR2u5WdnU3g8wP661/017/or//RY/%2BqqanRr3/9XLfor/MRrxuyLKtL78/Ozta2bdt8/mRnZxuqrms8Ho%2BKi4vbnWGDGfTXv%2Bivf9Ff/6PH/tWd%2BssZrPO4XC55vV6fMa/Xq5CQELlcrk59Rnx8vOPJGQAAOIczWOcZOXKkvvjiC508ebJtrKysTEOGDFGvXr0crAwAAAQKAtZ5kpKSlJKSoqKiItXX16uyslIbNmxQTk6O06UBAIAAEfbYY4895nQR3c3111%2BvHTt2aMWKFXr11VeVlZWlefPmKSQkxOnSjOjVq5fGjh3LGTk/ob/%2BRX/9i/76Hz32r%2B7S3xCrq3d0AwAAwAeXCAEAAAwjYAEAABhGwAIAADCMgAUAAGAYAQsAAMAwAhYAAIBhBCwAAADDCFgAAACGEbAAAAAMC3e6AJH71HAAAAYdSURBVPjP8OHD1aNHD5%2Bv%2BJk1a5YmTZqkOXPmKCIiwuf1v/rVrzRlyhS7ywxo69ev16ZNm1RfX6/Ro0dr5cqV6t%2B/v959910VFRXp6NGj%2Bru/%2BzvNnz9fM2bMcLrcgNNRf6uqqli/XfRf//Vf%2BvGPf%2BwzZlmWmpub9cknn7B%2BDbhQjzdu3MgaNuDQoUNavXq1Dh06pMjISF133XV6%2BOGH5XK5uscathC0hg0bZh0/frzd%2BHvvvWfdcMMNDlQUXF588UVr8uTJVmVlpXXq1ClrxYoV1ooVK6wvv/zSGj16tLV582arqanJOnDggDVq1Cjro48%2BcrrkgPJN/WX9%2Bsf69eutn/70p6xfP/prj1nDXdfc3GyNGzfOKioqsk6fPm2dPHnSuueee6yFCxd2mzXMGSzgO3r%2B%2BedVUFCgK6%2B8UpL0yCOPSJL%2B9V//VYmJicrKypIkpaenKzMzU5s3b1ZKSopj9Qaab%2Brv%2B%2B%2B/72RZQel///d/tWHDBv32t7/V9u3bWb9%2B8Lc9Pn78uNPlBDyPxyOPx6NbbrlFERERioiI0D/8wz/o%2Beef7zZrmHuwglxRUZEmTJiga6%2B9VsuWLVNDQ4MkqaGhQbm5uUpLS9P111%2BvDRs2yOJ7vzvtyy%2B/1Oeff66vvvpKU6dOVVpamhYtWqSTJ0%2BqoqJCSUlJPq9PSkpSeXm5Q9UGngv1V2L9mvbkk09q5syZ%2BsEPfsD69ZO/7bHEGu6qhIQEjRgxQm63Ww0NDTpx4oRKS0s1YcKEbrOGCVhBbPTo0UpPT1dpaancbrc%2B/PBDLV%2B%2BXFFRURo2bJjuvvtuvf3221q1apWKi4u1detWp0sOGNXV1ZKk1157TRs2bNDvfvc7VVdX65FHHpHX61V0dLTP62NjY1VbW%2BtEqQHpQv1l/Zr1%2Beefq7S0VPfcc48ksX794Pwes4a7LjQ0VE899ZTeeOMNjRkzRunp6Tp79qyWLFnSbdYwASuIud1u3XHHHYqIiNDgwYOVn5%2BvHTt2aOjQoXrhhRc0duxYRUREaPz48Zo9e7a2bdvmdMkB46//p3nvvfcqISFBl19%2BuRYuXKi9e/c6XFlwuFB/hwwZwvo1aNOmTZo0aZL69u3rdClB6/weJycns4a76MyZM1qwYIEmT56sDz74QG%2B99ZZ69%2B6t/Px8p0trQ8D6Hunfv79aWlp04sSJdnP9%2BvVTTU2NA1UFpssuu0ySfP4vqV%2B/fm2/JeT1en1eX1tbK5fLZWuNgexC/WX9mrV7925lZma2/XtcXBzr17Dze9wR1vDFeffdd/X555/rwQcfVO/evZWQkKBFixbp9ddfV2hoaLdYwwSsIPXXX1/9W5WVlYqIiNCf/vQn/fu//7vP3NGjRzVgwAA7Swxol19%2BuaKionT48OG2saqqKvXo0UMZGRntrvWXl5frqquusrvMgHWh/h48eJD1a8jhw4dVVVWlcePGtY2lpKSwfg3qqMe7du1iDXdRS0uLWltbfe5bO3PmjKRzN7V3hzVMwApSffr0kdvtVklJic6cOaNjx47pySefVHZ2tiIiIvT444/rnXfeUXNzsw4cOKCtW7cqJyfH6bIDRnh4uLKysvT000/rf/7nf3TixAmtW7dO06dP12233aaqqipt3rxZp0%2Bf1v79%2B7V//37NmjXL6bIDxoX626NHD9avIYcOHVJsbKyioqLaxqZPn876NaijHrOGu%2B7qq69Wz5499dRTT6mxsVG1tbVav369UlNTdcstt3SPNWzrQyFgq//8z/%2B0srOzrdGjR1tjx461Vq1aZTU1NVmWZVm/%2Bc1vrEmTJlkpKSnWDTfcYL300ksOVxt4Tp8%2BbT322GNWamqqNXr0aKugoMCqr6%2B3LOtc72fMmGElJydbkyZNsnbv3u1wtYHnQv1l/Zrx9NNPW9OmTWs3zvo155t6zBruurKyMuvOO%2B%2B0rr32Wis9Pd1avHixVV1dbVlW91jDIZbF74UCAACYxCVCAAAAwwhYAAAAhhGwAAAADCNgAQAAGEbAAgAAMIyABQAAYBgBCwAAwDACFgAAgGEELAAAAMMIWAAAAIYRsAAAAAwjYAEAABhGwAIAADDs/wKip730/tQW5gAAAABJRU5ErkJggg%3D%3D\"/>\n",
              "        </div>\n",
              "        <div role=\"tabpanel\" class=\"tab-pane col-md-12\" id=\"common-7979378644338927625\">\n",
              "            \n",
              "<table class=\"freq table table-hover\">\n",
              "    <thead>\n",
              "    <tr>\n",
              "        <td class=\"fillremaining\">Value</td>\n",
              "        <td class=\"number\">Count</td>\n",
              "        <td class=\"number\">Frequency (%)</td>\n",
              "        <td style=\"min-width:200px\">&nbsp;</td>\n",
              "    </tr>\n",
              "    </thead>\n",
              "    <tr class=\"\">\n",
              "        <td class=\"fillremaining\">63.7878975280429</td>\n",
              "        <td class=\"number\">1</td>\n",
              "        <td class=\"number\">0.0%</td>\n",
              "        <td>\n",
              "            <div class=\"bar\" style=\"width:1%\">&nbsp;</div>\n",
              "        </td>\n",
              "</tr><tr class=\"\">\n",
              "        <td class=\"fillremaining\">70.2249233263794</td>\n",
              "        <td class=\"number\">1</td>\n",
              "        <td class=\"number\">0.0%</td>\n",
              "        <td>\n",
              "            <div class=\"bar\" style=\"width:1%\">&nbsp;</div>\n",
              "        </td>\n",
              "</tr><tr class=\"\">\n",
              "        <td class=\"fillremaining\">67.89928382993659</td>\n",
              "        <td class=\"number\">1</td>\n",
              "        <td class=\"number\">0.0%</td>\n",
              "        <td>\n",
              "            <div class=\"bar\" style=\"width:1%\">&nbsp;</div>\n",
              "        </td>\n",
              "</tr><tr class=\"\">\n",
              "        <td class=\"fillremaining\">67.7198142648655</td>\n",
              "        <td class=\"number\">1</td>\n",
              "        <td class=\"number\">0.0%</td>\n",
              "        <td>\n",
              "            <div class=\"bar\" style=\"width:1%\">&nbsp;</div>\n",
              "        </td>\n",
              "</tr><tr class=\"\">\n",
              "        <td class=\"fillremaining\">62.7730414686307</td>\n",
              "        <td class=\"number\">1</td>\n",
              "        <td class=\"number\">0.0%</td>\n",
              "        <td>\n",
              "            <div class=\"bar\" style=\"width:1%\">&nbsp;</div>\n",
              "        </td>\n",
              "</tr><tr class=\"\">\n",
              "        <td class=\"fillremaining\">75.57243873603541</td>\n",
              "        <td class=\"number\">1</td>\n",
              "        <td class=\"number\">0.0%</td>\n",
              "        <td>\n",
              "            <div class=\"bar\" style=\"width:1%\">&nbsp;</div>\n",
              "        </td>\n",
              "</tr><tr class=\"\">\n",
              "        <td class=\"fillremaining\">69.9628111350435</td>\n",
              "        <td class=\"number\">1</td>\n",
              "        <td class=\"number\">0.0%</td>\n",
              "        <td>\n",
              "            <div class=\"bar\" style=\"width:1%\">&nbsp;</div>\n",
              "        </td>\n",
              "</tr><tr class=\"\">\n",
              "        <td class=\"fillremaining\">73.0128632629827</td>\n",
              "        <td class=\"number\">1</td>\n",
              "        <td class=\"number\">0.0%</td>\n",
              "        <td>\n",
              "            <div class=\"bar\" style=\"width:1%\">&nbsp;</div>\n",
              "        </td>\n",
              "</tr><tr class=\"\">\n",
              "        <td class=\"fillremaining\">66.1668762591729</td>\n",
              "        <td class=\"number\">1</td>\n",
              "        <td class=\"number\">0.0%</td>\n",
              "        <td>\n",
              "            <div class=\"bar\" style=\"width:1%\">&nbsp;</div>\n",
              "        </td>\n",
              "</tr><tr class=\"\">\n",
              "        <td class=\"fillremaining\">64.9305300745508</td>\n",
              "        <td class=\"number\">1</td>\n",
              "        <td class=\"number\">0.0%</td>\n",
              "        <td>\n",
              "            <div class=\"bar\" style=\"width:1%\">&nbsp;</div>\n",
              "        </td>\n",
              "</tr><tr class=\"other\">\n",
              "        <td class=\"fillremaining\">Other values (9990)</td>\n",
              "        <td class=\"number\">9990</td>\n",
              "        <td class=\"number\">99.9%</td>\n",
              "        <td>\n",
              "            <div class=\"bar\" style=\"width:100%\">&nbsp;</div>\n",
              "        </td>\n",
              "</tr>\n",
              "</table>\n",
              "        </div>\n",
              "        <div role=\"tabpanel\" class=\"tab-pane col-md-12\"  id=\"extreme-7979378644338927625\">\n",
              "            <p class=\"h4\">Minimum 5 values</p>\n",
              "            \n",
              "<table class=\"freq table table-hover\">\n",
              "    <thead>\n",
              "    <tr>\n",
              "        <td class=\"fillremaining\">Value</td>\n",
              "        <td class=\"number\">Count</td>\n",
              "        <td class=\"number\">Frequency (%)</td>\n",
              "        <td style=\"min-width:200px\">&nbsp;</td>\n",
              "    </tr>\n",
              "    </thead>\n",
              "    <tr class=\"\">\n",
              "        <td class=\"fillremaining\">54.2631333250971</td>\n",
              "        <td class=\"number\">1</td>\n",
              "        <td class=\"number\">0.0%</td>\n",
              "        <td>\n",
              "            <div class=\"bar\" style=\"width:100%\">&nbsp;</div>\n",
              "        </td>\n",
              "</tr><tr class=\"\">\n",
              "        <td class=\"fillremaining\">54.616857830103505</td>\n",
              "        <td class=\"number\">1</td>\n",
              "        <td class=\"number\">0.0%</td>\n",
              "        <td>\n",
              "            <div class=\"bar\" style=\"width:100%\">&nbsp;</div>\n",
              "        </td>\n",
              "</tr><tr class=\"\">\n",
              "        <td class=\"fillremaining\">54.873727531525404</td>\n",
              "        <td class=\"number\">1</td>\n",
              "        <td class=\"number\">0.0%</td>\n",
              "        <td>\n",
              "            <div class=\"bar\" style=\"width:100%\">&nbsp;</div>\n",
              "        </td>\n",
              "</tr><tr class=\"\">\n",
              "        <td class=\"fillremaining\">55.1485573624105</td>\n",
              "        <td class=\"number\">1</td>\n",
              "        <td class=\"number\">0.0%</td>\n",
              "        <td>\n",
              "            <div class=\"bar\" style=\"width:100%\">&nbsp;</div>\n",
              "        </td>\n",
              "</tr><tr class=\"\">\n",
              "        <td class=\"fillremaining\">55.336492408949006</td>\n",
              "        <td class=\"number\">1</td>\n",
              "        <td class=\"number\">0.0%</td>\n",
              "        <td>\n",
              "            <div class=\"bar\" style=\"width:100%\">&nbsp;</div>\n",
              "        </td>\n",
              "</tr>\n",
              "</table>\n",
              "            <p class=\"h4\">Maximum 5 values</p>\n",
              "            \n",
              "<table class=\"freq table table-hover\">\n",
              "    <thead>\n",
              "    <tr>\n",
              "        <td class=\"fillremaining\">Value</td>\n",
              "        <td class=\"number\">Count</td>\n",
              "        <td class=\"number\">Frequency (%)</td>\n",
              "        <td style=\"min-width:200px\">&nbsp;</td>\n",
              "    </tr>\n",
              "    </thead>\n",
              "    <tr class=\"\">\n",
              "        <td class=\"fillremaining\">78.0958674715774</td>\n",
              "        <td class=\"number\">1</td>\n",
              "        <td class=\"number\">0.0%</td>\n",
              "        <td>\n",
              "            <div class=\"bar\" style=\"width:100%\">&nbsp;</div>\n",
              "        </td>\n",
              "</tr><tr class=\"\">\n",
              "        <td class=\"fillremaining\">78.4620529193772</td>\n",
              "        <td class=\"number\">1</td>\n",
              "        <td class=\"number\">0.0%</td>\n",
              "        <td>\n",
              "            <div class=\"bar\" style=\"width:100%\">&nbsp;</div>\n",
              "        </td>\n",
              "</tr><tr class=\"\">\n",
              "        <td class=\"fillremaining\">78.5282104258694</td>\n",
              "        <td class=\"number\">1</td>\n",
              "        <td class=\"number\">0.0%</td>\n",
              "        <td>\n",
              "            <div class=\"bar\" style=\"width:100%\">&nbsp;</div>\n",
              "        </td>\n",
              "</tr><tr class=\"\">\n",
              "        <td class=\"fillremaining\">78.621373968548</td>\n",
              "        <td class=\"number\">1</td>\n",
              "        <td class=\"number\">0.0%</td>\n",
              "        <td>\n",
              "            <div class=\"bar\" style=\"width:100%\">&nbsp;</div>\n",
              "        </td>\n",
              "</tr><tr class=\"\">\n",
              "        <td class=\"fillremaining\">78.99874234638959</td>\n",
              "        <td class=\"number\">1</td>\n",
              "        <td class=\"number\">0.0%</td>\n",
              "        <td>\n",
              "            <div class=\"bar\" style=\"width:100%\">&nbsp;</div>\n",
              "        </td>\n",
              "</tr>\n",
              "</table>\n",
              "        </div>\n",
              "    </div>\n",
              "</div>\n",
              "</div><div class=\"row variablerow ignore\">\n",
              "    <div class=\"col-md-3 namecol\">\n",
              "        <p class=\"h4 pp-anchor\" id=\"pp_var_Weight\"><s>Weight</s><br/>\n",
              "            <small>Highly correlated</small>\n",
              "        </p>\n",
              "    </div><div class=\"col-md-3\">\n",
              "    <p><em>This variable is highly correlated with <a href=\"#pp_var_Height\"><code>Height</code></a> and should be ignored for analysis</em></p>\n",
              "</div>\n",
              "<div class=\"col-md-6\">\n",
              "    <table class=\"stats \">\n",
              "        <tr>\n",
              "            <th>Correlation</th>\n",
              "            <td>0.92476</td>\n",
              "        </tr>\n",
              "    </table>\n",
              "</div>\n",
              "</div>\n",
              "    <div class=\"row headerrow highlight\">\n",
              "        <h1>Correlations</h1>\n",
              "    </div>\n",
              "    <div class=\"row variablerow\">\n",
              "    <img src=\"data:image/png;base64,iVBORw0KGgoAAAANSUhEUgAAAlsAAAIQCAYAAAC2WqveAAAABHNCSVQICAgIfAhkiAAAAAlwSFlzAAAPYQAAD2EBqD%2BnaQAAADh0RVh0U29mdHdhcmUAbWF0cGxvdGxpYiB2ZXJzaW9uMy4xLjIsIGh0dHA6Ly9tYXRwbG90bGliLm9yZy8li6FKAAAgAElEQVR4nOzdeXyNZ/7/8XcWEkRCSMJoiqpYklBajX0JGkPbtGr/TWvppipIaUtVq8rotFHG0kW/X8qMajq0qC7amGr7LV3sRypFpKgi0eQggmzn94dxxpHcJO7cTsLr%2BXicB7nuJZ9cM%2BZ85n1duY%2BHw%2BFwCAAAAJbwdHcBAAAA1zOaLQAAAAvRbAEAAFiIZgsAAMBCNFsAAAAWotkCAACwEM0WAACAhWi2AAAALESzBQAAYCGaLQAAAAt5u7sAACXTpEkTw2OVKlVSjRo1FBERofvuu08xMTHy8PC4htUBAIx48NmIQMVwodlq0aKFgoKCXI6dO3dO%2B/fv1%2B%2B//y5J6tatm%2BbOnavKlStf8zoBAK5otoAK4kKztWDBAvXo0aPYc5KSkvT0008rJydHI0aM0LPPPnstSwQAFIM9W8B1pEePHho/frwkafny5Tp37pybKwIAsGcLuM7cddddevnll3XmzBn9/PPPatWqlcvxTZs2admyZdq%2Bfbvsdrv8/PzUtGlTPfDAA7rnnnuKvafdbtfixYv19ddf68CBA8rNzVVAQIBatGih4cOHKyoqqsg10dHROnz4sN555x2dO3dOs2fP1qFDh/Tuu%2B/q9ttvlyTt2bNHixYt0ubNm3Xs2DF5e3srODhYd955p/7yl78Uu0/t1KlTWrJkidavX68DBw4oLy9PtWvXVuvWrTVs2DBFRka6nP/bb7%2Bpe/fukqSdO3cqNTVVb775prZt2ya73a7g4GB1795d8fHxqlq16lXNOQBcDskWcJ2pUaOG8%2B8nT550OTZ79mwNGzZMX375pfz8/BQVFaXAwEBt2rRJEyZM0Lhx41RQUOByTUZGhvr27au33npL%2B/fvV/PmzdW2bVtVrlxZX331lYYOHaqVK1ca1rN//37Fx8erUqVKatu2rXx9fSVJP/74ox544AF99NFHOnfunG6//Xa1atVK2dnZ%2BuCDDzRgwABt2rTJ5V6HDx/W/fffr3nz5mnfvn1q2rSp2rZtK4fDobVr12rAgAFasWKFYS1bt27VkCFDlJycrKZNm6phw4Y6fPiwli5dqri4uBLPMQCUigNAhRAWFuYICwtzfPnll5c9LzU11Xnuzp07neNffPGFIywszNGmTRvHDz/84HLNjz/%2B6Gjfvr0jLCzMsXjxYpdj06dPd4SFhTliYmIcx48fd47n5%2Bc7ZsyY4QgLC3PcfvvtjuzsbJfrunXr5ggLC3NER0c73nzzzSJ19u/f3xEWFuZ45ZVXHAUFBS73nT17tiMsLMxx9913u1wzZMgQR1hYmKNv376OY8eOOccLCgoc8%2BbNc4SFhTkiIiIc%2B/fvdx47dOiQcz66du3qWLhwoaOwsNB5/KOPPnIe37179%2BWmFgCuCskWcJ354osvJEkBAQFq1qyZc/zNN9%2BUJD377LO68847Xa5p06aNnnnmGUnSkiVLXI4FBwerT58%2BGj16tGrVquUc9/LyUnx8vDw9PXXq1Clt37692HoKCwv12GOPFRnfvXu3JKlv377y9Pzv/xR5eXlpzJgxGjNmjB588EHl5uZKknbs2KHNmzdLkl599VUFBwc7r/H09NTo0aMVHh6u3Nxcvf/%2B%2B8XW0rhxYz366KMuj8WIjY1VYGCg83sAQFljzxZwHfn666/19ttvS5IeeeQReXuf/yd%2B7NgxJScnS5J69uxZ7LU9evSQh4eHfv/9d6Wlpalhw4aSpEcffdTw%2B1WpUkW1atVSRkaGMjIyij2nbdu2Ls3UBf7%2B/jp%2B/Lg%2B/fRTjR071uWYp6ennnzySZexb7/9VtL538ps1KiR4c%2BQnJxcZPnxguL2pHl4eCg0NFSZmZnKysoq9joAMINmC6hg3n77bX344YcuY7m5ufr111916NAhSefTokceecR5fM%2BePc6/T5w40fDe3t7eysvL06%2B//upsti7c/%2Buvv9auXbuUnp6ukydPyvGfp8acOnVK0vkEqzghISHFjg8dOlSzZs3SG2%2B8oW%2B//VZ333232rVrZ/jw1n379kk6n04ZueWWWySd3ydWnJtvvrnYcR8fH0lSXl6e4b0B4GrRbAEVzM6dO4uMeXl5qWbNmurevbsGDhyoLl26uBw/ceKE8%2B/r16%2B/4ve40EBJUkpKip588kn99ttvV1VvQEBAseMXlhbffvtt2Ww22Ww2SVJQUJB69eqloUOHKjQ0tEhN/v7%2Bht%2BrevXqks43TWfPnnVuxr%2BAh7wCcAeaLaCCudxDTY1c2KNUqVIl2Wy2En%2BUz9mzZ/XEE0/o999/V4MGDTRq1Ci1a9dONWvWVKVKlST99xEPV/rexXnsscc0aNAgJSUl6euvv9bGjRuVkZGhf/zjH0pMTNSrr76qP//5zyX%2BOR0XPaO5uKVLAHAHmi3gBnDhcRB5eXnKyspybgi/km%2B%2B%2BUa///67PDw8tHDhQtWvX7/IOWfPnjVVm7%2B/v/r27au%2BffuqoKBAGzdu1IIFC7Rt2zZNnjxZbdu2Vc2aNZ0J2aWPs7jYhWO%2Bvr6kWADKDf6vH3ADCAsLc/597969Jb7u119/lXR%2Br1NxjdbBgwf1xx9/mK7vAi8vL3Xq1ElLly5VSEiITp8%2B7Vw2vbBX6%2BL9Z5e6cOxy%2B7oA4Fqj2QJuAEFBQQoPD5ckffDBB8Wek5aWptjYWOcjIqT/7oEy%2BtifBQsWOP9%2B6cNQL2fHjh167rnntGjRomKPV65cWbVr15b03%2BTswj60PXv2FNtwFRYWOh970alTpxLXAgBWo9kCbhAjR46UJK1du1bvvvuuy/6mAwcOaMyYMUpJSdGRI0ec402bNpUkHT16VElJSc7xM2fOaPr06bLZbM6PAzL6DcDieHl5aeXKlZo7d642bNhQ5PiXX36p3bt3q1KlSmrdurUkqXnz5urYsaMk6bnnnlNmZqbz/Pz8fL322mtKTU1V9erVNWjQoBLXAgBWY88WcIO466679Nhjj2nhwoWaOXOmli5dqltuuUVZWVnavXu3CgoK1Lx5c02YMMF5TatWrdSxY0f93//9n%2BLi4tSyZUv5%2BPho165d8vb21uLFi/XJJ59o27ZtWrp0qX755Rc98cQTatOmzWVriYiI0IgRI7Ro0SI9/vjjqlevnurXry9PT0/99ttvzuXLyZMnKygoyHndX//6Vw0dOlQ2m03R0dEKCwuTj4%2BP9u7dq6ysLPn6%2BmrWrFmGj5sAAHeg2QJuIOPHj1f79u31z3/%2BU9u3b9emTZvk4%2BOjiIgI9e7dW0OGDCmysXzOnDlKSEjQ%2BvXrtWvXLgUHBysmJkYjR47UzTffrDp16ujnn3/W1q1btXfv3hL/puOzzz6rNm3aaNWqVdq1a5e2bdum/Px8BQUF6e6779Zf/vKXIh%2BiHRISohUrVujdd9/Vl19%2Bqb179yo/P18hISG666679PDDDxe7twwA3MnDcfFaAgAAAMoUe7YAAAAsRLMFAABgIZotAAAAC9FsAQCACufbb79V%2B/btFR8ff9nzCgsLNXv2bHXv3l1t2rTRww8/rEOHDjmP2%2B12jRs3Tu3bt1fHjh01efJk05%2BMcSmaLQAAUKG88847mj59eol%2B%2B3jZsmX6%2BOOPtXDhQn311Vdq0KCBnnzySeezBqdMmaIzZ85o7dq1WrlypVJTU5WQkFCm9dJsAQCACsXHx0crVqwoUbOVmJioYcOGqVGjRvLz81N8fLxSU1O1Y8cOHT9%2BXElJSYqPj1dgYKBCQkI0atQorVy5Unl5eWVWL8/ZAgAA11x6eroyMjJcxoKCghQcHHzFax966KESfY%2BzZ89q3759at68uXPMz89P9evXl81m06lTp%2BTl5aUmTZo4j4eHhysnJ0f79%2B93GTeDZutSJXwgI9yoYUNp716pcWMpLc3d1eByatZ0dwW4kvr1pc2bpTvukA4ccHc1uJyLPqLqmrLofTFx7lzNnz/fZWz06NGKi4srs%2B9x4sQJORwOBQQEuIwHBAQoKytLNWrUkJ%2Bfn8vDmC%2Bcm5WVVWZ10Gyh4qlRQ/LyOv8nAHMCAs7/e7rkzQiw2sCBAxUdHe0ydvHHc5Wlyz2//Vo8251mCwAAGPO0Znt3cHBwiZYMzahRo4Y8PT1lt9tdxu12u2rVqqXAwEBlZ2eroKBAXl5ezmOSVKtWrTKrgw3yAADAmKenNa9rwMfHR40bN1ZycrJz7OTJkzp48KBatGihZs2ayeFwKCUlxXncZrPJ399fDRs2LLM6aLYAAMB149ixY%2BrVq5fzWVqDBw/W0qVLlZqaquzsbCUkJKhZs2aKjIxUYGCgYmJiNGfOHGVmZuro0aNasGCB%2BvXrJ2/vslv8YxkRAAAYu0YpVGlERkZKkvLz8yVJSUlJks6nUnl5eUpLS1Nubq4kadCgQcrIyNCDDz6o06dPKyoqymVj/rRp0/Tiiy%2Bqe/fuqlSpku6%2B%2B%2B4rPii1tDwc12JnWEXCbyOWf61aSVu3Sq1bS9u2ubsaXA6/jVj%2BtWghbdggde0q7dzp7mpwOe76bUQfH2vue%2B6cNfcth0i2AACAsXKYbFU0NFsAAMAYzZZpzCAAAICFSLYAAIAxki3TmEEAAAALkWwBAABjJFum0WwBAABjNFumMYMAAAAWItkCAADGSLZMYwYBAAAsRLIFAACMkWyZRrMFAACM0WyZxgwCAABYiGQLAAAYI9kyjRkEAACwEMkWAAAwRrJlGs0WAAAwRrNlGjMIAABgIZItAABgjGTLNGYQAADAQiRbAADAGMmWaTRbAADAGM2WacwgAACAhUi2AACAMZIt02i2AACAMZot05hBAAAAC5FsAQAAYyRbpjGDAAAAFiLZAgAAxki2TKPZAgAAxmi2TGMGAQAALESyBQAAjJFsmcYMAgAAWIhkCwAAGCPZMo1mCwAAGKPZMo0ZBAAAsBDJFgAAMEayZRozCAAAYCGSLQAAYIxkyzSaLQAAYIxmyzRmEAAAwEIkWwAAwBjJlmk0WwAAoMI5fPiwXnrpJe3YsUNVq1ZV7969NX78eHle0hyOGDFCP/30k8tYfn6%2BnnzySY0ePVoPPvigtm7d6nJdw4YNtWbNmjKrlWYLAAAYK6fJVlxcnMLDw5WUlKQ//vhDjz/%2BuGrXrq3hw4e7nLdo0SKXr0%2BePKnevXurZ8%2BezrGXX35Zffv2taxWmi0AAGDMomYrPT1dGRkZLmNBQUEKDg6%2B4rU2m00pKSlavHixqlevrurVq2vYsGFasmRJkWbrUnPmzFHPnj3VpEkTU/WXBs0WAAC45hITEzV//nyXsdGjRysuLu6K1yYnJ6tevXoKCAhwjoWHhystLU3Z2dny8/Mr9roDBw5o1apVSkpKchn/9NNP9T//8z86cuSIWrZsqWnTpunmm2%2B%2Bip%2BqeDRbAADAmEXJ1sCBAxUdHe0yFhQUVKJr7Xa7/P39XcYuNF5ZWVmGzdbChQv1wAMPKDAw0DnWqFEjValSRQkJCSosLNT06dP1yCOPaO3atapcuXJpfiRDNFsAAOCaCw4OLtGSoRGHw1Gq8%2B12u1avXq3PPvvMZXzq1KkuX0%2BbNk1RUVHasmWL2rVrd9X1XYxmCwAAGCuHG%2BQDAwNlt9tdxux2uzw8PFxSq4utX79eDRs2VGho6GXv7efnp4CAAB07dqzM6i1/MwgAAMoPT09rXiZEREToyJEjyszMdI7ZbDbdeuutqlatWrHXrF%2B/Xh06dHAZy87O1tSpU10aq8zMTGVmZl6xKSsNmi0AAFChNG/eXJGRkZo1a5ays7OVmpqqxYsXa/DgwZKkXr16afPmzS7X7N69WzfddJPLmJ%2Bfn3bs2KHp06fLbrfrxIkTeumll9SkSRO1atWqzOql2QIAAMbKYbIlSXPnzlV6ero6dOighx56SPfdd5%2BGDBkiSUpLS1NOTo7L%2BRkZGapdu3aR%2ByxYsEAOh0MxMTHq2rWr8vLytHDhwiIPRzWDPVsAAKDCqVOnjt55551ij/3yyy9Fxnbt2lXsuX/605%2BKPIKirNFsAQAAY%2BVwg3xFQ7MFAACM0WyZxgwCAABYiGQLAAAYI9kyjRkEAACwEMkWAAAwRrJlGs0WAAAwRrNlGjMIAABgIZItAABgjGTLNGYQAADAQiRbAADAGMmWaTRbAADAGM2WacwgAACAhUi2AACAMZIt02i2AACAMZot05hBAAAAC5FsAQAAYyRbpjGDAAAAFiLZAgAAxki2TKPZAgAAxmi2TGMGAQAALESyBQAAjJFsmcYMAgAAWIhkCwAAGCPZMo1mCwAAGKPZMo0ZBAAAsBDJFgAAMEayZRozCAAAYCGSLQAAYIxkyzSaLQAAYIxmyzRmEAAAwEIkWwAAwBjJlmnMIAAAgIVItgAAgDGSLdNotgAAgDGaLdOYQQAAAAuRbAEAAGMkW6YxgwAAABYi2QIAAMZItkyj2QIAAMZotkxjBgEAACzktmZr1apVio6OLtG5H374oTp06GBxRQAAoAhPT2teN5Cr/mmjo6O1fPnyIuPLly8vURN133336d///vfVfnsXhw4d0ueff14m9wIAAOXf4cOH9dhjjykqKkrdunXTa6%2B9psLCwiLnzZs3T82aNVNkZKTL6/jx45Kkc%2BfO6YUXXlDnzp0VFRWlMWPGKCsrq0xrvS5ayy%2B%2B%2BELr1q1zdxkAAFx/ymmyFRcXp5CQECUlJWnx4sVKSkrSkiVLij03NjZWNpvN5VW7dm1J0uzZs5WcnKzExEStW7dODodDkyZNMl3fxSzdIH/48GG9/PLL2rZtmwoLC9WtWze98MIL8vPz04cffqhZs2bpu%2B%2B%2BkyRt2LBBU6dO1YkTJ9SrVy/VqVNHmzdv1j/%2B8Q/n/b788ku98sorSk9P15///GfNmDFDS5cuVUJCgiQpKSlJ27dvl5eXV4nqS09PV0ZGhstYUMOGCq5Ro4xmAJZo2tT1T5Rf/v7urgBX0rix658on3budN/3tmjJr9j34KAgBQcHX/Fam82mlJQULV68WNWrV1f16tU1bNgwLVmyRMOHDy9xDfn5%2BVqxYoX%2B9re/qW7dupKkcePGqU%2BfPjp27JhCQkJK90MZsKzZcjgcGjVqlFq3bq3Zs2crJydHTz31lP72t7/p5Zdfdjk3PT1dcXFxGj9%2BvIYMGaI1a9bo1VdfVZMmTZznnD59Wlu2bNHHH3%2BsX3/9VQMGDFCPHj308MMPa%2B/evTp37pxmz55dqhoTExM1f/58l7HRY8cqbuzYq//Bce289567KwCuH%2B%2B84%2B4KcDmBge6uoMwV%2Bx48erTi4uKueG1ycrLq1aungIAA51h4eLjS0tKUnZ0tPz8/l/N/%2BeUXDRo0SHv27FHdunU1adIkdezYUQcPHtSpU6cUHh7uPLdRo0by9fVVcnJy%2BWi2pk%2Bfrr/%2B9a8uY4WFhQoJCZHNZtPevXu1fPlyValSRVWqVFFcXJwefvhhTZs2zeWa77//XlWrVtWDDz4oLy8v9evXTytWrHA559y5c4qLi1PVqlXVvHlz3XLLLUpLSzNTvgYOHFhkf1nQPfdIBjEkyommTc83WkOGSCkp7q4Gl0OyVf41bny%2B0Xr0UWnvXndXg/LIomSr2PfgoKASXWu32%2BV/yf%2B%2BXGi8srKyXJqtOnXqKDQ0VOPHj1dwcLASExM1cuRIrVmzRna7XZKK3Mvf379M922Zaraef/55DR482GVs%2BfLleuedd3To0CEVFBQoKirK5XhBQUGRHyAjI0N16tRxWf6LiIjQL7/84vy6Zs2aqlatmvNrX19f5ebmmilfwcHBReNKkw0crqGUFGnbNndXgcupWdPdFaCk9u5171IVbjjFvgeXgsPhKNF5/fv3V//%2B/Z1fDxs2TJ988onWrFmjzp07l%2BpeV8uyZUQfHx9VrVpV20rwZlhYWChvb9dSPC/ppD08PMq0PgAAUALl8DENgYGBzlTqArvdLg8PDwWWYMm1Xr16Sk9Pd55rt9tdAp0TJ06oVq1aZVavZTN48803KycnR4cOHXKOZWdnFxvL1apVS0ePHnXpLG02m1WlAQCAkiqHv40YERGhI0eOKDMz0zlms9l06623ujRNkvTGG29o06ZNLmOpqakKDQ1VaGioAgIClJyc7Dy2Z88e5ebmKiIiwlSNF7Os2QoLC1OrVq00Y8YMZWZm6uTJk3rxxRf1zDPPFDm3TZs2yszM1Pvvv6/c3FytXLlSBw4cKPH38vHx0ZEjR3Ty5Enl5%2BeX5Y8BAADKmebNmysyMlKzZs1Sdna2UlNTtXjxYufWpl69emnz5s2SzqdWL730kvbv369z585p0aJFOnjwoO6//355eXlpwIABeuutt3TkyBFlZWXp9ddfV8%2BePZ2PhigLlmaDs2bNksPhUPfu3dWzZ08VFBTolVdeKXJeaGioZsyYoblz56pDhw5KSUlRbGxsiZcO77nnHqWlpalbt25KT08v6x8DAIAbVzlMtiRp7ty5Sk9PV4cOHfTQQw/pvvvu05AhQyRJaWlpysnJkSSNHz9enTt31rBhw9SmTRutXbtW7777rurUqSNJGjNmjFq2bKnY2Fh1795d1apV04wZM0zXdzEPh9W7wkooNzdXlSpVcjZYzz77rAoLC/Xaa69d20LYG1b%2BtWolbd0qtW7NBvnyjg3y5V%2BLFtKGDVLXrmyQL%2B8uWjK7pmbOtOa%2BZfzg0PKsXOx6y8nJUbt27fTee%2B%2BpsLBQycnJWr9%2Bvbp06eLu0gAAuLGV02SrIrH0CfIlVbVqVf39739XQkKCXnvtNQUGBmrEiBHq06ePu0sDAODGdoM1RlYoF82WJHXs2FEdO3Z0dxkAAABlqtw0WwAAoBwi2TKNZgsAABij2TKNGQQAALAQyRYAADBGsmUaMwgAAGAhki0AAGCMZMs0mi0AAGCMZss0ZhAAAMBCJFsAAMAYyZZpzCAAAICFSLYAAIAxki3TaLYAAIAxmi3TmEEAAAALkWwBAABjJFumMYMAAAAWItkCAADGSLZMo9kCAADGaLZMYwYBAAAsRLIFAACMkWyZxgwCAABYiGQLAAAYI9kyjWYLAAAYo9kyjRkEAACwEMkWAAAwRrJlGjMIAABgIZItAABgjGTLNJotAABgjGbLNGYQAADAQiRbAADAGMmWacwgAACAhUi2AACAMZIt02i2AACAMZot05hBAAAAC5FsAQAAYyRbpjGDAAAAFiLZAgAAxki2TKPZAgAAxmi2TGMGAQAALESyBQAAjJFsmcYMAgCACufw4cN67LHHFBUVpW7duum1115TYWFhsecuX75cMTExatWqlWJjY5WUlOQ8NnHiRDVv3lyRkZHO1x133FGmtZJsAQAAY%2BU02YqLi1N4eLiSkpL0xx9/6PHHH1ft2rU1fPhwl/PWrVunWbNm6e2331aLFi20atUqjRs3Tp999plCQ0MlSU888YTi4uIsq7V8ziAAACgfPD0teaWnpys5OdnllZ6eXqKSbDabUlJSNGHCBFWvXl0NGjTQsGHDlJiYWOTcs2fP6qmnntLtt9%2BuSpUqqX///qpWrZq2b99e1jNliGQLAABcc4mJiZo/f77L2OjRo0uUMCUnJ6tevXoKCAhwjoWHhystLU3Z2dny8/NzjsfGxrpce/LkSZ0%2BfVohISHOse%2B//17r16/XgQMH1KhRI02dOlURERFX%2B6MVQbMFAACMWbSMOHDgQEVHR7uMBQUFlehau90uf39/l7ELjVdWVpZLs3Uxh8Oh559/Xi1bttSdd94pSQoNDZWnp6fGjh2ratWqaf78%2BRoxYoTWrVunmjVrlvbHKhbNFgAAuOaCg4MVHBx81dc7HI5SnZ%2BXl6eJEydq3759Wrp0qXP8ySefdDnv6aef1tq1a5WUlKT%2B/ftfdX0Xo9kCAADGyuEG%2BcDAQNntdpcxu90uDw8PBQYGFjn/7NmzGjVqlM6cOaNly5ZdNrHy8vJS3bp1S7x/rCTK3wwCAIDyw6IN8mZEREToyJEjyszMdI7ZbDbdeuutqlatmsu5DodD8fHx8vb21rvvvuvSaDkcDs2cOVMpKSnOsdzcXB08eND5m4plgWYLAABUKBeeizVr1ixlZ2crNTVVixcv1uDBgyVJvXr10ubNmyVJH3/8sfbt26e///3v8vHxcbmPh4eHfvvtN7300ks6duyYTp8%2BrYSEBFWqVEk9evQos3pZRgQAAMbK4TKiJM2dO1dTpkxRhw4d5Ofnp0GDBmnIkCGSpLS0NOXk5EiSVq5cqcOHDzs3xF8QGxur6dOna8aMGfrb3/6mvn37Kjs7Wy1atNCSJUtUtWrVMqvVw1HaHWbXOw8Pd1eAK2nVStq6VWrdWtq2zd3V4HLK6Dd5YKEWLaQNG6SuXaWdO91dDS7noiWza%2BqHH6y5b1SUNfcth8pnuwoAAHCdYBkRAAAYK6fLiBUJMwgAAGAhki0AAGCMZMs0mi0AAGCMZss0ZhAAAMBCJFsAAMAYyZZpzCAAAICFSLYAAIAxki3TaLYAAIAxmi3TmEEAAAALkWwBAABjJFumMYMAAAAWItkCAADGSLZMo9kCAADGaLZMYwYBAAAsRLIFAACMkWyZxgwCAABYiGQLAAAYI9kyjWYLAAAYo9kyjRkEAACwEMkWAAAwRrJlGjMIAABgIZItAABgjGTLNJotAABgjGbLNGYQAADAQiRbAADAGMmWacwgAACAhUi2AACAMZIt02i2AACAMZot05hBAAAAC5FsAQAAYyRbpjGDAAAAFiLZAgAAxki2TKPZAgAAxmi2TGMGAQAALESyBQAAjJFsmcYMAgAAWIhkCwAAGCPZMo1mCwAAGKPZMo0ZBAAAsBDJFgAAMEayZRozCAAAjHl6WvMy6fDhw3rssccUFRWlbt266bXXXlNhYWGx5y5dulQxMTFq3bq1Bg8erF27djmPnTt3Ti%2B88II6d%2B6sqKgojRkzRllZWabruxjNFgAAqHDi4uIUEhKipKQkLV68WElJSVqyZEmR8/79739r3rx5evXVV7Vx40Z169ZNI0eOVIptbtQAACAASURBVE5OjiRp9uzZSk5OVmJiotatWyeHw6FJkyaVaa00WwAAwJhFyVZ6erqSk5NdXunp6SUqyWazKSUlRRMmTFD16tXVoEEDDRs2TImJiUXOTUxMVN%2B%2BfdWyZUv5%2BvrqkUcekSR99dVXys/P14oVKzRq1CjVrVtXNWrU0Lhx47RhwwYdO3aszKaQPVuXqlnT3RXgSvz9//sn/3mVb2UcxcMCJ0/%2B90/%2B88I1lJiYqPnz57uMjR49WnFxcVe8Njk5WfXq1VNAQIBzLDw8XGlpacrOzpafn5/Lub1793Z%2B7enpqWbNmslms6lZs2Y6deqUwsPDnccbNWokX19fJScnKyQkxMyP6ESzBQAADDnkYcl9Bw4cqOjoaJexoKCgEl1rt9vlf%2BH/eP/HhcYrKyvLpdmy2%2B0uTdmFc7OysmS32yWpyL38/f3LdN8WzRYAADBksOfctODgYAUHB1/19Q6Ho8zOLc29rgZ7tgAAQIUSGBjoTKUusNvt8vDwUGBgoMt4zZo1iz03MDDQee6lx0%2BcOKFatWqVWb00WwAAwFBhoTUvMyIiInTkyBFlZmY6x2w2m2699VZVq1atyLnJycnOrwsKCvTzzz%2BrZcuWCg0NVUBAgMvxPXv2KDc3VxEREeaKvAjNFgAAqFCaN2%2BuyMhIzZo1S9nZ2UpNTdXixYs1ePBgSVKvXr20efNmSdLgwYO1atUqbd%2B%2BXWfOnNGbb76pypUrq2vXrvLy8tKAAQP01ltv6ciRI8rKytLrr7%2Bunj17qnbt2mVWL3u2AACAIav2bJk1d%2B5cTZkyRR06dJCfn58GDRqkIUOGSJLS0tKcz9Hq3LmznnrqKY0bN05//PGHIiMjtXDhQvn6%2BkqSxowZo9OnTys2Nlb5%2Bfnq1q2bpk6dWqa1ejis3hVW0Vyy1otyqEULacMGqWtXaedOd1eDy%2BFRAuVfq1bS1q1S69bStm3urgaX46a36zNnrLlvlSrW3Lc8YhkRAADAQiwjAgAAQ%2BV1GbEiIdkCAACwEMkWAAAwRLJlHs0WAAAwRLNlHsuIAAAAFiLZAgAAhki2zCPZAgAAsBDJFgAAMESyZR7NFgAAMESzZR7LiAAAABYi2QIAAIZItswj2QIAALAQyRYAADBEsmUezRYAADBEs2Uey4gAAAAWItkCAACGSLbMI9kCAACwEMkWAAAwRLJlHs0WAAAwRLNlHsuIAAAAFiLZAgAAhki2zCPZAgAAsBDJFgAAMESyZR7NFgAAMESzZR7LiAAAABYi2QIAAIZItswj2QIAALAQyRYAADBEsmUezRYAADBEs2Uey4gAAAAWItkCAACGSLbMo9kCAACGaLbMYxkRAADAQiRbAADAEMmWeSRbAAAAFiLZAgAAhki2zKPZAgAAhmi2zGMZEQAAwEIkWwAAwBDJlnkkWwAAABYi2QIAAIZItswj2QIAAIYKC615Wclut2vcuHFq3769OnbsqMmTJ%2Bvs2bOG53/xxRe699571apVK8XExOiDDz5wHps3b56aNWumyMhIl9fx48dLXA/NFgAAuK5MmTJFZ86c0dq1a7Vy5UqlpqYqISGh2HN37typCRMmaMyYMfrpp5/03HPPadq0adq8ebPznNjYWNlsNpdX7dq1S1wPy4gAAMCQVSlUenq6MjIyXMaCgoIUHBxs6r7Hjx9XUlKSPvroIwUGBkqSRo0apbFjx%2BrZZ59VpUqVXM632%2B16/PHH1aNHD0lSly5dFBYWps2bN%2BuOO%2B4wVcsFNFsAAOCaS0xM1Pz5813GRo8erbi4OFP33b17t7y8vNSkSRPnWHh4uHJycrR//36XcUnq3LmzOnfu7Pw6Pz9fGRkZCgkJcY798ssvGjRokPbs2aO6detq0qRJ6tixY4lrotkCAACGrEq2Bg4cqOjoaJexoKAg0/e12%2B3y8/OTh4eHcywgIECSlJWVdcXrExISVLVqVfXu3VuSVKdOHYWGhmr8%2BPEKDg5WYmKiRo4cqTVr1uiWW24pUU00WwAAwJBVzVZwcPBVLxmuXr1azzzzTLHH4uPj5XA4Sn1Ph8OhhIQErV27VkuXLpWPj48kqX///urfv7/zvGHDhumTTz7RmjVrNG7cuBLdm2YLAABUKLGxsYqNjS322Hfffafs7GwVFBTIy8tL0vm0S5Jq1apV7DWFhYWaNGmSdu7cqeXLlys0NPSy379evXpKT08vcb38NiIAADBU0R790KxZMzkcDqWkpDjHbDab/P391bBhw2Kv%2Betf/6q9e/cW22i98cYb2rRpk8tYamrqFRuyi9FsAQCA60ZgYKBiYmI0Z84cZWZm6ujRo1qwYIH69esnb%2B/zC3pDhw7Vp59%2BKknasmWL1qxZo4ULF6pGjRpF7me32/XSSy9p//79OnfunBYtWqSDBw/q/vvvL3FNLCMCAABDFfEJ8tOmTdOLL76o7t27q1KlSrr77rsVHx/vPH7o0CGdOHFCkrRy5UqdOnVK3bp1c7lHmzZttGjRIo0fP17S%2Bb1adrtdt956q959913VqVOnxPV4OK5mF9n17D/P5EA51qKFtGGD1LWrtHOnu6vB5ZTgN3/gZq1aSVu3Sq1bS9u2ubsaXI6b3q4/%2B8ya%2B/75z9bctzxiGREAAMBCLCMCAABDFXEZsbwh2QIAALAQyRYAADBEsmUezRYAADBEs2Uey4gAAAAWItkCAACGSLbMI9kCAACwEMkWAAAwRLJlHs0WAAAwRLNlHsuIAAAAFiLZAgAAhki2zCPZAgAAsBDJFgAAMESyZR7NFgAAMESzZR7LiAAAABYi2QIAAIZItswj2QIAALAQyRYAADBEsmUezRYAADBEs2Uey4gAAAAWItkCAACGSLbMI9kCAACwEMkWAAAwRLJlHs0WAAAwRLNlHsuIAAAAFiLZAgAAhki2zKPZAgAAhmi2zGMZEQAAwEIkWwAAwBDJlnkkWwAAABYi2QIAAIZItsyj2QIAAIZotsxjGREAAMBCJFsAAMAQyZZ5JFsAAAAWItkCAACGSLbMo9kCAACGaLbMYxkRAADAQiRbAADAEMmWeW5Ltn766SdFRkYqNzf3iuf%2B8MMPatKkic6dO3cNKgMAACg7JW62%2Bvbtq1dffdVlLDk5WU2aNNEXX3zhMr506VJ17NhRDofD8H5t2rSRzWZT5cqVS1lyUXa7Xf/6179M3wcAALgqLLTmZSW73a5x48apffv26tixoyZPnqyzZ88We%2B6HH36opk2bKjIy0uW1c%2BfO//z8hZo9e7a6d%2B%2BuNm3a6OGHH9ahQ4dKVU%2BJm61OnTpp48aNLmPfffedqlatWmR848aN6tixozw8PEpVzNX6/vvvabYAALBARWy2pkyZojNnzmjt2rVauXKlUlNTlZCQYHj%2BhQDo4leLFi0kScuWLdPHH3%2BshQsX6quvvlKDBg305JNPXjZQulSpmq2UlBRlZmY6xzZt2qT7779fmzZtco7l5%2Bfrp59%2BUqdOnWS32zVhwgR17NhRrVq10hNPPKFjx45JKro0uHPnTsXExKhly5YaOXKk/vnPfyo6Otqlhi1btqhPnz6KiIjQo48%2BqlOnTumzzz7TU089pZ07dyoyMrLU3SYAALh%2BHD9%2BXElJSYqPj1dgYKBCQkI0atQorVy5Unl5eaW%2BX2JiooYNG6ZGjRrJz89P8fHxSk1N1Y4dO0p8jxJvkL/tttvk5%2BenjRs36u6771Zubq62bt2qF198UStXrtTvv/%2BuP/3pT9q5c6dycnLUoUMHTZw4Ud7e3vrkk0/k5eWlF198UZMmTdKiRYtc7p2bm6uRI0fq3nvv1bhx4/TDDz/oueeek4%2BPj8t5a9eu1fLly3XixAkNGDBAK1as0PDhw7Vv3z59%2B%2B23%2BuCDD0r8g0tSenq6MjIyXMaCbr5ZwTVqlOo%2BuMYaN3b9E%2BXXyZPurgBX0rSp658on7Ztc9u3tiqFKvY9OChIwcHBpu67e/dueXl5qUmTJs6x8PBw5eTkaP/%2B/S7jFxw5ckTDhw/Xrl275O/vrzFjxig2NlZnz57Vvn371Lx5c%2Be5fn5%2Bql%2B/vmw2m2677bYS1VTiZsvb21vt27fXd999p7vvvltbtmxRSEiIGjRooNtuu00bN25Uv379tHHjRkVGRqqgoEBfffWVPv30UwUEBEiSJkyYoK5duxaZXJvNpszMTD3xxBPy9fVVly5d1LZtW2275L9cI0aMkL%2B/v/z9/XXbbbcpLS2tpOUXKzExUfPnz3cZGz1qlOLGjjV1X1wj77zj7gqA68d777m7AlzONdqWcy0V%2Bx48erTi4uJM3ddut8vPz89lK9OFPiQrK6vI%2BYGBgWrQoIGeeuop3Xrrrfryyy/1zDPPKDg4WLfccoscDofz%2BovvV9y9jJTq0Q%2BdOnVyTszGjRvVtm1bSVK7du20adMm9evXT5s2bVKnTp2cy3n33Xefyz28vLx05MgRl7GMjAz5%2Bfm5/DCRkZFFmq2bbrrJ%2BXdfX98S/Sbj5QwcOLDIUmXQ//t/0kcfmbovLNa48flG69FHpb173V0NLodkq/xr2vR8ozVkiJSS4u5qUA5ZlWwV%2Bx4cFFSia1evXq1nnnmm2GPx8fGl2k/VtWtXde3a1fl1nz599OWXX%2BrDDz/UhAkTJKlU9ytOqZut559/Xqmpqfr%2B%2B%2B81YsQISVLbtm31j3/8Qzk5OdqxY4eefvpp%2Bfr6SpK%2B%2BeYb1axZs8i9fvjhB%2BffCwsL5e3tWkpxm%2BvLesN9cHBw0bjy4MHzL5R/e/dK//ltEZRTpfh/fnCzlBS3LlWh/LKq2Sr2PbiEYmNjFRsbW%2Byx7777TtnZ2SooKJCXl5ek82mXJNWqVatE969Xr5527dqlGjVqyNPT03n9BXa7vcT3kkr5nK06deqocePG%2Buabb7R7925FRUVJkiIiInTmzBl9%2BOGHqlatmlq0aKF69erJ09NTv/zyi/P6vLw85wb5i9WqVUsnTpxQdna2c8xms5WmNAAAADVr1kwOh0MpFyW1NptN/v7%2BatiwYZHzly9frk8//dRlLDU1VaGhofLx8VHjxo2VnJzsPHby5EkdPHjQ%2BduKJVHqh5p26tRJy5Yt06233qrAwEBJ5/dztWnTRkuWLFH79u3l6emp6tWrq3fv3kpISNDRo0d19uxZvf766xoxYkSROC4iIkJVqlTRO%2B%2B8o9zcXH3zzTf68ccfS1yTj4%2BPMjIyZLfbTS8tAgCA/6poj34IDAxUTEyM5syZo8zMTB09elQLFixQv379nKtoQ4cOdTZYubm5evnll2Wz2ZSXl6e1a9fqm2%2B%2B0aBBgyRJgwcP1tKlS5Wamqrs7GwlJCSoWbNmioyMLHFNV9VsHTp0yLlf64J27drp4MGD6tSpk3NsypQpql%2B/vvr06aNOnTpp3759euONN4osB1arVk1z5szRqlWrFBUVpdWrV2vYsGElXjbs0aOHHA6Hunbtql27dpX2RwIAANeRadOmqXr16urevbvuvfdetWjRQvHx8c7jhw4d0okTJyRJDz30kB588EGNHTtWrVu31oIFC7RgwQJFRERIkgYNGqT7779fDz74oDp06KCjR48W2dh/JR4Os7u%2BykhBQYEkOddX586dq%2B%2B//17vXevfkPlPWodyrEULacMGqWtX9myVd%2BzZKv9atZK2bpVat2bPVnnnprfrSZOsue/Mmdbctzxy22cjXszhcKhXr16aPXu28vLydODAAa1atUpdunRxd2kAANzQKtoyYnlUqt9GtIqHh4dmz56tGTNm6M4771T16tUVExOj4cOHu7s0AAAAU8pFsyWd3yS/fPlyd5cBAAAucqOlUFYoF8uIAAAA16tyk2wBAIDyh2TLPJotAABgiGbLPJYRAQAALESyBQAADJFsmUeyBQAAYCGSLQAAYIhkyzyaLQAAYIhmyzyWEQEAACxEsgUAAAyRbJlHsgUAAGAhki0AAGCIZMs8mi0AAGCIZss8lhEBAAAsRLIFAAAMkWyZR7MFAAAM0WyZxzIiAACAhUi2AACAIZIt80i2AAAALESyBQAADJFsmUezBQAADNFsmccyIgAAgIVItgAAgCGSLfNItgAAACxEsgUAAAyRbJlHswUAAAzRbJnHMiIAAICFSLYAAIAhki3zSLYAAAAsRLIFAAAMkWyZR7MFAAAM0WyZxzIiAACAhUi2AACAIZIt80i2AAAALESyBQAADJFsmUezBQAADNFsmccyIgAAgIVItgAAgCGSLfNItgAAACxEsgUAAAxVxGTLbrdr6tSp%2BvHHH%2BXp6akuXbpoypQp8vX1LXLu888/r9WrV7uMFRQUKDY2VjNnztTEiRO1Zs0aeXl5OY/7%2BPho8%2BbNJa6HZAsAABgqLLTmZaUpU6bozJkzWrt2rVauXKnU1FQlJCQUe%2B706dNls9mcr23btumWW25Rr169nOc88cQTLueUptGSaLYAAMB15Pjx40pKSlJ8fLwCAwMVEhKiUaNGaeXKlcrLy7vi9UuWLNGf/vQndenSpcxqYhkRAAAYsiqFSk9PV0ZGhstYUFCQgoODTd139%2B7d8vLyUpMmTZxj4eHhysnJ0f79%2B13GL3Xy5Em99dZbeu%2B991zGv//%2Be61fv14HDhxQo0aNNHXqVEVERJS4JpotAABwzSUmJmr%2B/PkuY6NHj1ZcXJyp%2B9rtdvn5%2BcnDw8M5FhAQIEnKysq67LX//Oc/1aZNGzVu3Ng5FhoaKk9PT40dO1bVqlXT/PnzNWLECK1bt041a9YsUU00WwAAwJBVydbAgQMVHR3tMhYUFFSia1evXq1nnnmm2GPx8fFyOBylrqegoEDLli3TrFmzXMaffPJJl6%2BffvpprV27VklJSerfv3%2BJ7k2zBQAADFnVbAUHB1/1kmFsbKxiY2OLPfbdd98pOztbBQUFzt8gtNvtkqRatWoZ3vOnn35Sbm6u7rjjjst%2Bby8vL9WtW1fp6eklrpcN8gAA4LrRrFkzORwOpaSkOMdsNpv8/f3VsGFDw%2BvWr1%2Bvtm3bytv7vzmUw%2BHQzJkzXe6Vm5urgwcPKjQ0tMQ10WwBAABDFe3RD4GBgYqJidGcOXOUmZmpo0ePasGCBerXr5%2BzkRo6dKg%2B/fRTl%2Bt2796tm266yWXMw8NDv/32m1566SUdO3ZMp0%2BfVkJCgipVqqQePXqUuCaaLQAAcF2ZNm2aqlevru7du%2Bvee%2B9VixYtFB8f7zx%2B6NAhnThxwuWajIwM1a5du8i9ZsyYoQYNGqhv375q3769du/erSVLlqhq1aolrsfDcTW7yK5ngYHurgBX0qKFtGGD1LWrtHOnu6vB5VzhN39QDrRqJW3dKrVuLW3b5u5qcDluertu186a%2B27aZM19yyM2yAMAAEMV8eN6yhuWEQEAACxEsgUAAAyRbJlHsgUAAGAhki0AAGCIZMs8mi0AAGCIZss8lhEBAAAsRLIFAAAMkWyZR7MFAAAM0WyZxzIiAACAhUi2AACAIZIt80i2AAAALESyBQAADJFsmUezBQAADNFsmccyIgAAgIVItgAAgCGSLfNItgAAACxEsgUAAAyRbJlHswUAAAzRbJnHMiIAAICFSLYAAIAhki3zSLYAAAAsRLIFAAAMkWyZR7MFAAAM0WyZxzIiAACAhUi2AACAIZIt80i2AAAALESyBQAADJFsmUezBQAADNFsmccyIgAAgIVItgAAgCGSLfNItgAAACxEsgUAAAyRbJlHswUAAAzRbJnHMiIAAICFSLYAAIAhki3zSLYAAAAsRLIFAAAMkWyZR7MFAAAM0WyZxzIiAACAhUi2AACAIZIt80i2AAAALESzBQAADBUWWvOyms1mU8%2BePTVgwIArnrt06VLFxMSodevWGjx4sHbt2uU8du7cOb3wwgvq3LmzoqKiNGbMGGVlZZWqFpotAABgqCI2W2vWrFFcXJzq169/xXP//e9/a968eXr11Ve1ceNGdevWTSNHjlROTo4kafbs2UpOTlZiYqLWrVsnh8OhSZMmlaoemi0AAHBdOXfunBITE9WyZcsrnpuYmKi%2BffuqZcuW8vX11SOPPCJJ%2Buqrr5Sfn68VK1Zo1KhRqlu3rmrUqKFx48Zpw4YNOnbsWInrYYM8AAAwZFUKlZ6eroyMDJexoKAgBQcHm753//79S3xucnKyevfu7fza09NTzZo1k81mU7NmzXTq1CmFh4c7jzdq1Ei%2Bvr5KTk5WSEhIib4HzdalMjPdXQGuID09XYnz5mngBx%2BUyT9K4Ebm/Pf0%2Bef8e0KxHA5r7jtvXqLmz5/vMjZ69GjFxcVZ8w0N2O12BQQEuIwFBAQoKytLdrtdkuTv7%2B9y3N/fv1T7tmi2UOFkZGRo/vz5io6O5s0BMIl/T3CXgQMHKjo62mUsKCioRNeuXr1azzzzTLHHZs6cqb59%2B5aqFscVOsorHb8Smi0AAHDNBQcHX3WDHxsbq9jY2DKpo2bNms4E6wK73a7GjRsrMDDQ%2BXW1atWcx0%2BcOKFatWqV%2BHuwQR4AANywIiIilJyc7Py6oKBAP//8s1q2bKnQ0FAFBAS4HN%2BzZ49yc3MVERFR4u9BswUAAG4ovXr10ubNmyVJgwcP1qpVq7R9%2B3adOXNGb775pipXrqyuXbvKy8tLAwYM0FtvvaUjR44oKytLr7/%2Bunr27KnatWuX%2BPuxjIgKJygoSKNHjy7x2j4AY/x7wvUoJiZGv//%2BuwoKClRYWKjIyEhJ0ueff6569eopLS3N%2BRytzp0766mnntK4ceP0xx9/KDIyUgsXLpSvr68kacyYMTp9%2BrRiY2OVn5%2Bvbt26aerUqaWqx8NhdtcXAAAADLGMCAAAYCGaLQAAAAvRbAEAAFiIZgsAAMBCNFsAAAAWotkCAACwEM0WAACAhWi2AAAALESzBQAAYCGaLQAAAAvRbAHADeS3334rdjw3N1fbt2%2B/xtUANwaaLVQIRh/hWVBQoKNHj17jaoCKq0%2BfPsWOnzlzRsOHD7/G1QA3Bm93FwCUxG233aYdO3YUGc/JydE999yjn376yQ1VARXHv/71L61YsUJ5eXkaNGhQkePp6emqUaOGGyoDrn80WyjX1q1bp3Xr1ikvL0/jx48vcvz333%2BXl5eXGyoDKpa77rpL1atX1/jx49WxY8cix318fNSjRw83VAZc/2i2UK41b95cv/32mz7//HNVrly5yPEmTZoU24QBcBUQEKBevXpJkvNPANeGh8NoMwxQjixatEgjRoxwdxlAhZedna0VK1YoLS1Nubm5RY7PnDnTDVUB1zeSLVQIDz30kJKSkrR///5i3yBGjx7thqqAimf8%2BPGy2Wy67bbb5Ovr6%2B5ygBsCyRYqhIkTJ2rt2rVq1KhRkTcIDw8Pvf/%2B%2B26qDKhYIiMj9fnnn6tevXruLgW4YZBsoUL49NNP9a9//UvNmjVzdylAhVa/fn0FBAS4uwzghsJztlAhBAcHq2HDhu4uA6iQcnNzna/JkyfrlVdecS7JX/oCUPZYRkSFkJSUpC1btmjs2LHsMwFKqWnTpvLw8HB%2B7XA4XL6%2B2O7du69VWcANg2YL5dalzwI6ffq0cnNzVbNmzSLn/t///d%2B1KguocH788ccSn3vnnXdaWAlwY6LZQrn10Ucflfjc%2B%2B%2B/38JKAAC4ejRbAHADiY6ONlxC9PT0VEhIiLp06aJhw4apUqVK17g64PrEbyOiQnjwwQdL9AbRu3fva1wZULE8/PDDevPNNxUVFaXIyEh5enpq586d%2BumnnzRs2DBlZ2fr/fff1x9//KGJEye6u1zgukCyhQph7ty5WrZsmRo2bOh8g7DZbDpw4IDuvfdeZWVlaf369XrkkUf0%2BOOPu7tcoNwaNWqUBg4cqC5duriMf/PNN/r444/12muv6cCBAxo6dKg2bNjgniKB6wzNFiqEyZMnq3Xr1nrggQdcxleuXKk9e/Zo0qRJSk5O1pgxY7R%2B/Xo3VQmUf61atdIPP/xQ5LNGc3Nz1a5dO23ZskX5%2BfmKiorSli1b3FQlcH3hOVuoED777DPde%2B%2B9RcbvvfderVq1StL5D63OzMy81qUBFUpISIjmzJmjU6dOOcdycnL0xhtvyN/fXw6HQ3//%2B9/VpEkTN1YJXF/Ys4UKISAgQO%2B//77%2B8pe/uOzd%2BvDDD%2BXtff6/xu%2B9954aNGjgpgqBiuHVV1/VE088oXfffVd%2Bfn7y9vbWiRMnVKVKFc2ZM0cOh0Pr1q3TnDlz3F0qcN1gGREVwoYNGzRmzBhVrVpVdevWlbe3t44cOaKsrCzNmDFDffr0Ubt27TR37ly1b9/e3eUC5Vpubq5sNpuOHz%2BuwsJC1apVSxEREapataq7SwOuSzRbqDDS09P1/fffu7xBtGnTRjfddJMk6cyZM6pSpYqbqwTKn7y8POdjHK70kTyX7uUCYB7NFgBc51q2bKkdO3ZIKvrRPRdc%2BAgfPq4HKHvs2UK51b17d%2BdvFl760T2X4uN6AGP/%2B7//6/z70qVL3VgJcGMi2UK5tXr1asXGxkq68kf38HE9QOn88ccfOnLkiCIiItxdCnDdo9lChZOVlVXsh1EDuLJjx47pueee03fffSdvb2/t2rVL6enpevjhh/XGG28oNDTU3SUC1x2es4UK4fTp03rhhRd02223qVOnTpIku92uxx9/nGdrAaUwbdo0BQYG6quvvpKn5/m3gMDAQHXs2FHTp093c3X4/%2B3dsS87fxzH8Vd/iMh1EAMhUkttSCWivbQV6SImxMBCzEJsBhQhFuE/sJBIWKwWg0jaa4ikYmDBUBKbkIi20fhNv%2Bb3%2B5HfL79vfnXu%2BnxMd5cbXtvnlcvn3h%2B4E2ULjrCysqJMJqOtra3iAlFVVSWv18sCAfwHqVRKy8vLamxsLG6Ur6ys1MzMjNLptM3pAHdigzwc4fj4WIeHh6qrqysuEIZhaGlpSX19fTanA5yjpqZGX%2B0eeX5%2BVqFQsCER4H582YIjeDweeb3eT88LhYJyuZwNiQBnCoVCmpuboqyf/AAAAphJREFU093dnSTp5eVFp6enmp6eVm9vr73hAJeibMEROjs7tb6%2Brmw2W3z28PCg%2Bfl5dXd325gMcJZ4PK58Pq/%2B/n7lcjkFg0FNTEzI5/MpHo/bHQ9wJf5GhCM8PDxocnJSNzc3en9/l2EYen19VWdnpzY3N9XU1GR3ROBHi0Qiikaj6unpUTgc1vv7uzKZjKqrq9Xc3Pzll2MA/w/KFhzl8vKyuEC0tLTI7/fbHQlwhJ2dHVmWpbOzM729vam9vV2RSEQ9PT3q6OiwOx7gapQt/GixWOzLo0X%2B7o9J8wD%2BWaFQ0MXFhSzLkmVZSqfT8nq9CofDikajGhwctDsi4DqULfxoe3t7xeuPjw%2Btra1pYWHh03ujo6PfGQtwjbe3Nx0cHGh7e1uZTIazEYESoGzBUf58oC6AX/P4%2BKhkMqlkMqlUKqVsNquuri6FQiFNTEzYHQ9wHeZsAUAZODo6Khasx8dHBQIBmaapsbExtbW1qaKiwu6IgGtRtgCgDExNTckwDA0NDWl8fFw%2Bn8/uSEDZoGwBQBk4ODhQIpGQZVkaGBhQfX29TNOUaZoKBoOqra21OyLgWuzZwo%2B2v7//l/vV1VUtLi5%2BOm5kZGTkO2MBjpbP53V%2Bfi7LspRKpXR1daXW1laFQiHNzs7aHQ9wHcoWfrRYLPav73g8HkY/AL/o9vZWJycn2t3d1f39PX8jAiVA2QKAMvL09CTLspRIJIqb5f1%2Bf3HAqWmadkcEXIeyBQBlYGNjQ8lkUtfX1zIMQ6ZpFo/vaWhosDse4GqULQAoA8PDw4pGo4pGowoEAox6AL4RZQsAAKCEfrM7AAAAgJtRtgAAAEqIsgUAAFBClC0AAIASomwBAACUEGULAACghChbAAAAJfQ75tZ2IvG4D9UAAAAASUVORK5CYII%3D\" class=\"center-img\">\n",
              "    <img src=\"data:image/png;base64,iVBORw0KGgoAAAANSUhEUgAAAlsAAAIQCAYAAAC2WqveAAAABHNCSVQICAgIfAhkiAAAAAlwSFlzAAAPYQAAD2EBqD%2BnaQAAADh0RVh0U29mdHdhcmUAbWF0cGxvdGxpYiB2ZXJzaW9uMy4xLjIsIGh0dHA6Ly9tYXRwbG90bGliLm9yZy8li6FKAAAgAElEQVR4nOzdeVyVZf7/8TegQYqgKKAZ5ZIQAm5luC%2Bog6MV5Vdz%2BY2FtpmCSprpt00tswXTcalGZzRtMUorzRYTy69Tmrl7JElDSs0FEo6KqCCc3x%2BOZzzCreDNLaCv5%2BNxHsZ1L3zONWN8el/XuXFzOBwOAQAAwBLu5V0AAADAtYxmCwAAwEI0WwAAABai2QIAALAQzRYAAICFaLYAAAAsRLMFAABgIZotAAAAC9FsAQAAWIhmCwAAwEJVyrsAANKOHTv0ySefaOvWrTpw4IBOnTolT09PBQQEKDw8XL169VJUVJTc3NzKu1QAQCm58bsRgfLjcDg0ZcoUvfvuu5IkX19fBQcHy9vbWzk5Odq1a5dycnIkSV27dtXMmTN1ww03lGfJAIBSotkCytH777%2BvyZMny8vLS5MmTdI999wjDw8P5/HTp0/rww8/1KuvvqrCwkI99thjGjNmTDlWDAAoLfZsAeVo8eLFkqQHH3xQ9913n0ujJUleXl6KjY3Vo48%2BKkl67733dPr06ateJwDgytFsAeVo3759kqSQkJBLnhcbG6t//vOfWrVqlby8vCRJ48ePV0hIiF599VWdPHlSU6dOVVRUlCIiItSmTRvFxcVp9%2B7dhvdcv3694uLi1KFDB4WHh6tNmzaKjY3V559/bniN3W7X9OnTdd9996lly5YKCwtTu3btNGzYMG3YsKHYa6KiohQSEqK1a9dq1apV6tWrlyIiIrR582ZJ0qxZsxQSEqLx48crLy9Ps2bNUnR0tJo1a6bOnTvrxRdfVG5uriRpz549GjlypNq3b6%2BIiAjdc889Wr58ebHf99SpU5o3b54eeOAB3XnnnWratKkiIyM1ZMgQrVq1qthrBg8erJCQEC1evFgnT57U9OnTnbW0bt1ajz76qHbu3Gk4PwBQHJotoBz5%2BflJkrZt23bZ8zp27Kg6deoUOXby5EnFxsZq8eLFqlWrllq3bq2CggKtWrVK/fr1K7Y5mD59umJjY7Vq1Sp5e3srMjJSfn5%2BWr9%2BvcaOHavRo0eroKDA5ZrMzEz16dNHb7/9tvbu3aumTZuqTZs2uuGGG/Tdd9/poYce0tKlSw3fw969e5WQkKCqVauqTZs2zqbxQk899ZTmz5%2Bv%2BvXrq0mTJsrIyNB7772np59%2BWrt379bAgQOVmpqq22%2B/Xf7%2B/tq9e7eeeuoprVmzxuU%2Bp06d0qBBg5SYmKiUlBQ1btxYbdu2la%2Bvr9atW6e4uDjNmjXLsNa8vDzFxsZq4cKFqlevnsLCwlRQUKC1a9dq8ODBziYZAErEAaDcPP30047g4GBHSEiI49VXX3UcOXKk1Ne2atXKcffdd7tce/z4cUffvn0dwcHBjr59%2B7pc98033ziCg4MdrVu3dmzYsMHl2E8//eRo166dIzg42LFgwQKXYy%2B99JIjODjYER0d7fjzzz%2Bd42fPnnVMmTLFERwc7LjjjjscOTk5Ltd17drVERwc7IiKinK89dZbRd7HzJkzHcHBwY4OHTo47r33XkdmZqbz2KpVq5zz07NnT8esWbMchYWFDofD4SgoKHCMGDHCERwc7Hj44Ydd7rlgwQJHcHCwo02bNo709PRij4WGhjr27dvncuxvf/ubIzg42NGlSxfHoEGDHEePHnUey8jIcLRv394RHBzsePnll4u8DwAwQrIFlKPRo0erXr16cjgc%2Bte//qUuXbrob3/7m2bMmKF169bp1KlTl71HTk6OJk6cqICAAOdYjRo1NH78eEnnHivx22%2B/OY%2B99dZbkqSnn35ad911l8u9WrdurXHjxkmSFi5c6HIsICBAvXv3VlxcnGrXru0c9/DwUEJCgtzd3XXixAnDlO78Bn8jGRkZmjRpkkt61717d/n7%2B8vhcKhKlSoaMWKE8/EX7u7u6t%2B/vyTp559/drlX9erVdc8992jYsGFq0KCBy7GHHnpI/v7%2BKigo0Pr164utJTMzU2%2B88YYzeZQkf39/3XPPPZKk7du3G74PALgYz9kCylHdunX18ccf6/XXX9eKFStUUFCgjRs3auPGjXrrrbdUtWpVRUZG6t5771Xv3r1VpUrRv7IBAQG64447ioy3bNlS1atX18mTJ7Vt2zY1aNBAR44cUUpKiiSpR48exdbUvXt3ubm56eDBg0pPT1fDhg0lyblJvzg33nijateurczMTGVmZhZ7Tps2beTubvzfd/7%2B/mrRokWR8fr16yszM1Ndu3Yt8pyx%2BvXrS5KOHTvmMt6vXz/169ev2O/j5uamm2%2B%2B%2BZK13nXXXQoMDCwyfsstt0iSsrOzDd8HAFyMZgsoZ/7%2B/nrttdc0btw4rVq1SuvXr9emTZt09OhR5efn6/vvv9f333%2BvefPm6c0333T%2BwD8vODi42Pu6u7urfv362r17tw4cOCBJLhvmzydfxalSpYry8/P122%2B/OZst6dxepv/7v//Tzp07lZGRoePHj8vxn6fHnDhxQtK5BKs4xTUvF7r55puLHT//XLHzjVVxx86ePVvkWGFhoX744Qdt3bpVGRkZstvtztrS09MvWWtQUFCx456enpKk/Pz8S70VAHBBswVUEHXq1NHAgQM1cOBASec2lG/YsEHLli3T1q1btWfPHj322GP6/PPPVbVqVed1vr6%2BhvesUaOGpHOb6CXXBGj16tWXrel8AyVJqampGjFihLNxK61L1SnJ5T1dyfELHTx4UCNGjCiyvFhSPDgWQFmi2QIqqEaNGqlRo0YaOHCgFi5cqJdfflnp6en68ssvFRMT4zzvUktz55Ob8%2BecX4arWrWqbDZbiX/9z%2BnTp/XEE0/o4MGDatCggYYPH662bduqVq1aziYoKipKf/zxh%2BE9ruavGho5cqR%2B/vln1alTR/Hx8erUqZPq1KnjbKIGDx6sn3766arVA%2BD6RrMFVAIPPfSQ3nvvPe3bt0979uxxOXb%2B1/kU5/yx8wlXzZo1JZ1bBsvOznbZAH4pa9eu1cGDB%2BXm5qa5c%2Bfq1ltvLXJORXnYakpKimw2myQpMTFRbdu2LXJORakVwPWBTyMC5WTVqlV6/vnnNXfu3BKdf34Z7vy%2BofN%2B/fXXYs8vKChwJk3n9yBduL/r4qbtUs5/mvGWW24pttHat2%2Bfjh49WuL7Wen333%2BXJOfzvC528uTJSz7sFQDKGs0WUE5sNpuSkpI0d%2B5cHTx48JLnHjlyRKmpqZJU5BN7%2B/fv165du4pcs3nzZueT11u2bCnp3Gb8sLAwSdJHH31U7PdKT09XTEyM8xER0n%2BTsTNnzhR7zZw5c5z/fPHDUK82b29vSeeWUIvbyP6vf/3LmWwVt7EeAMoazRZQToYMGSJ/f3%2BdOHFCDz30ULG/7sbhcOjHH3/UI488ovz8fLVo0ULt27d3OadGjRp69tlnXZIlu92uV155RdK5Ry7cdNNNzmPDhg2TJK1YsULvvPOO89OE0rlUaOTIkUpNTdWhQ4ec47fffrsk6fDhw0pOTnaOnzp1Si%2B99JJsNpuzodu7d%2B8Vz0lZCA4OloeHhwoKCvTBBx84x8%2BePat//OMfSkpKUteuXSX991OJAGAl9mwB5aRWrVqaP3%2B%2B4uPj9dtvv%2BnBBx%2BUv7%2B/GjVqpGrVqslut%2BvAgQPOZ0Hdcccdmj17dpEN8VFRUdq/f7%2B6deumiIgIVa1aVdu3b1dOTo68vb31/PPPu5z/l7/8RY899pjmzp2rqVOnatGiRWrUqJGys7O1a9cuFRQUqGnTpho7dqzzmpYtW6pDhw76/vvvFR8fr%2BbNm8vT01M7d%2B5UlSpVtGDBAn3xxRfaunWrFi1apF9%2B%2BUVPPPGEWrdubf1EXqRu3brq27evkpKSNHXqVC1fvlw1a9bUrl27dPLkSc2ePVsHDhzQd999p5UrV2rw4MEaNGiQ/vrXv171WgFcH2i2gHIUHByszz//XF988YW%2B/fZbpaamaseOHcrLy5OXl5cCAwPVtm1b9erVS126dCn2E33u7u6aP3%2B%2B3nzzTX3zzTc6ePCgqlevrujoaCUkJLg8J%2Bu8MWPGqF27dnrvvfe0bds2rV%2B/Xp6engoPD1evXr00aNCgIo8/mDFjhhITE7V69Wrt3LlTAQEBio6O1rBhw3TLLbeobt26%2Bvnnn7Vlyxbt2bPnqn768GLPPvusfH19tWLFCu3evVu1a9dWZGSkHn/8cYWGhur06dPasGGD1q5dqz179rikewBQ1twc/FsGqJTGjx%2BvTz/9VPfff79zyRAAUPGwZwsAAMBCNFsAAAAWotkCAACwEM0WAACodP7973%2BrXbt2SkhIuOR5hYWFmj59urp166bWrVvr4Ycf1v79%2B53H7Xa7Ro8erXbt2qlDhw565plnyvy3TLBBHgAAVCrz5s3TkiVL5Ofnp7p162r69OmG57777rtasGCB5s2bp8DAQE2fPl0bN27UsmXL5Obmpvj4eOXl5Wnq1KnKz8/XqFGjFB4ermeffbbM6iXZAgAAlYqnp6eWLFlS7K8Pu1hSUpJiY2PVuHFjeXt7KyEhQWlpadq%2Bfbv%2B/PNPJScnKyEhQX5%2BfgoMDNTw4cO1dOnSYn8DxZXiOVsAAOCqy8jIcD60%2BTx/f38FBARc9toHH3ywRN/j9OnT%2BvXXX9W0aVPnmLe3t2699VbZbDadOHFCHh4eCgkJcR4PCwtTbm6u9u7d6zJuBs3WxcrxQYwooYYNpT17pCZNJH7dSsVWq1Z5V4DLufVWadMm6c47pf/8Em9UUFlZ5fN9Lfq5mDRzpmbPnu0yFhcXp/j4%2BDL7HseOHZPD4ZCvr6/LuK%2Bvr7Kzs1WzZk15e3u7PIT5/LnZ2dllVgfNFiqfmjUlD49zfwIwx9f33N%2Bni34YAVbr37%2B/oqKiXMb8/f0t%2BV6X2p5%2BNbau02wBAABj7tZs7w4ICCjRkqEZNWvWlLu7u%2Bx2u8u43W5X7dq15efnp5ycHBUUFMjDw8N5TJJq165dZnWwQR4AABhzd7fmdRV4enqqSZMmSklJcY4dP35c%2B/btU7NmzRQaGiqHw6HU1FTncZvNJh8fn2J/r%2ByVotkCAADXjCNHjqhnz57OZ2kNHDhQixYtUlpamnJycpSYmKjQ0FBFRETIz89P0dHRmjFjhrKysnT48GHNmTNHffv2VZUqZbf4xzIiAAAwdpVSqNKIiIiQJJ09e1aSlJycLOlcKpWfn6/09HTl5eVJkgYMGKDMzEwNHjxYJ0%2BeVGRkpMvG/MmTJ%2BuFF15Qt27dVLVqVd19992XfVBqafFQ04vxacSKr2VLacsWqVUraevW8q4Gl8KnESu%2BZs2kNWukLl2kHTvKuxpcSnl9GtHT05r7njljzX0rIJItAABgrAImW5UNzRYAADBGs2UaMwgAAGAhki0AAGCMZMs0ZhAAAMBCJFsAAMAYyZZpNFsAAMAYzZZpzCAAAICFSLYAAIAxki3TmEEAAAALkWwBAABjJFum0WwBAABjNFumMYMAAAAWItkCAADGSLZMYwYBAAAsRLIFAACMkWyZRrMFAACM0WyZxgwCAABYiGQLAAAYI9kyjRkEAACwEMkWAAAwRrJlGs0WAAAwRrNlGjMIAABgIZItAABgjGTLNJotAABgjGbLNGYQAADAQiRbAADAGMmWacwgAACAhUi2AACAMZIt02i2AACAMZot05hBAAAAC5FsAQAAYyRbpjGDAAAAFiLZAgAAxki2TKPZAgAAxmi2TGMGAQAALESyBQAAjJFsmcYMAgAAWIhkCwAAGCPZMo1mCwAAGKPZMo0ZBAAAsBDJFgAAMEayZRrNFgAAqHT%2B%2BOMPTZo0Sdu3b1e1atXUq1cvjRkzRu4XNYdDhw7Vxo0bXcbOnj2rESNGKC4uToMHD9aWLVtcrmvYsKGWL19eZrXSbAEAAGMVNNmKj49XWFiYkpOTdfToUT3%2B%2BOOqU6eOhgwZ4nLe/PnzXb4%2Bfvy4evXqpR49ejjHXnzxRfXp08eyWmm2AACAMYuarYyMDGVmZrqM%2Bfv7KyAg4LLX2mw2paamasGCBapRo4Zq1Kih2NhYLVy4sEizdbEZM2aoR48eCgkJMVV/adBsAQCAqy4pKUmzZ892GYuLi1N8fPxlr01JSVH9%2BvXl6%2BvrHAsLC1N6erpycnLk7e1d7HW///67PvvsMyUnJ7uMf/nll/rnP/%2BpQ4cOqXnz5po8ebJuueWWK3hXxaPZAgAAxixKtvr376%2BoqCiXMX9//xJda7fb5ePj4zJ2vvHKzs42bLbmzp2r//mf/5Gfn59zrHHjxrrxxhuVmJiowsJCvfTSS3rkkUe0YsUK3XDDDaV5S4ZotgAAwFUXEBBQoiVDIw6Ho1Tn2%2B12LVu2TF999ZXL%2BMSJE12%2Bnjx5siIjI7V582a1bdv2iuu7EM0WAAAwVgE3yPv5%2Bclut7uM2e12ubm5uaRWF1q9erUaNmyooKCgS97b29tbvr6%2BOnLkSJnVW/FmEAAAVBzu7ta8TAgPD9ehQ4eUlZXlHLPZbLrttttUvXr1Yq9ZvXq12rdv7zKWk5OjiRMnujRWWVlZysrKumxTVho0WwAAoFJp2rSpIiIiNG3aNOXk5CgtLU0LFizQwIEDJUk9e/bUpk2bXK7ZtWuXbr75Zpcxb29vbd%2B%2BXS%2B99JLsdruOHTumSZMmKSQkRC1btiyzemm2AACAsQqYbEnSzJkzlZGRofbt2%2BvBBx/Ufffdp0GDBkmS0tPTlZub63J%2BZmam6tSpU%2BQ%2Bc%2BbMkcPhUHR0tLp06aL8/HzNnTu3yMNRzWDPFgAAqHTq1q2refPmFXvsl19%2BKTK2c%2BfOYs%2B96aabijyCoqzRbAEAAGMVcIN8ZUOzBQAAjNFsmcYMAgAAWIhkCwAAGCPZMo0ZBAAAsBDJFgAAMEayZRrNFgAAMEazZRozCAAAYCGSLQAAYIxkyzRmEAAAwEIkWwAAwBjJlmk0WwAAwBjNlmnMIAAAgIVItgAAgDGSLdNotgAAgDGaLdOYQQAAAAuRbAEAAGMkW6YxgwAAABYi2QIAAMZItkyj2QIAAMZotkxjBgEAACxEsgUAAIyRbJnGDAIAAFiIZAsAABgj2TKNZgsAABij2TKNGQQAALAQyRYAADBGsmUaMwgAAGAhki0AAGCMZMs0mi0AAGCMZss0ZhAAAMBCJFsAAMAYyZZpzCAAAICFSLYAAIAxki3TaLYAAIAxmi3TmEEAAAALkWwBAABjJFumMYMAAAAWItkCAADGSLZMo9kCAADGaLZMYwYBAAAsVG7N1meffaaoqKgSnfvJJ5%2Boffv2FlcEAACKcHe35nUdueJ3GxUVpcWLFxcZX7x4cYmaqPvuu0/ffvvtlX57F/v379fXX39dJvcCAAAV3x9//KHHHntMkZGR6tq1q15//XUVFhYWOW/WrFkKDQ1VRESEy%2BvPP/%2BUJJ05c0bPP/%2B8OnXqpMjISI0cOVLZ2dllWus10Vp%2B8803WrlyZXmXAQDAtaeCJlvx8fEKDAxUcnKyFixYoOTkZC1cuLDYc2NiYmSz2VxederUkSRNnz5dKSkpSkpK0sqVK%2BVwODRhwgTT9V3I0g3yf/zxh1588UVt3bpVhYWF6tq1q55//nl5e3vrk08%2B0bRp0/TDDz9IktasWaOJEyfq2LFj6tmzp%2BrWratNmzbp3Xffdd5v1apVeuWVV5SRkaG//vWvmjJlihYtWqTExERJUnJysrZt2yYPD48S1ZeRkaHMzEyXMf%2BGDRVQs2YZzQAscfvtrn%2Bi4vLxKe8KcDlNmrj%2BiYppx47y%2B94WLfkV%2BzPY318BAQGXvdZmsyk1NVULFixQjRo1VKNGDcXGxmrhwoUaMmRIiWs4e/aslixZoldffVX16tWTJI0ePVq9e/fWkSNHFBgYWLo3ZcCyZsvhcGj48OFq1aqVpk%2BfrtzcXD355JN69dVX9eKLL7qcm5GRofj4eI0ZM0aDBg3S8uXL9dprrykkJMR5zsmTJ7V582Z9/vnn%2Bu233/TAAw%2Boe/fuevjhh7Vnzx6dOXNG06dPL1WNSUlJmj17tstY3KhRih816srfOK6eDz4o7wqAa8e8eeVdAS7Fz6%2B8Kyhzxf4MjotTfHz8Za9NSUlR/fr15evr6xwLCwtTenq6cnJy5O3t7XL%2BL7/8ogEDBmj37t2qV6%2BeJkyYoA4dOmjfvn06ceKEwsLCnOc2btxYXl5eSklJqRjN1ksvvaSXX37ZZaywsFCBgYGy2Wzas2ePFi9erBtvvFE33nij4uPj9fDDD2vy5Mku1/z444%2BqVq2aBg8eLA8PD/Xt21dLlixxOefMmTOKj49XtWrV1LRpUzVq1Ejp6elmylf//v2L7C/zv%2BceySCGRAVx%2B%2B3nGq1Bg6TU1PKuBpdCslXxNWlyrtF69FFpz57yrgYVkUXJVrE/g/39S3St3W6Xz0X/fjnfeGVnZ7s0W3Xr1lVQUJDGjBmjgIAAJSUladiwYVq%2BfLnsdrskFbmXj49Pme7bMtVsPfvssxo4cKDL2OLFizVv3jzt379fBQUFioyMdDleUFBQ5A1kZmaqbt26Lst/4eHh%2BuWXX5xf16pVS9WrV3d%2B7eXlpby8PDPlKyAgoGhcabKBw1WUmipt3VreVeBSatUq7wpQUnv2lO9SFa47xf4MLgWHw1Gi8/r166d%2B/fo5v46NjdUXX3yh5cuXq1OnTqW615WybBnR09NT1apV09YS/DAsLCxUlSqupbhf1Em7ubmVaX0AAKAEKuBjGvz8/Jyp1Hl2u11ubm7yK8GSa/369ZWRkeE81263uwQ6x44dU%2B3atcusXstm8JZbblFubq7279/vHMvJySk2lqtdu7YOHz7s0lnabDarSgMAACVVAT%2BNGB4erkOHDikrK8s5ZrPZdNttt7k0TZL05ptvav369S5jaWlpCgoKUlBQkHx9fZWSkuI8tnv3buXl5Sk8PNxUjReyrNkKDg5Wy5YtNWXKFGVlZen48eN64YUXNG7cuCLntm7dWllZWfrwww%2BVl5enpUuX6vfffy/x9/L09NShQ4d0/PhxnT17tizfBgAAqGCaNm2qiIgITZs2TTk5OUpLS9OCBQucW5t69uypTZs2STqXWk2aNEl79%2B7VmTNnNH/%2BfO3bt0/333%2B/PDw89MADD%2Bjtt9/WoUOHlJ2drTfeeEM9evRwPhqiLFiaDU6bNk0Oh0PdunVTjx49VFBQoFdeeaXIeUFBQZoyZYpmzpyp9u3bKzU1VTExMSVeOrznnnuUnp6url27KiMjo6zfBgAA168KmGxJ0syZM5WRkaH27dvrwQcf1H333adBgwZJktLT05WbmytJGjNmjDp16qTY2Fi1bt1aK1as0DvvvKO6detKkkaOHKnmzZsrJiZG3bp1U/Xq1TVlyhTT9V3IzWH1rrASysvLU9WqVZ0N1tNPP63CwkK9/vrrV7cQ9oZVfC1bSlu2SK1asUG%2BomODfMXXrJm0Zo3UpQsb5Cu6C5bMrqqpU625bxk/OLQiqxC73nJzc9W2bVt98MEHKiwsVEpKilavXq3OnTuXd2kAAFzfKmiyVZlY%2BgT5kqpWrZr%2B/ve/KzExUa%2B//rr8/Pw0dOhQ9e7du7xLAwDg%2BnadNUZWqBDNliR16NBBHTp0KO8yAAAAylSFabYAAEAFRLJlGs0WAAAwRrNlGjMIAABgIZItAABgjGTLNGYQAADAQiRbAADAGMmWaTRbAADAGM2WacwgAACAhUi2AACAMZIt05hBAAAAC5FsAQAAYyRbptFsAQAAYzRbpjGDAAAAFiLZAgAAxki2TGMGAQAALESyBQAAjJFsmUazBQAAjNFsmcYMAgAAWIhkCwAAGCPZMo0ZBAAAsBDJFgAAMEayZRrNFgAAMEazZRozCAAAYCGSLQAAYIxkyzRmEAAAwEIkWwAAwBjJlmk0WwAAwBjNlmnMIAAAgIVItgAAgDGSLdOYQQAAAAuRbAEAAGMkW6bRbAEAAGM0W6YxgwAAABYi2QIAAMZItkxjBgEAACxEsgUAAIyRbJlGswUAAIzRbJnGDAIAAFiIZAsAABgj2TKNGQQAAJXOH3/8occee0yRkZHq2rWrXn/9dRUWFhZ77uLFixUdHa2WLVsqJiZGycnJzmPjx49X06ZNFRER4XzdeeedZVoryRYAADBWQZOt%2BPh4hYWFKTk5WUePHtXjjz%2BuOnXqaMiQIS7nrVy5UtOmTdM//vEPNWvWTJ999plGjx6tr776SkFBQZKkJ554QvHx8ZbVWjFnEAAAVAzu7pa8MjIylJKS4vLKyMgoUUk2m02pqakaO3asatSooQYNGig2NlZJSUlFzj19%2BrSefPJJ3XHHHapatar69eun6tWra9u2bWU9U4ZItgAAwFWXlJSk2bNnu4zFxcWVKGFKSUlR/fr15evr6xwLCwtTenq6cnJy5O3t7RyPiYlxufb48eM6efKkAgMDnWM//vijVq9erd9//12NGzfWxIkTFR4efqVvrQiaLQAAYMyiZcT%2B/fsrKirKZczf379E19rtdvn4%2BLiMnW%2B8srOzXZqtCzkcDj377LNq3ry57rrrLklSUFCQ3N3dNWrUKFWvXl2zZ8/W0KFDtXLlStWqVau0b6tYNFsAAOCqCwgIUEBAwBVf73A4SnV%2Bfn6%2Bxo8fr19//VWLFi1yjo8YMcLlvKeeekorVqxQcnKy%2BvXrd8X1XYhmCwAAGKuAG%2BT9/Pxkt9tdxux2u9zc3OTn51fk/NOnT2v48OE6deqU3n///UsmVh4eHqpXr16J94%2BVRMWbQQAAUHFYtEHejPDwcB06dEhZWVnOMZvNpttuu03Vq1d3OdfhcCghIUFVqlTRO%2B%2B849JoORwOTZ06Vampqc6xvLw87du3z/lJxbJAswUAACqV88/FmjZtmnJycpSWlqYFCxZo4MCBkqSePXtq06ZNkqTPP/9cv/76q/7%2B97/L09PT5T5ubm46cOCAJk2apCNHjujkyZNKTExU1apV1b179zKrl2VEAABgrAIuI0rSzJkz9dxzz7jOqtoAACAASURBVKl9%2B/by9vbWgAEDNGjQIElSenq6cnNzJUlLly7VH3/84dwQf15MTIxeeuklTZkyRa%2B%2B%2Bqr69OmjnJwcNWvWTAsXLlS1atXKrFY3R2l3mF3r3NzKuwJcTsuW0pYtUqtW0tat5V0NLqWMPskDCzVrJq1ZI3XpIu3YUd7V4FIuWDK7qjZssOa%2BkZHW3LcCqpjtKgAAwDWCZUQAAGCsgi4jVibMIAAAgIVItgAAgDGSLdNotgAAgDGaLdOYQQAAAAuRbAEAAGMkW6YxgwAAABYi2QIAAMZItkyj2QIAAMZotkxjBgEAACxEsgUAAIyRbJnGDAIAAFiIZAsAABgj2TKNZgsAABij2TKNGQQAALAQyRYAADBGsmUaMwgAAGAhki0AAGCMZMs0mi0AAGCMZss0ZhAAAMBCJFsAAMAYyZZpzCAAAICFSLYAAIAxki3TaLYAAIAxmi3TmEEAAAALkWwBAABjJFumMYMAAAAWItkCAADGSLZMo9kCAADGaLZMYwYBAAAsRLIFAACMkWyZxgwCAABYiGQLAAAYI9kyjWYLAAAYo9kyjRkEAACwEMkWAAAwRrJlGjMIAABgIZItAABgjGTLNJotAABgjGbLNGYQAADAQiRbAADAGMmWacwgAAAw5u5uzcukP/74Q4899pgiIyPVtWtXvf766yosLCz23EWLFik6OlqtWrXSwIEDtXPnTuexM2fO6Pnnn1enTp0UGRmpkSNHKjs723R9F6LZAgAAlU58fLwCAwOVnJysBQsWKDk5WQsXLixy3rfffqtZs2bptdde07p169S1a1cNGzZMubm5kqTp06crJSVFSUlJWrlypRwOhyZMmFCmtdJsAQAAYxYlWxkZGUpJSXF5ZWRklKgkm82m1NRUjR07VjVq1FCDBg0UGxurpKSkIucmJSWpT58%2Bat68uby8vPTII49Ikr777judPXtWS5Ys0fDhw1WvXj3VrFlTo0eP1po1a3TkyJEym0L2bF2sVq3yrgCX4%2BPz3z/536tiK%2BMoHhY4fvy/f/K/F66ipKQkzZ4922UsLi5O8fHxl702JSVF9evXl6%2Bvr3MsLCxM6enpysnJkbe3t8u5vXr1cn7t7u6u0NBQ2Ww2hYaG6sSJEwoLC3Meb9y4sby8vJSSkqLAwEAzb9GJZgsAABhyyM2S%2B/bv319RUVEuY/7%2B/iW61m63y%2Bf8f3j/x/nGKzs726XZstvtLk3Z%2BXOzs7Nlt9slqci9fHx8ynTfFs0WAAAwZLDn3LSAgAAFBARc8fUOh6PMzi3Nva4Ee7YAAECl4ufn50ylzrPb7XJzc5Ofn5/LeK1atYo918/Pz3nuxcePHTum2rVrl1m9NFsAAMBQYaE1LzPCw8N16NAhZWVlOcdsNptuu%2B02Va9evci5KSkpzq8LCgr0888/q3nz5goKCpKvr6/L8d27dysvL0/h4eHmirwAzRYAAKhUmjZtqoiICE2bNk05OTlKS0vTggULNHDgQElSz549tWnTJknSwIED9dlnn2nbtm06deqU3nrrLd1www3q0qWLPDw89MADD%2Bjtt9/WoUOHlJ2drTfeeEM9evRQnTp1yqxe9mwBAABDVu3ZMmvmzJl67rnn1L59e3l7e2vAgAEaNGiQJCk9Pd35HK1OnTrpySef1OjRo3X06FFFRERo7ty58vLykiSNHDlSJ0%2BeVExMjM6ePauuXbtq4sSJZVqrm8PqXWGVzUVrvaiAmjWT1qyRunSRduwo72pwKTxKoOJr2VLaskVq1UraurW8q8GllNOP61OnrLnvjTdac9%2BKiGVEAAAAC7GMCAAADFXUZcTKhGQLAADAQiRbAADAEMmWeTRbAADAEM2WeSwjAgAAWIhkCwAAGCLZMo9kCwAAwEIkWwAAwBDJlnk0WwAAwBDNlnksIwIAAFiIZAsAABgi2TKPZAsAAMBCJFsAAMAQyZZ5NFsAAMAQzZZ5LCMCAABYiGQLAAAYItkyj2QLAADAQiRbAADAEMmWeTRbAADAEM2WeSwjAgAAWIhkCwAAGCLZMo9kCwAAwEIkWwAAwBDJlnk0WwAAwBDNlnksIwIAAFiIZAsAABgi2TKPZAsAAMBCJFsAAMAQyZZ5NFsAAMAQzZZ5LCMCAABYiGQLAAAYItkyj2YLAAAYotkyj2VEAAAAC5FsAQAAQyRb5pFsAQAAWIhkCwAAGCLZMo9mCwAAGKLZMo9lRAAAAAuRbAEAAEMkW%2BaRbAEAAFiIZAsAABgi2TKPZAsAABgqLLTmZSW73a7Ro0erXbt26tChg5555hmdPn3a8PxvvvlG9957r1q2bKno6Gh99NFHzmOzZs1SaGioIiIiXF5//vlnieuh2QIAANeU5557TqdOndKKFSu0dOlSpaWlKTExsdhzd%2BzYobFjx2rkyJHauHGj/vd//1eTJ0/Wpk2bnOfExMTIZrO5vOrUqVPielhGBAAAhqxKoTIyMpSZmeky5u/vr4CAAFP3/fPPP5WcnKxPP/1Ufn5%2BkqThw4dr1KhRevrpp1W1alWX8%2B12ux5//HF1795dktS5c2cFBwdr06ZNuvPOO03Vch7NFgAAuOqSkpI0e/Zsl7G4uDjFx8ebuu%2BuXbvk4eGhkJAQ51hYWJhyc3O1d%2B9el3FJ6tSpkzp16uT8%2BuzZs8rMzFRgYKBz7JdfftGAAQO0e/du1atXTxMmTFCHDh1KXBPNFgAAMGRVstW/f39FRUW5jPn7%2B5u%2Br91ul7e3t9zc3Jxjvr6%2BkqTs7OzLXp%2BYmKhq1aqpV69ekqS6desqKChIY8aMUUBAgJKSkjRs2DAtX75cjRo1KlFNNFsAAMCQVc1WQEDAFS8ZLlu2TOPGjSv2WEJCghwOR6nv6XA4lJiYqBUrVmjRokXy9PSUJPXr10/9%2BvVznhcbG6svvvhCy5cv1%2BjRo0t0b5otAABQqcTExCgmJqbYYz/88INycnJUUFAgDw8PSefSLkmqXbt2sdcUFhZqwoQJ2rFjhxYvXqygoKBLfv/69esrIyOjxPXyaUQAAGCosj36ITQ0VA6HQ6mpqc4xm80mHx8fNWzYsNhrXn75Ze3Zs6fYRuvNN9/U%2BvXrXcbS0tIu25BdiGYLAABcM/z8/BQdHa0ZM2YoKytLhw8f1pw5c9S3b19VqXJuQe%2Bhhx7Sl19%2BKUnavHmzli9frrlz56pmzZpF7me32zVp0iTt3btXZ86c0fz587Vv3z7df//9Ja6JZUQAAGCoMj5BfvLkyXrhhRfUrVs3Va1aVXfffbcSEhKcx/fv369jx45JkpYuXaoTJ06oa9euLvdo3bq15s%2BfrzFjxkg6t1fLbrfrtttu0zvvvKO6deuWuB43x5XsIruW/eeZHKjAmjWT1qyRunSRduwo72pwKSX45A/KWcuW0pYtUqtW0tat5V0NLqWcflx/9ZU19/3rX625b0XEMiIAAICFWEYEAACGKuMyYkVDsgUAAGAhki0AAGCIZMs8mi0AAGCIZss8lhEBAAAsRLIFAAAMkWyZR7IFAABgIZItAABgiGTLPJotAABgiGbLPJYRAQAALESyBQAADJFsmUeyBQAAYCGSLQAAYIhkyzyaLQAAYIhmyzyWEQEAACxEsgUAAAyRbJlHsgUAAGAhki0AAGCIZMs8mi0AAGCIZss8lhEBAAAsRLIFAAAMkWyZR7IFAABgIZItAABgiGTLPJotAABgiGbLPJYRAQAALESyBQAADJFsmUezBQAADNFsmccyIgAAgIVItgAAgCGSLfNItgAAACxEsgUAAAyRbJlHswUAAAzRbJnHMiIAAICFSLYAAIAhki3zSLYAAAAsRLIFAAAMkWyZR7MFAAAM0WyZxzIiAACAhUi2AACAIZIt88ot2dq4caMiIiKUl5d32XM3bNigkJAQnTlz5ipUBgAAUHZK3Gz16dNHr732mstYSkqKQkJC9M0337iML1q0SB06dJDD4TC8X%2BvWrWWz2XTDDTeUsuSi7Ha7Pv74Y9P3AQAArgoLrXlZyW63a/To0WrXrp06dOigZ555RqdPny723E8%2B%2BUS33367IiIiXF47duz4z/sv1PTp09WtWze1bt1aDz/8sPbv31%2BqekrcbHXs2FHr1q1zGfvhhx9UrVq1IuPr1q1Thw4d5ObmVqpirtSPP/5IswUAgAUqY7P13HPP6dSpU1qxYoWWLl2qtLQ0JSYmGp5/PgC68NWsWTNJ0vvvv6/PP/9cc%2BfO1XfffacGDRpoxIgRlwyULlaqZis1NVVZWVnOsfXr1%2Bv%2B%2B%2B/X%2BvXrnWNnz57Vxo0b1bFjR9ntdo0dO1YdOnRQy5Yt9cQTT%2BjIkSOSii4N7tixQ9HR0WrevLmGDRum9957T1FRUS41bN68Wb1791Z4eLgeffRRnThxQl999ZWefPJJ7dixQxEREaXuNgEAwLXjzz//VHJyshISEuTn56fAwEANHz5cS5cuVX5%2Bfqnvl5SUpNjYWDVu3Fje3t5KSEhQWlqatm/fXuJ7lHiDfIsWLeTt7a1169bp7rvvVl5enrZs2aIXXnhBS5cu1cGDB3XTTTdpx44dys3NVfv27TV%2B/HhVqVJFX3zxhTw8PPTCCy9owoQJmj9/vsu98/LyNGzYMN17770aPXq0NmzYoP/93/%2BVp6eny3krVqzQ4sWLdezYMT3wwANasmSJhgwZol9//VX//ve/9dFHH5X4jUtSRkaGMjMzXcb8b7lFATVrluo%2BuMqaNHH9ExXX8ePlXQEu5/bbXf9ExbR1a7l9a6tSqGJ/Bvv7KyAgwNR9d%2B3aJQ8PD4WEhDjHwsLClJubq71797qMn3fo0CENGTJEO3fulI%2BPj0aOHKmYmBidPn1av/76q5o2beo819vbW7feeqtsNptatGhRoppK3GxVqVJF7dq10w8//KC7775bmzdvVmBgoBo0aKAWLVpo3bp16tu3r9atW6eIiAgVFBTou%2B%2B%2B05dffilfX19J0tixY9WlS5cik2uz2ZSVlaUnnnhCXl5e6ty5s9q0aaOtF/2fa%2BjQofLx8ZGPj49atGih9PT0kpZfrKSkJM2ePdtlLG74cMWPGmXqvrhK5s0r7wqAa8cHH5R3BbiUq7Qt52oq9mdwXJzi4%2BNN3ddut8vb29tlK9P5PiQ7O7vI%2BX5%2BfmrQoIGefPJJ3XbbbVq1apXGjRungIAANWrUSA6Hw3n9hfcr7l5GSvXoh44dOzonZt26dWrTpo0kqW3btlq/fr369u2r9evXq2PHjs7lvPvuu8/lHh4eHjp06JDLWGZmpry9vV3eTERERJFm6%2Babb3b%2Bs5eXV4k%2ByXgp/fv3L7JU6f///p/06aem7guLNWlyrtF69FFpz57yrgaXQrJV8d1%2B%2B7lGa9AgKTW1vKtBBWRVslXsz2B//xJdu2zZMo0bN67YYwkJCaXaT9WlSxd16dLF%2BXXv3r21atUqffLJJxo7dqwklep%2BxSl1s/Xss88qLS1NP/74o4YOHSpJatOmjd59913l5uZq%2B/bteuqpp%2BTl5SVJWrt2rWrVqlXkXhs2bHD%2Bc2FhoapUcS2luM31Zb3hPiAgoGhcuW/fuRcqvj17pP98WgQVVCn%2Byw/lLDW1XJeqUHFZ1WwV%2BzO4hGJiYhQTE1PssR9%2B%2BEE5OTkqKCiQh4eHpHNplyTVrl27RPevX7%2B%2Bdu7cqZo1a8rd3d15/Xl2u73E95JK%2BZytunXrqkmTJlq7dq127dqlyMhISVJ4eLhOnTqlTz75RNWrV1ezZs1Uv359ubu765dffnFen5%2Bf79wgf6HatWvr2LFjysnJcY7ZbLbSlAYAAKDQ0FA5HA6lXpDU2mw2%2Bfj4qGHDhkXOX7x4sb788kuXsbS0NAUFBcnT01NNmjRRSkqK89jx48e1b98%2B56cVS6LUDzXt2LGj3n//fd12223y8/OTdG4/V%2BvWrbVw4UK1a9dO7u7uqlGjhnr16qXExEQdPnxYp0%2Bf1htvvKGhQ4cWiePCw8N14403at68ecrLy9PatWv1008/lbgmT09PZWZmym63m15aBAAA/1XZHv3g5%2Ben6OhozZgxQ1lZWTp8%2BLDmzJmjvn37OlfRHnroIWeDlZeXpxdffFE2m035%2BflasWKF1q5dqwEDBkiSBg4cqEWLFiktLU05OTlKTExUaGioIiIiSlzTFTVb%2B/fvd%2B7XOq9t27bat2%2BfOnbs6Bx77rnndOutt6p3797q2LGjfv31V7355ptFlgOrV6%2BuGTNm6LPPPlNkZKSWLVum2NjYEi8bdu/eXQ6HQ126dNHOnTtL%2B5YAAMA1ZPLkyapRo4a6deume%2B%2B9V82aNVNCQoLz%2BP79%2B3Xs2DFJ0oMPPqjBgwdr1KhRatWqlebMmaM5c%2BYoPDxckjRgwADdf//9Gjx4sNq3b6/Dhw8X2dh/OW4Os7u%2BykhBQYEkOddXZ86cqR9//FEfXO1PyPwnrUMF1qyZtGaN1KULe7YqOvZsVXwtW0pbtkitWrFnq6Irpx/XEyZYc9%2BpU625b0VUbr8b8UIOh0M9e/bU9OnTlZ%2Bfr99//12fffaZOnfuXN6lAQBwXatsy4gVUak%2BjWgVNzc3TZ8%2BXVOmTNFdd92lGjVqKDo6WkOGDCnv0gAAAEypEM2WdG6T/OLFi8u7DAAAcIHrLYWyQoVYRgQAALhWVZhkCwAAVDwkW%2BbRbAEAAEM0W%2BaxjAgAAGAhki0AAGCIZMs8ki0AAAALkWwBAABDJFvm0WwBAABDNFvmsYwIAABgIZItAABgiGTLPJItAAAAC5FsAQAAQyRb5tFsAQAAQzRb5rGMCAAAYCGSLQAAYIhkyzyaLQAAYIhmyzyWEQEAACxEsgUAAAyRbJlHsgUAAGAhki0AAGCIZMs8mi0AAGCIZss8lhEBAAAsRLIFAAAMkWyZR7IFAABgIZItAABgiGTLPJotAABgiGbLPJYRAQAALESyBQAADJFsmUeyBQAAYCGSLQAAYIhkyzyaLQAAYIhmyzyWEQEAACxEsgUAAAyRbJlHsgUAAGAhki0AAGCIZMs8mi0AAGCIZss8lhEBAAAsRLIFAAAMkWyZR7IFAABgIZItAABgqDImW3a7XRMnTtRPP/0kd3d3de7cWc8995y8vLyKnPvss89q2bJlLmMFBQWKiYnR1KlTNX78eC1fvlweHh7O456entq0aVOJ6yHZAgAAhgoLrXlZ6bnnntOpU6e0YsUKLV26VGlpaUpMTCz23Jdeekk2m8352rp1qxo1aqSePXs6z3niiSdczilNoyXRbAEAgGvIn3/%2BqeTkZCUkJMjPz0%2BBgYEaPny4li5dqvz8/Mtev3DhQt10003q3LlzmdXEMiIAADBkVQqVkZGhzMxMlzF/f38FBASYuu%2BuXbvk4eGhkJAQ51hYWJhyc3O1d%2B9el/GLHT9%2BXG%2B//bY%2B%2BOADl/Eff/xRq1ev1u%2B//67GjRtr4sSJCg8PL3FNNFsAAOCqS0pK0uzZs13G4uLiFB8fb%2Bq%2Bdrtd3t7ecnNzc475%2BvpKkrKzsy957XvvvafWrVurSZMmzrGgoCC5u7tr1KhRql69umbPnq2hQ4dq5cqVqlWrVolqotkCAACGrEq2%2Bvfvr6ioKJcxf3//El27bNkyjRs3rthjCQkJcjgcpa6noKBA77//vqZNm%2BYyPmLECJevn3rqKa1YsULJycnq169fie5NswUAAAxZ1WwFBARc8ZJhTEyMYmJiij32ww8/KCcnRwUFBc5PENrtdklS7dq1De%2B5ceNG5eXl6c4777zk9/bw8FC9evWUkZFR4nrZIA8AAK4ZoaGhcjgcSk1NdY7ZbDb5%2BPioYcOGhtetXr1abdq0UZUq/82hHA6Hpk6d6nKvvLw87du3T0FBQSWuiWYLAAAYqmyPfvDz81N0dLRmzJihrKwsHT58WHPmzFHfvn2djdRDDz2kL7/80uW6Xbt26eabb3YZc3Nz04EDBzRp0iQdOXJEJ0%2BeVGJioqpWraru3buXuCaaLQAAcE2ZPHmyatSooW7duunee%2B9Vs2bNlJCQ4Dy%2Bf/9%2BHTt2zOWazMxM1alTp8i9pkyZogYNGqhPnz5q166ddu3apYULF6patWolrsfNcSW7yK5lfn7lXQEup1kzac0aqUsXaceO8q4Gl3KZT/6gAmjZUtqyRWrVStq6tbyrwaWU04/rtm2tue/69dbctyJigzwAADBUGX9dT0XDMiIAAICFSLYAAIAhki3zSLYAAAAsRLIFAAAMkWyZR7MFAAAM0WyZxzIiAACAhUi2AACAIZIt82i2AACAIZot81hGBAAAsBDJFgAAMESyZR7JFgAAgIVItgAAgCGSLfNotgAAgCGaLfNYRgQAALAQyRYAADBEsmUeyRYAAICFSLYAAIAhki3zaLYAAIAhmi3zWEYEAACwEMkWAAAwRLJlHskWAACAhUi2AACAIZIt82i2AACAIZot81hGBAAAsBDJFgAAMESyZR7JFgAAgIVItgAAgCGSLfNotgAAgCGaLfNYRgQAALAQyRYAADBEsmUeyRYAAICFSLYAAIAhki3zaLYAAIAhmi3zWEYEAACwEMkWAAAwRLJlHskWAACAhUi2AACAIZIt82i2AACAIZot81hGBAAAsBDJFgAAMESyZR7JFgAAgIVotgAAgKHCQmteVrPZbOrRo4ceeOCBy567aNEiRUdHq1WrVho4cKB27tzpPHbmzBk9//zz6tSpkyIjIzVy5EhlZ2eXqhaaLQAAYKgyNlvLly9XfHy8br311sue%2B%2B2332rWrFl67bXXtG7dOnXt2lXDhg1Tbm6uJGn69OlKSUlRUlKSVq5cKYfDoQkTJpSqHpotAABwTTlz5oySkpLUvHnzy56blJSkPn36qHnz5vLy8tIjjzwiSfruu%2B909uxZLVmyRMOHD1e9evVUs2ZNjR49WmvWrNGRI0dKXA8b5AEAgCGrUqiMjAxlZma6jPn7%2BysgIMD0vfv161fic1NSUtSrVy/n1%2B7u7goNDZXNZlNoaKhOnDihsLAw5/HGjRvLy8tLKSkpCgwMLNH3oNm6WFZWeVeAy8jIyFDSrFnq/9FHZfKXErieOf8%2Bff01f59QLIfDmvvOmpWk2bNnu4zFxcUpPj7emm9owG63y9fX12XM19dX2dnZstvtkiQfHx%2BX4z4%2BPqXat0WzhUonMzNTs2fPVlRUFD8cAJP4%2B4Ty0r9/f0VFRbmM%2Bfv7l%2BjaZcuWady4ccUemzp1qvr06VOqWhyX6Sgvd/xyaLYAAMBVFxAQcMUNfkxMjGJiYsqkjlq1ajkTrPPsdruaNGkiPz8/59fVq1d3Hj927Jhq165d4u/BBnkAAHDdCg8PV0pKivPrgoIC/fzzz2revLmCgoLk6%2Bvrcnz37t3Ky8tTeHh4ib8HzRYAALiu9OzZU5s2bZIkDRw4UJ999pm2bdumU6dO6a233tINN9ygLl26yMPDQw888IDefvttHTp0SNnZ2XrjjTfUo0cP1alTp8Tfj2VEVDr%2B/v6Ki4sr8do%2BAGP8fcK1KDo6WgcPHlRBQYEKCwsVEREhSfr6669Vv359paenO5%2Bj1alTJz355JMaPXq0jh49qoiICM2dO1deXl6SpJEjR%2BrkyZOKiYnR2bNn1bVrV02cOLFU9bg5zO76AgAAgCGWEQEAACxEswUAAGAhmi0AAAAL0WwBAABYiGYLAADAQjRbAAAAFqLZAgAAsBDNFgAAgIVotgAAACxEswUAAGAhmi0AuI4cOHCg2PG8vDxt27btKlcDXB9otlApGP0Kz4KCAh0%2BfPgqVwNUXr179y52/NSpUxoyZMhVrga4PlQp7wKAkmjRooW2b99eZDw3N1f33HOPNm7cWA5VAZXHxx9/rCVLlig/P18DBgwocjwjI0M1a9Ysh8qAax/NFiq0lStXauXKlcrPz9eYMWOKHD948KA8PDzKoTKgcvnLX/6iGjVqaMyYMerQoUOR456enurevXs5VAZc%2B2i2UKE1bdpUBw4c0Ndff60bbrihyPGQkJBimzAArnx9fdWzZ09Jcv4J4OpwcxhthgEqkPnz52vo0KHlXQZQ6eXk5GjJkiVKT09XXl5ekeNTp04th6qAaxvJFiqFBx98UMnJydq7d2%2BxPyDi4uLKoSqg8hkzZoxsNptatGghLy%2Bv8i4HuC6QbKFSGD9%2BvFasWKHGjRsX%2BQHh5uamDz/8sJwqAyqXiIgIff3116pfv355lwJcN0i2UCl8%2BeWX%2BvjjjxUaGlrepQCV2q233ipfX9/yLgO4rvCcLVQKAQEBatiwYXmXAVRKeXl5ztczzzyjV155xbkkf/ELQNljGRGVQnJysjZv3qxRo0axzwQopdtvv11ubm7Orx0Oh8vXF9q1a9fVKgu4btBsocK6%2BFlAJ0%2BeVF5enmrVqlXk3O%2B///5qlQVUOj/99FOJz73rrrssrAS4PtFsocL69NNPS3zu/fffb2ElAABcOZotALiOREVFGS4huru7KzAwUJ07d1ZsbKyqVq16lasDrk18GhGVwuDBg0v0A6JXr15XuTKgcnn44Yf11ltvKTIyUhEREXJ3d9eOHTu0ceNGxcbGKicnRx9%2B%2BKGOHj2q8ePHl3e5wDWBZAuVwsyZM/X%2B%2B%2B%2BrYcOGzh8QNptNv//%2Bu%2B69915lZ2dr9erVeuSR/9/e/YREtcZhHH%2BsiRhnqDBIDLMWRhsrjUpPOha2iAi0cGGL/ghdkKRsF6RpYbmxgqmFq4ISClskRQsJigbBOVMhKBZFUBGTaFKZhanTTN5FNFyze6N773TmHL%2Bf1fgyi2chvA9n3vP%2B/lBVVZXVcYGkVV1drYqKCm3cuHHKemdnp27evKlTp07p5cuX2rt3rwKBgDUhAYehbMEW6urqtGbNGpWXl09Zv3btmp4%2BfaojR47o0aNHqqmp0Z07dyxKCSS/vLw83bt3b9qs0UgkIsMw1N3drWg0qvz8fHV3d1uUEnAW7tmCLXR0dKi0tHTaemlpqa5fvy7p69Dqd%2B/e/e5ogK2kp6fLJg3TTQAABO5JREFU7/fr48eP8bVPnz6ppaVF8%2BbN0%2BTkpM6ePasVK1ZYmBJwFs5swRbmz5%2BvtrY27dq1a8rZrfb2drlcX/%2BNr1y5omXLllmUELCH5uZm7d%2B/XxcvXpTX65XL5dLIyIjcbrf8fr8mJyd169Yt%2Bf1%2Bq6MCjsHPiLCFQCCgmpoapaamKiMjQy6XSwMDAxoeHlZTU5O2bdsmwzB07tw5bdiwweq4QFKLRCLq6%2BvTmzdv9OXLFy1cuFA5OTlKTU21OhrgSJQt2MbQ0JBCodCUDWLdunXKzMyUJI2NjcntdlucEkg%2Bnz9/jl/j8LORPN%2Bf5QLw31G2AMDhVq9erd7eXknTR/d8822ED%2BN6gP8fZ7aQtDZv3hx/s/D70T3fY1wP8PcuXLgQ/9za2mphEmBm4skWktaNGzdUVlYm6eejexjXA/yat2/famBgQDk5OVZHARyPsgXbGR4e/uEwagA/9/r1a9XW1qqrq0sul0sPHz7U0NCQ9u3bp5aWFi1ZssTqiIDjcM8WbGF0dFQNDQ3Kzc2Vz%2BeTJL1//15VVVXcrQX8gsbGRqWlpenu3buaNevrFpCWlqaioiKdPHnS4nSAM1G2YAuNjY0Kh8M6f/58fIOYM2eOvF4vGwTwC0KhkI4fP66MjIz4QXmXy6VDhw6pp6fH4nSAM3FAHrYQCATU0dGhtLS0%2BAbh8Xh07NgxbdmyxeJ0gH243W796PTIyMiIYrGYBYkA5%2BPJFmwhJSVFXq932nosFtPExIQFiQB7KigoUG1trV68eCFJ%2BvDhg%2B7fv6%2BDBw9q06ZN1oYDHIqyBVvIy8tTc3OzxsfH42v9/f2qq6vT%2BvXrLUwG2Et9fb0ikYi2bt2qiYkJ5efnq7KyUllZWaqvr7c6HuBIvI0IW%2Bjv71d1dbWePXumaDQqj8ej0dFR5eXl6cyZM1q8eLHVEYGkVlRUJJ/Pp%2BLiYhUWFioajSocDmvu3LnKzMz84ZNjAP8PyhZspa%2BvL75BLF26VNnZ2VZHAmyhtbVVpmnqwYMHGhsb08qVK1VUVKTi4mKtWrXK6niAo1G2kNRKSkp%2BOFrke99umgfwz2KxmHp7e2WapkzTVE9Pj7xerwoLC%2BXz%2BbR9%2B3arIwKOQ9lCUmtra4t/npycVFNTk44ePTrtezt37vydsQDHGBsbU3t7uy5duqRwOMxsRCABKFuwlb8O1AXw7wwODioYDCoYDCoUCml8fFxr165VQUGBKisrrY4HOA73bAHADHD79u14wRocHFRubq4Mw9Du3buVk5Oj2bNnWx0RcCzKFgDMAAcOHJDH49GOHTu0Z88eZWVlWR0JmDEoWwAwA7S3t6urq0umaaqsrEyLFi2SYRgyDEP5%2BflasGCB1REBx%2BLMFpLa1atXp/x94sQJNTQ0TBs3UlFR8TtjAbYWiUTU3d0t0zQVCoX0%2BPFjLV%2B%2BXAUFBTp8%2BLDV8QDHoWwhqZWUlPz0OykpKVz9APxLz58/V2dnpy5fvqxXr17xNiKQAJQtAJhBhoeHZZqmurq64ofls7Oz4xecGoZhdUTAcShbADADnD59WsFgUE%2BePJHH45FhGPHxPenp6VbHAxyNsgUAM0B5ebl8Pp98Pp9yc3O56gH4jShbAAAACTTL6gAAAABORtkCAABIIMoWAABAAlG2AAAAEoiyBQAAkECULQAAgASibAEAACTQn5rqSyUOgZUUAAAAAElFTkSuQmCC\" class=\"center-img\">\n",
              "</div>\n",
              "    <div class=\"row headerrow highlight\">\n",
              "        <h1>Sample</h1>\n",
              "    </div>\n",
              "    <div class=\"row variablerow\">\n",
              "    <div class=\"col-md-12\" style=\"overflow:scroll; width: 100%%; overflow-y: hidden;\">\n",
              "        <table border=\"1\" class=\"dataframe sample\">\n",
              "  <thead>\n",
              "    <tr style=\"text-align: right;\">\n",
              "      <th></th>\n",
              "      <th>Gender</th>\n",
              "      <th>Height</th>\n",
              "      <th>Weight</th>\n",
              "    </tr>\n",
              "  </thead>\n",
              "  <tbody>\n",
              "    <tr>\n",
              "      <th>0</th>\n",
              "      <td>Male</td>\n",
              "      <td>73.847017</td>\n",
              "      <td>241.893563</td>\n",
              "    </tr>\n",
              "    <tr>\n",
              "      <th>1</th>\n",
              "      <td>Male</td>\n",
              "      <td>68.781904</td>\n",
              "      <td>162.310473</td>\n",
              "    </tr>\n",
              "    <tr>\n",
              "      <th>2</th>\n",
              "      <td>Male</td>\n",
              "      <td>74.110105</td>\n",
              "      <td>212.740856</td>\n",
              "    </tr>\n",
              "    <tr>\n",
              "      <th>3</th>\n",
              "      <td>Male</td>\n",
              "      <td>71.730978</td>\n",
              "      <td>220.042470</td>\n",
              "    </tr>\n",
              "    <tr>\n",
              "      <th>4</th>\n",
              "      <td>Male</td>\n",
              "      <td>69.881796</td>\n",
              "      <td>206.349801</td>\n",
              "    </tr>\n",
              "  </tbody>\n",
              "</table>\n",
              "    </div>\n",
              "</div>\n",
              "</div>"
            ],
            "text/plain": [
              "<pandas_profiling.ProfileReport at 0x7f67c91a94a8>"
            ]
          },
          "metadata": {
            "tags": []
          },
          "execution_count": 9
        }
      ]
    },
    {
      "cell_type": "code",
      "metadata": {
        "id": "SfYo45Eg0JDh",
        "colab_type": "code",
        "outputId": "fad70fb0-e0f2-4203-cce5-e2f122486f74",
        "colab": {
          "base_uri": "https://localhost:8080/",
          "height": 521
        }
      },
      "source": [
        "sns.pairplot(df, hue='Gender')"
      ],
      "execution_count": 0,
      "outputs": [
        {
          "output_type": "execute_result",
          "data": {
            "text/plain": [
              "<seaborn.axisgrid.PairGrid at 0x7f67c734f5c0>"
            ]
          },
          "metadata": {
            "tags": []
          },
          "execution_count": 10
        },
        {
          "output_type": "display_data",
          "data": {
            "image/png": "[encoded data removed]",
            "text/plain": [
              "<Figure size 596.5x500 with 6 Axes>"
            ]
          },
          "metadata": {
            "tags": []
          }
        }
      ]
    },
    {
      "cell_type": "code",
      "metadata": {
        "id": "9_5oNO_x0rry",
        "colab_type": "code",
        "outputId": "4fe4549f-e604-4135-bb37-dbabd59de4d3",
        "colab": {
          "base_uri": "https://localhost:8080/",
          "height": 199
        }
      },
      "source": [
        "df.head()"
      ],
      "execution_count": 0,
      "outputs": [
        {
          "output_type": "execute_result",
          "data": {
            "text/html": [
              "<div>\n",
              "<style scoped>\n",
              "    .dataframe tbody tr th:only-of-type {\n",
              "        vertical-align: middle;\n",
              "    }\n",
              "\n",
              "    .dataframe tbody tr th {\n",
              "        vertical-align: top;\n",
              "    }\n",
              "\n",
              "    .dataframe thead th {\n",
              "        text-align: right;\n",
              "    }\n",
              "</style>\n",
              "<table border=\"1\" class=\"dataframe\">\n",
              "  <thead>\n",
              "    <tr style=\"text-align: right;\">\n",
              "      <th></th>\n",
              "      <th>Gender</th>\n",
              "      <th>Height</th>\n",
              "      <th>Weight</th>\n",
              "    </tr>\n",
              "  </thead>\n",
              "  <tbody>\n",
              "    <tr>\n",
              "      <th>0</th>\n",
              "      <td>Male</td>\n",
              "      <td>73.847017</td>\n",
              "      <td>241.893563</td>\n",
              "    </tr>\n",
              "    <tr>\n",
              "      <th>1</th>\n",
              "      <td>Male</td>\n",
              "      <td>68.781904</td>\n",
              "      <td>162.310473</td>\n",
              "    </tr>\n",
              "    <tr>\n",
              "      <th>2</th>\n",
              "      <td>Male</td>\n",
              "      <td>74.110105</td>\n",
              "      <td>212.740856</td>\n",
              "    </tr>\n",
              "    <tr>\n",
              "      <th>3</th>\n",
              "      <td>Male</td>\n",
              "      <td>71.730978</td>\n",
              "      <td>220.042470</td>\n",
              "    </tr>\n",
              "    <tr>\n",
              "      <th>4</th>\n",
              "      <td>Male</td>\n",
              "      <td>69.881796</td>\n",
              "      <td>206.349801</td>\n",
              "    </tr>\n",
              "  </tbody>\n",
              "</table>\n",
              "</div>"
            ],
            "text/plain": [
              "  Gender     Height      Weight\n",
              "0   Male  73.847017  241.893563\n",
              "1   Male  68.781904  162.310473\n",
              "2   Male  74.110105  212.740856\n",
              "3   Male  71.730978  220.042470\n",
              "4   Male  69.881796  206.349801"
            ]
          },
          "metadata": {
            "tags": []
          },
          "execution_count": 14
        }
      ]
    },
    {
      "cell_type": "markdown",
      "metadata": {
        "id": "mKgw04YWY-oX",
        "colab_type": "text"
      },
      "source": [
        "#Data Preparation"
      ]
    },
    {
      "cell_type": "code",
      "metadata": {
        "id": "_8wYaILwoZqw",
        "colab_type": "code",
        "colab": {}
      },
      "source": [
        "#shuffle df and reset the index \n",
        "df_shuf = shuffle(df)\n",
        "df_res = df_shuf.reset_index(drop=True, inplace=False)"
      ],
      "execution_count": 0,
      "outputs": []
    },
    {
      "cell_type": "code",
      "metadata": {
        "id": "_GMeMLPmod_V",
        "colab_type": "code",
        "outputId": "9f9fd0d3-ba23-4057-da5c-03ee592df932",
        "colab": {
          "base_uri": "https://localhost:8080/",
          "height": 199
        }
      },
      "source": [
        "df_res.head()"
      ],
      "execution_count": 0,
      "outputs": [
        {
          "output_type": "execute_result",
          "data": {
            "text/html": [
              "<div>\n",
              "<style scoped>\n",
              "    .dataframe tbody tr th:only-of-type {\n",
              "        vertical-align: middle;\n",
              "    }\n",
              "\n",
              "    .dataframe tbody tr th {\n",
              "        vertical-align: top;\n",
              "    }\n",
              "\n",
              "    .dataframe thead th {\n",
              "        text-align: right;\n",
              "    }\n",
              "</style>\n",
              "<table border=\"1\" class=\"dataframe\">\n",
              "  <thead>\n",
              "    <tr style=\"text-align: right;\">\n",
              "      <th></th>\n",
              "      <th>Gender</th>\n",
              "      <th>Height</th>\n",
              "      <th>Weight</th>\n",
              "    </tr>\n",
              "  </thead>\n",
              "  <tbody>\n",
              "    <tr>\n",
              "      <th>0</th>\n",
              "      <td>Female</td>\n",
              "      <td>62.481233</td>\n",
              "      <td>122.605321</td>\n",
              "    </tr>\n",
              "    <tr>\n",
              "      <th>1</th>\n",
              "      <td>Male</td>\n",
              "      <td>73.749537</td>\n",
              "      <td>197.605875</td>\n",
              "    </tr>\n",
              "    <tr>\n",
              "      <th>2</th>\n",
              "      <td>Female</td>\n",
              "      <td>61.837097</td>\n",
              "      <td>136.773826</td>\n",
              "    </tr>\n",
              "    <tr>\n",
              "      <th>3</th>\n",
              "      <td>Female</td>\n",
              "      <td>64.755393</td>\n",
              "      <td>140.547045</td>\n",
              "    </tr>\n",
              "    <tr>\n",
              "      <th>4</th>\n",
              "      <td>Female</td>\n",
              "      <td>64.102013</td>\n",
              "      <td>141.745050</td>\n",
              "    </tr>\n",
              "  </tbody>\n",
              "</table>\n",
              "</div>"
            ],
            "text/plain": [
              "   Gender     Height      Weight\n",
              "0  Female  62.481233  122.605321\n",
              "1    Male  73.749537  197.605875\n",
              "2  Female  61.837097  136.773826\n",
              "3  Female  64.755393  140.547045\n",
              "4  Female  64.102013  141.745050"
            ]
          },
          "metadata": {
            "tags": []
          },
          "execution_count": 16
        }
      ]
    },
    {
      "cell_type": "code",
      "metadata": {
        "id": "OX61MogE0_8O",
        "colab_type": "code",
        "outputId": "9d6e0cd7-e182-4b2a-de4d-bdef4aa3ff88",
        "colab": {
          "base_uri": "https://localhost:8080/",
          "height": 66
        }
      },
      "source": [
        "#one hot encode gender\n",
        "df['Gender'].value_counts()"
      ],
      "execution_count": 0,
      "outputs": [
        {
          "output_type": "execute_result",
          "data": {
            "text/plain": [
              "Female    5000\n",
              "Male      5000\n",
              "Name: Gender, dtype: int64"
            ]
          },
          "metadata": {
            "tags": []
          },
          "execution_count": 17
        }
      ]
    },
    {
      "cell_type": "code",
      "metadata": {
        "id": "PX40X7LknraH",
        "colab_type": "code",
        "outputId": "e8936dce-7076-4c86-a2d2-5e0c3448c4dd",
        "colab": {
          "base_uri": "https://localhost:8080/",
          "height": 199
        }
      },
      "source": [
        "gender = pd.get_dummies(df['Gender'])\n",
        "gender.head()"
      ],
      "execution_count": 0,
      "outputs": [
        {
          "output_type": "execute_result",
          "data": {
            "text/html": [
              "<div>\n",
              "<style scoped>\n",
              "    .dataframe tbody tr th:only-of-type {\n",
              "        vertical-align: middle;\n",
              "    }\n",
              "\n",
              "    .dataframe tbody tr th {\n",
              "        vertical-align: top;\n",
              "    }\n",
              "\n",
              "    .dataframe thead th {\n",
              "        text-align: right;\n",
              "    }\n",
              "</style>\n",
              "<table border=\"1\" class=\"dataframe\">\n",
              "  <thead>\n",
              "    <tr style=\"text-align: right;\">\n",
              "      <th></th>\n",
              "      <th>Female</th>\n",
              "      <th>Male</th>\n",
              "    </tr>\n",
              "  </thead>\n",
              "  <tbody>\n",
              "    <tr>\n",
              "      <th>0</th>\n",
              "      <td>0</td>\n",
              "      <td>1</td>\n",
              "    </tr>\n",
              "    <tr>\n",
              "      <th>1</th>\n",
              "      <td>0</td>\n",
              "      <td>1</td>\n",
              "    </tr>\n",
              "    <tr>\n",
              "      <th>2</th>\n",
              "      <td>0</td>\n",
              "      <td>1</td>\n",
              "    </tr>\n",
              "    <tr>\n",
              "      <th>3</th>\n",
              "      <td>0</td>\n",
              "      <td>1</td>\n",
              "    </tr>\n",
              "    <tr>\n",
              "      <th>4</th>\n",
              "      <td>0</td>\n",
              "      <td>1</td>\n",
              "    </tr>\n",
              "  </tbody>\n",
              "</table>\n",
              "</div>"
            ],
            "text/plain": [
              "   Female  Male\n",
              "0       0     1\n",
              "1       0     1\n",
              "2       0     1\n",
              "3       0     1\n",
              "4       0     1"
            ]
          },
          "metadata": {
            "tags": []
          },
          "execution_count": 18
        }
      ]
    },
    {
      "cell_type": "code",
      "metadata": {
        "id": "96HR9Anxn_Lh",
        "colab_type": "code",
        "outputId": "8c42bc69-8826-4c26-a913-01b24afed090",
        "colab": {
          "base_uri": "https://localhost:8080/",
          "height": 199
        }
      },
      "source": [
        "df.head()"
      ],
      "execution_count": 0,
      "outputs": [
        {
          "output_type": "execute_result",
          "data": {
            "text/html": [
              "<div>\n",
              "<style scoped>\n",
              "    .dataframe tbody tr th:only-of-type {\n",
              "        vertical-align: middle;\n",
              "    }\n",
              "\n",
              "    .dataframe tbody tr th {\n",
              "        vertical-align: top;\n",
              "    }\n",
              "\n",
              "    .dataframe thead th {\n",
              "        text-align: right;\n",
              "    }\n",
              "</style>\n",
              "<table border=\"1\" class=\"dataframe\">\n",
              "  <thead>\n",
              "    <tr style=\"text-align: right;\">\n",
              "      <th></th>\n",
              "      <th>Gender</th>\n",
              "      <th>Height</th>\n",
              "      <th>Weight</th>\n",
              "    </tr>\n",
              "  </thead>\n",
              "  <tbody>\n",
              "    <tr>\n",
              "      <th>0</th>\n",
              "      <td>Male</td>\n",
              "      <td>73.847017</td>\n",
              "      <td>241.893563</td>\n",
              "    </tr>\n",
              "    <tr>\n",
              "      <th>1</th>\n",
              "      <td>Male</td>\n",
              "      <td>68.781904</td>\n",
              "      <td>162.310473</td>\n",
              "    </tr>\n",
              "    <tr>\n",
              "      <th>2</th>\n",
              "      <td>Male</td>\n",
              "      <td>74.110105</td>\n",
              "      <td>212.740856</td>\n",
              "    </tr>\n",
              "    <tr>\n",
              "      <th>3</th>\n",
              "      <td>Male</td>\n",
              "      <td>71.730978</td>\n",
              "      <td>220.042470</td>\n",
              "    </tr>\n",
              "    <tr>\n",
              "      <th>4</th>\n",
              "      <td>Male</td>\n",
              "      <td>69.881796</td>\n",
              "      <td>206.349801</td>\n",
              "    </tr>\n",
              "  </tbody>\n",
              "</table>\n",
              "</div>"
            ],
            "text/plain": [
              "  Gender     Height      Weight\n",
              "0   Male  73.847017  241.893563\n",
              "1   Male  68.781904  162.310473\n",
              "2   Male  74.110105  212.740856\n",
              "3   Male  71.730978  220.042470\n",
              "4   Male  69.881796  206.349801"
            ]
          },
          "metadata": {
            "tags": []
          },
          "execution_count": 19
        }
      ]
    },
    {
      "cell_type": "code",
      "metadata": {
        "id": "lbNPWTmroSbd",
        "colab_type": "code",
        "outputId": "c8dcf84e-db3e-416a-b750-2efa3a0096f8",
        "colab": {
          "base_uri": "https://localhost:8080/",
          "height": 199
        }
      },
      "source": [
        "df_no_gen = df.iloc[:,1:]\n",
        "df_no_gen.head()"
      ],
      "execution_count": 0,
      "outputs": [
        {
          "output_type": "execute_result",
          "data": {
            "text/html": [
              "<div>\n",
              "<style scoped>\n",
              "    .dataframe tbody tr th:only-of-type {\n",
              "        vertical-align: middle;\n",
              "    }\n",
              "\n",
              "    .dataframe tbody tr th {\n",
              "        vertical-align: top;\n",
              "    }\n",
              "\n",
              "    .dataframe thead th {\n",
              "        text-align: right;\n",
              "    }\n",
              "</style>\n",
              "<table border=\"1\" class=\"dataframe\">\n",
              "  <thead>\n",
              "    <tr style=\"text-align: right;\">\n",
              "      <th></th>\n",
              "      <th>Height</th>\n",
              "      <th>Weight</th>\n",
              "    </tr>\n",
              "  </thead>\n",
              "  <tbody>\n",
              "    <tr>\n",
              "      <th>0</th>\n",
              "      <td>73.847017</td>\n",
              "      <td>241.893563</td>\n",
              "    </tr>\n",
              "    <tr>\n",
              "      <th>1</th>\n",
              "      <td>68.781904</td>\n",
              "      <td>162.310473</td>\n",
              "    </tr>\n",
              "    <tr>\n",
              "      <th>2</th>\n",
              "      <td>74.110105</td>\n",
              "      <td>212.740856</td>\n",
              "    </tr>\n",
              "    <tr>\n",
              "      <th>3</th>\n",
              "      <td>71.730978</td>\n",
              "      <td>220.042470</td>\n",
              "    </tr>\n",
              "    <tr>\n",
              "      <th>4</th>\n",
              "      <td>69.881796</td>\n",
              "      <td>206.349801</td>\n",
              "    </tr>\n",
              "  </tbody>\n",
              "</table>\n",
              "</div>"
            ],
            "text/plain": [
              "      Height      Weight\n",
              "0  73.847017  241.893563\n",
              "1  68.781904  162.310473\n",
              "2  74.110105  212.740856\n",
              "3  71.730978  220.042470\n",
              "4  69.881796  206.349801"
            ]
          },
          "metadata": {
            "tags": []
          },
          "execution_count": 20
        }
      ]
    },
    {
      "cell_type": "code",
      "metadata": {
        "id": "7sO4-uFbq9uF",
        "colab_type": "code",
        "colab": {}
      },
      "source": [
        "#merge the numeric feature, the one hot encoded feature, and the label 'weight'\n",
        "df_2 = df_no_gen.merge(gender, right_index=True, left_index=True)"
      ],
      "execution_count": 0,
      "outputs": []
    },
    {
      "cell_type": "code",
      "metadata": {
        "id": "HKCI5oa4rY4P",
        "colab_type": "code",
        "outputId": "e09bd79a-41f3-478e-c795-cc6a2312f0e8",
        "colab": {
          "base_uri": "https://localhost:8080/",
          "height": 199
        }
      },
      "source": [
        "df_2.head()"
      ],
      "execution_count": 0,
      "outputs": [
        {
          "output_type": "execute_result",
          "data": {
            "text/html": [
              "<div>\n",
              "<style scoped>\n",
              "    .dataframe tbody tr th:only-of-type {\n",
              "        vertical-align: middle;\n",
              "    }\n",
              "\n",
              "    .dataframe tbody tr th {\n",
              "        vertical-align: top;\n",
              "    }\n",
              "\n",
              "    .dataframe thead th {\n",
              "        text-align: right;\n",
              "    }\n",
              "</style>\n",
              "<table border=\"1\" class=\"dataframe\">\n",
              "  <thead>\n",
              "    <tr style=\"text-align: right;\">\n",
              "      <th></th>\n",
              "      <th>Height</th>\n",
              "      <th>Weight</th>\n",
              "      <th>Female</th>\n",
              "      <th>Male</th>\n",
              "    </tr>\n",
              "  </thead>\n",
              "  <tbody>\n",
              "    <tr>\n",
              "      <th>0</th>\n",
              "      <td>73.847017</td>\n",
              "      <td>241.893563</td>\n",
              "      <td>0</td>\n",
              "      <td>1</td>\n",
              "    </tr>\n",
              "    <tr>\n",
              "      <th>1</th>\n",
              "      <td>68.781904</td>\n",
              "      <td>162.310473</td>\n",
              "      <td>0</td>\n",
              "      <td>1</td>\n",
              "    </tr>\n",
              "    <tr>\n",
              "      <th>2</th>\n",
              "      <td>74.110105</td>\n",
              "      <td>212.740856</td>\n",
              "      <td>0</td>\n",
              "      <td>1</td>\n",
              "    </tr>\n",
              "    <tr>\n",
              "      <th>3</th>\n",
              "      <td>71.730978</td>\n",
              "      <td>220.042470</td>\n",
              "      <td>0</td>\n",
              "      <td>1</td>\n",
              "    </tr>\n",
              "    <tr>\n",
              "      <th>4</th>\n",
              "      <td>69.881796</td>\n",
              "      <td>206.349801</td>\n",
              "      <td>0</td>\n",
              "      <td>1</td>\n",
              "    </tr>\n",
              "  </tbody>\n",
              "</table>\n",
              "</div>"
            ],
            "text/plain": [
              "      Height      Weight  Female  Male\n",
              "0  73.847017  241.893563       0     1\n",
              "1  68.781904  162.310473       0     1\n",
              "2  74.110105  212.740856       0     1\n",
              "3  71.730978  220.042470       0     1\n",
              "4  69.881796  206.349801       0     1"
            ]
          },
          "metadata": {
            "tags": []
          },
          "execution_count": 23
        }
      ]
    },
    {
      "cell_type": "code",
      "metadata": {
        "id": "3wNXgpvWr01e",
        "colab_type": "code",
        "outputId": "d621cf8c-b16a-49af-d434-e3b7476fa330",
        "colab": {
          "base_uri": "https://localhost:8080/",
          "height": 819
        }
      },
      "source": [
        "plt.style.use('classic')\n",
        "sns.pairplot(df_2)"
      ],
      "execution_count": 0,
      "outputs": [
        {
          "output_type": "execute_result",
          "data": {
            "text/plain": [
              "<seaborn.axisgrid.PairGrid at 0x7efefaf98198>"
            ]
          },
          "metadata": {
            "tags": []
          },
          "execution_count": 25
        },
        {
          "output_type": "display_data",
          "data": {
            "image/png": "[encoded data removed]",
            "text/plain": [
              "<Figure size 800x800 with 20 Axes>"
            ]
          },
          "metadata": {
            "tags": []
          }
        }
      ]
    },
    {
      "cell_type": "code",
      "metadata": {
        "id": "5S1AhKvksh99",
        "colab_type": "code",
        "outputId": "23772207-d278-4f4d-b24d-742e67c5cabe",
        "colab": {
          "base_uri": "https://localhost:8080/",
          "height": 199
        }
      },
      "source": [
        "df_2.head()"
      ],
      "execution_count": 0,
      "outputs": [
        {
          "output_type": "execute_result",
          "data": {
            "text/html": [
              "<div>\n",
              "<style scoped>\n",
              "    .dataframe tbody tr th:only-of-type {\n",
              "        vertical-align: middle;\n",
              "    }\n",
              "\n",
              "    .dataframe tbody tr th {\n",
              "        vertical-align: top;\n",
              "    }\n",
              "\n",
              "    .dataframe thead th {\n",
              "        text-align: right;\n",
              "    }\n",
              "</style>\n",
              "<table border=\"1\" class=\"dataframe\">\n",
              "  <thead>\n",
              "    <tr style=\"text-align: right;\">\n",
              "      <th></th>\n",
              "      <th>Height</th>\n",
              "      <th>Weight</th>\n",
              "      <th>Female</th>\n",
              "      <th>Male</th>\n",
              "    </tr>\n",
              "  </thead>\n",
              "  <tbody>\n",
              "    <tr>\n",
              "      <th>0</th>\n",
              "      <td>73.847017</td>\n",
              "      <td>241.893563</td>\n",
              "      <td>0</td>\n",
              "      <td>1</td>\n",
              "    </tr>\n",
              "    <tr>\n",
              "      <th>1</th>\n",
              "      <td>68.781904</td>\n",
              "      <td>162.310473</td>\n",
              "      <td>0</td>\n",
              "      <td>1</td>\n",
              "    </tr>\n",
              "    <tr>\n",
              "      <th>2</th>\n",
              "      <td>74.110105</td>\n",
              "      <td>212.740856</td>\n",
              "      <td>0</td>\n",
              "      <td>1</td>\n",
              "    </tr>\n",
              "    <tr>\n",
              "      <th>3</th>\n",
              "      <td>71.730978</td>\n",
              "      <td>220.042470</td>\n",
              "      <td>0</td>\n",
              "      <td>1</td>\n",
              "    </tr>\n",
              "    <tr>\n",
              "      <th>4</th>\n",
              "      <td>69.881796</td>\n",
              "      <td>206.349801</td>\n",
              "      <td>0</td>\n",
              "      <td>1</td>\n",
              "    </tr>\n",
              "  </tbody>\n",
              "</table>\n",
              "</div>"
            ],
            "text/plain": [
              "      Height      Weight  Female  Male\n",
              "0  73.847017  241.893563       0     1\n",
              "1  68.781904  162.310473       0     1\n",
              "2  74.110105  212.740856       0     1\n",
              "3  71.730978  220.042470       0     1\n",
              "4  69.881796  206.349801       0     1"
            ]
          },
          "metadata": {
            "tags": []
          },
          "execution_count": 26
        }
      ]
    },
    {
      "cell_type": "code",
      "metadata": {
        "id": "s8SyHMsgNYC5",
        "colab_type": "code",
        "outputId": "a9ee79bb-5a97-47f5-95cd-73f55543d0e7",
        "colab": {
          "base_uri": "https://localhost:8080/",
          "height": 33
        }
      },
      "source": [
        "#rearrange data so label 'weight' is at the end\n",
        "\n",
        "new_cols = df_2.columns.tolist()\n",
        "new_cols"
      ],
      "execution_count": 0,
      "outputs": [
        {
          "output_type": "execute_result",
          "data": {
            "text/plain": [
              "['Height', 'Weight', 'Female', 'Male']"
            ]
          },
          "metadata": {
            "tags": []
          },
          "execution_count": 27
        }
      ]
    },
    {
      "cell_type": "code",
      "metadata": {
        "id": "eXOZ_iwWP2vP",
        "colab_type": "code",
        "outputId": "d7605c57-984e-43d8-fca4-44f87ae5c330",
        "colab": {
          "base_uri": "https://localhost:8080/",
          "height": 33
        }
      },
      "source": [
        "new_ord = new_cols[2:] + new_cols[:2]\n",
        "new_ord"
      ],
      "execution_count": 0,
      "outputs": [
        {
          "output_type": "execute_result",
          "data": {
            "text/plain": [
              "['Female', 'Male', 'Height', 'Weight']"
            ]
          },
          "metadata": {
            "tags": []
          },
          "execution_count": 28
        }
      ]
    },
    {
      "cell_type": "code",
      "metadata": {
        "id": "mp-1pktKQDMS",
        "colab_type": "code",
        "outputId": "83436395-0645-481b-a382-71d5311cf09d",
        "colab": {
          "base_uri": "https://localhost:8080/",
          "height": 199
        }
      },
      "source": [
        "df_3 = df_2[new_ord]\n",
        "df_3.head()"
      ],
      "execution_count": 0,
      "outputs": [
        {
          "output_type": "execute_result",
          "data": {
            "text/html": [
              "<div>\n",
              "<style scoped>\n",
              "    .dataframe tbody tr th:only-of-type {\n",
              "        vertical-align: middle;\n",
              "    }\n",
              "\n",
              "    .dataframe tbody tr th {\n",
              "        vertical-align: top;\n",
              "    }\n",
              "\n",
              "    .dataframe thead th {\n",
              "        text-align: right;\n",
              "    }\n",
              "</style>\n",
              "<table border=\"1\" class=\"dataframe\">\n",
              "  <thead>\n",
              "    <tr style=\"text-align: right;\">\n",
              "      <th></th>\n",
              "      <th>Female</th>\n",
              "      <th>Male</th>\n",
              "      <th>Height</th>\n",
              "      <th>Weight</th>\n",
              "    </tr>\n",
              "  </thead>\n",
              "  <tbody>\n",
              "    <tr>\n",
              "      <th>0</th>\n",
              "      <td>0</td>\n",
              "      <td>1</td>\n",
              "      <td>73.847017</td>\n",
              "      <td>241.893563</td>\n",
              "    </tr>\n",
              "    <tr>\n",
              "      <th>1</th>\n",
              "      <td>0</td>\n",
              "      <td>1</td>\n",
              "      <td>68.781904</td>\n",
              "      <td>162.310473</td>\n",
              "    </tr>\n",
              "    <tr>\n",
              "      <th>2</th>\n",
              "      <td>0</td>\n",
              "      <td>1</td>\n",
              "      <td>74.110105</td>\n",
              "      <td>212.740856</td>\n",
              "    </tr>\n",
              "    <tr>\n",
              "      <th>3</th>\n",
              "      <td>0</td>\n",
              "      <td>1</td>\n",
              "      <td>71.730978</td>\n",
              "      <td>220.042470</td>\n",
              "    </tr>\n",
              "    <tr>\n",
              "      <th>4</th>\n",
              "      <td>0</td>\n",
              "      <td>1</td>\n",
              "      <td>69.881796</td>\n",
              "      <td>206.349801</td>\n",
              "    </tr>\n",
              "  </tbody>\n",
              "</table>\n",
              "</div>"
            ],
            "text/plain": [
              "   Female  Male     Height      Weight\n",
              "0       0     1  73.847017  241.893563\n",
              "1       0     1  68.781904  162.310473\n",
              "2       0     1  74.110105  212.740856\n",
              "3       0     1  71.730978  220.042470\n",
              "4       0     1  69.881796  206.349801"
            ]
          },
          "metadata": {
            "tags": []
          },
          "execution_count": 29
        }
      ]
    },
    {
      "cell_type": "code",
      "metadata": {
        "id": "3d2S5IJvQp3s",
        "colab_type": "code",
        "outputId": "168ac0ad-cff1-4769-bf5f-6640528dbdfc",
        "colab": {
          "base_uri": "https://localhost:8080/",
          "height": 199
        }
      },
      "source": [
        "#Feature Engineering --> remove outliers\n",
        "df_3_rs = df_3[abs(zscore(df_3) < 3).all(axis=1)]\n",
        "df_4 = df_3_rs.reset_index(inplace=False, drop=True)\n",
        "df_4.head()"
      ],
      "execution_count": 0,
      "outputs": [
        {
          "output_type": "execute_result",
          "data": {
            "text/html": [
              "<div>\n",
              "<style scoped>\n",
              "    .dataframe tbody tr th:only-of-type {\n",
              "        vertical-align: middle;\n",
              "    }\n",
              "\n",
              "    .dataframe tbody tr th {\n",
              "        vertical-align: top;\n",
              "    }\n",
              "\n",
              "    .dataframe thead th {\n",
              "        text-align: right;\n",
              "    }\n",
              "</style>\n",
              "<table border=\"1\" class=\"dataframe\">\n",
              "  <thead>\n",
              "    <tr style=\"text-align: right;\">\n",
              "      <th></th>\n",
              "      <th>Female</th>\n",
              "      <th>Male</th>\n",
              "      <th>Height</th>\n",
              "      <th>Weight</th>\n",
              "    </tr>\n",
              "  </thead>\n",
              "  <tbody>\n",
              "    <tr>\n",
              "      <th>0</th>\n",
              "      <td>0</td>\n",
              "      <td>1</td>\n",
              "      <td>73.847017</td>\n",
              "      <td>241.893563</td>\n",
              "    </tr>\n",
              "    <tr>\n",
              "      <th>1</th>\n",
              "      <td>0</td>\n",
              "      <td>1</td>\n",
              "      <td>68.781904</td>\n",
              "      <td>162.310473</td>\n",
              "    </tr>\n",
              "    <tr>\n",
              "      <th>2</th>\n",
              "      <td>0</td>\n",
              "      <td>1</td>\n",
              "      <td>74.110105</td>\n",
              "      <td>212.740856</td>\n",
              "    </tr>\n",
              "    <tr>\n",
              "      <th>3</th>\n",
              "      <td>0</td>\n",
              "      <td>1</td>\n",
              "      <td>71.730978</td>\n",
              "      <td>220.042470</td>\n",
              "    </tr>\n",
              "    <tr>\n",
              "      <th>4</th>\n",
              "      <td>0</td>\n",
              "      <td>1</td>\n",
              "      <td>69.881796</td>\n",
              "      <td>206.349801</td>\n",
              "    </tr>\n",
              "  </tbody>\n",
              "</table>\n",
              "</div>"
            ],
            "text/plain": [
              "   Female  Male     Height      Weight\n",
              "0       0     1  73.847017  241.893563\n",
              "1       0     1  68.781904  162.310473\n",
              "2       0     1  74.110105  212.740856\n",
              "3       0     1  71.730978  220.042470\n",
              "4       0     1  69.881796  206.349801"
            ]
          },
          "metadata": {
            "tags": []
          },
          "execution_count": 31
        }
      ]
    },
    {
      "cell_type": "code",
      "metadata": {
        "id": "PLT7jfTBa_ox",
        "colab_type": "code",
        "outputId": "06580ddf-6f80-4b3d-e66b-f56f659e18a0",
        "colab": {
          "base_uri": "https://localhost:8080/",
          "height": 33
        }
      },
      "source": [
        "#orig df,    after removing outliers\n",
        "df_3.shape, df_4.shape"
      ],
      "execution_count": 0,
      "outputs": [
        {
          "output_type": "execute_result",
          "data": {
            "text/plain": [
              "((10000, 4), (9995, 4))"
            ]
          },
          "metadata": {
            "tags": []
          },
          "execution_count": 32
        }
      ]
    },
    {
      "cell_type": "code",
      "metadata": {
        "id": "Kua5Wav3r7ux",
        "colab_type": "code",
        "outputId": "d3f6e0c9-f0e8-484e-96be-a773e6048bfa",
        "colab": {
          "base_uri": "https://localhost:8080/",
          "height": 131
        }
      },
      "source": [
        "#scale only the 'height' column \n",
        "df_h = df_4['Height']\n",
        "df_rs = df_h.values.reshape(-1,1)\n",
        "sc = StandardScaler()\n",
        "sc_df = sc.fit_transform(df_rs)\n",
        "sc_df"
      ],
      "execution_count": 0,
      "outputs": [
        {
          "output_type": "execute_result",
          "data": {
            "text/plain": [
              "array([[ 1.95005027],\n",
              "       [ 0.6305442 ],\n",
              "       [ 2.01858708],\n",
              "       ...,\n",
              "       [-0.64957266],\n",
              "       [ 0.69628073],\n",
              "       [-1.15072534]])"
            ]
          },
          "metadata": {
            "tags": []
          },
          "execution_count": 33
        }
      ]
    },
    {
      "cell_type": "code",
      "metadata": {
        "id": "x0ahym5j0BBx",
        "colab_type": "code",
        "outputId": "dabf5e6a-eb60-4778-810a-f7e5d8209c7e",
        "colab": {
          "base_uri": "https://localhost:8080/",
          "height": 199
        }
      },
      "source": [
        "height_col = pd.DataFrame(data=sc_df, columns=['Height'])\n",
        "height_col.head()"
      ],
      "execution_count": 0,
      "outputs": [
        {
          "output_type": "execute_result",
          "data": {
            "text/html": [
              "<div>\n",
              "<style scoped>\n",
              "    .dataframe tbody tr th:only-of-type {\n",
              "        vertical-align: middle;\n",
              "    }\n",
              "\n",
              "    .dataframe tbody tr th {\n",
              "        vertical-align: top;\n",
              "    }\n",
              "\n",
              "    .dataframe thead th {\n",
              "        text-align: right;\n",
              "    }\n",
              "</style>\n",
              "<table border=\"1\" class=\"dataframe\">\n",
              "  <thead>\n",
              "    <tr style=\"text-align: right;\">\n",
              "      <th></th>\n",
              "      <th>Height</th>\n",
              "    </tr>\n",
              "  </thead>\n",
              "  <tbody>\n",
              "    <tr>\n",
              "      <th>0</th>\n",
              "      <td>1.950050</td>\n",
              "    </tr>\n",
              "    <tr>\n",
              "      <th>1</th>\n",
              "      <td>0.630544</td>\n",
              "    </tr>\n",
              "    <tr>\n",
              "      <th>2</th>\n",
              "      <td>2.018587</td>\n",
              "    </tr>\n",
              "    <tr>\n",
              "      <th>3</th>\n",
              "      <td>1.398804</td>\n",
              "    </tr>\n",
              "    <tr>\n",
              "      <th>4</th>\n",
              "      <td>0.917076</td>\n",
              "    </tr>\n",
              "  </tbody>\n",
              "</table>\n",
              "</div>"
            ],
            "text/plain": [
              "     Height\n",
              "0  1.950050\n",
              "1  0.630544\n",
              "2  2.018587\n",
              "3  1.398804\n",
              "4  0.917076"
            ]
          },
          "metadata": {
            "tags": []
          },
          "execution_count": 34
        }
      ]
    },
    {
      "cell_type": "code",
      "metadata": {
        "id": "fZ5nKCSo2NNP",
        "colab_type": "code",
        "outputId": "61913435-5b7f-41d0-db9f-f1e6c3564400",
        "colab": {
          "base_uri": "https://localhost:8080/",
          "height": 199
        }
      },
      "source": [
        "gender_col = df_4.iloc[:,:2]\n",
        "gender_col.head()"
      ],
      "execution_count": 0,
      "outputs": [
        {
          "output_type": "execute_result",
          "data": {
            "text/html": [
              "<div>\n",
              "<style scoped>\n",
              "    .dataframe tbody tr th:only-of-type {\n",
              "        vertical-align: middle;\n",
              "    }\n",
              "\n",
              "    .dataframe tbody tr th {\n",
              "        vertical-align: top;\n",
              "    }\n",
              "\n",
              "    .dataframe thead th {\n",
              "        text-align: right;\n",
              "    }\n",
              "</style>\n",
              "<table border=\"1\" class=\"dataframe\">\n",
              "  <thead>\n",
              "    <tr style=\"text-align: right;\">\n",
              "      <th></th>\n",
              "      <th>Female</th>\n",
              "      <th>Male</th>\n",
              "    </tr>\n",
              "  </thead>\n",
              "  <tbody>\n",
              "    <tr>\n",
              "      <th>0</th>\n",
              "      <td>0</td>\n",
              "      <td>1</td>\n",
              "    </tr>\n",
              "    <tr>\n",
              "      <th>1</th>\n",
              "      <td>0</td>\n",
              "      <td>1</td>\n",
              "    </tr>\n",
              "    <tr>\n",
              "      <th>2</th>\n",
              "      <td>0</td>\n",
              "      <td>1</td>\n",
              "    </tr>\n",
              "    <tr>\n",
              "      <th>3</th>\n",
              "      <td>0</td>\n",
              "      <td>1</td>\n",
              "    </tr>\n",
              "    <tr>\n",
              "      <th>4</th>\n",
              "      <td>0</td>\n",
              "      <td>1</td>\n",
              "    </tr>\n",
              "  </tbody>\n",
              "</table>\n",
              "</div>"
            ],
            "text/plain": [
              "   Female  Male\n",
              "0       0     1\n",
              "1       0     1\n",
              "2       0     1\n",
              "3       0     1\n",
              "4       0     1"
            ]
          },
          "metadata": {
            "tags": []
          },
          "execution_count": 35
        }
      ]
    },
    {
      "cell_type": "code",
      "metadata": {
        "id": "ZUR66AqW3Chh",
        "colab_type": "code",
        "outputId": "f1ca1493-f834-4a91-92cf-2f32a34bd300",
        "colab": {
          "base_uri": "https://localhost:8080/",
          "height": 114
        }
      },
      "source": [
        "label = df['Weight']\n",
        "label.head()"
      ],
      "execution_count": 0,
      "outputs": [
        {
          "output_type": "execute_result",
          "data": {
            "text/plain": [
              "0    241.893563\n",
              "1    162.310473\n",
              "2    212.740856\n",
              "3    220.042470\n",
              "4    206.349801\n",
              "Name: Weight, dtype: float64"
            ]
          },
          "metadata": {
            "tags": []
          },
          "execution_count": 36
        }
      ]
    },
    {
      "cell_type": "code",
      "metadata": {
        "id": "V08OP-Wd3M-v",
        "colab_type": "code",
        "outputId": "b57dc861-d806-45ae-ec2d-0b4a8eff5384",
        "colab": {
          "base_uri": "https://localhost:8080/",
          "height": 408
        }
      },
      "source": [
        "#merge the gender and height dataframes together\n",
        "df_5 = gender_col.merge(height_col, left_index=True, right_index=True)\n",
        "df_5"
      ],
      "execution_count": 0,
      "outputs": [
        {
          "output_type": "execute_result",
          "data": {
            "text/html": [
              "<div>\n",
              "<style scoped>\n",
              "    .dataframe tbody tr th:only-of-type {\n",
              "        vertical-align: middle;\n",
              "    }\n",
              "\n",
              "    .dataframe tbody tr th {\n",
              "        vertical-align: top;\n",
              "    }\n",
              "\n",
              "    .dataframe thead th {\n",
              "        text-align: right;\n",
              "    }\n",
              "</style>\n",
              "<table border=\"1\" class=\"dataframe\">\n",
              "  <thead>\n",
              "    <tr style=\"text-align: right;\">\n",
              "      <th></th>\n",
              "      <th>Female</th>\n",
              "      <th>Male</th>\n",
              "      <th>Height</th>\n",
              "    </tr>\n",
              "  </thead>\n",
              "  <tbody>\n",
              "    <tr>\n",
              "      <th>0</th>\n",
              "      <td>0</td>\n",
              "      <td>1</td>\n",
              "      <td>1.950050</td>\n",
              "    </tr>\n",
              "    <tr>\n",
              "      <th>1</th>\n",
              "      <td>0</td>\n",
              "      <td>1</td>\n",
              "      <td>0.630544</td>\n",
              "    </tr>\n",
              "    <tr>\n",
              "      <th>2</th>\n",
              "      <td>0</td>\n",
              "      <td>1</td>\n",
              "      <td>2.018587</td>\n",
              "    </tr>\n",
              "    <tr>\n",
              "      <th>3</th>\n",
              "      <td>0</td>\n",
              "      <td>1</td>\n",
              "      <td>1.398804</td>\n",
              "    </tr>\n",
              "    <tr>\n",
              "      <th>4</th>\n",
              "      <td>0</td>\n",
              "      <td>1</td>\n",
              "      <td>0.917076</td>\n",
              "    </tr>\n",
              "    <tr>\n",
              "      <th>...</th>\n",
              "      <td>...</td>\n",
              "      <td>...</td>\n",
              "      <td>...</td>\n",
              "    </tr>\n",
              "    <tr>\n",
              "      <th>9990</th>\n",
              "      <td>1</td>\n",
              "      <td>0</td>\n",
              "      <td>-0.049189</td>\n",
              "    </tr>\n",
              "    <tr>\n",
              "      <th>9991</th>\n",
              "      <td>1</td>\n",
              "      <td>0</td>\n",
              "      <td>0.183837</td>\n",
              "    </tr>\n",
              "    <tr>\n",
              "      <th>9992</th>\n",
              "      <td>1</td>\n",
              "      <td>0</td>\n",
              "      <td>-0.649573</td>\n",
              "    </tr>\n",
              "    <tr>\n",
              "      <th>9993</th>\n",
              "      <td>1</td>\n",
              "      <td>0</td>\n",
              "      <td>0.696281</td>\n",
              "    </tr>\n",
              "    <tr>\n",
              "      <th>9994</th>\n",
              "      <td>1</td>\n",
              "      <td>0</td>\n",
              "      <td>-1.150725</td>\n",
              "    </tr>\n",
              "  </tbody>\n",
              "</table>\n",
              "<p>9995 rows × 3 columns</p>\n",
              "</div>"
            ],
            "text/plain": [
              "      Female  Male    Height\n",
              "0          0     1  1.950050\n",
              "1          0     1  0.630544\n",
              "2          0     1  2.018587\n",
              "3          0     1  1.398804\n",
              "4          0     1  0.917076\n",
              "...      ...   ...       ...\n",
              "9990       1     0 -0.049189\n",
              "9991       1     0  0.183837\n",
              "9992       1     0 -0.649573\n",
              "9993       1     0  0.696281\n",
              "9994       1     0 -1.150725\n",
              "\n",
              "[9995 rows x 3 columns]"
            ]
          },
          "metadata": {
            "tags": []
          },
          "execution_count": 37
        }
      ]
    },
    {
      "cell_type": "code",
      "metadata": {
        "id": "3QxZL8EdwJzN",
        "colab_type": "code",
        "outputId": "aa273900-eb4f-4b01-9329-03859cb5d7be",
        "colab": {
          "base_uri": "https://localhost:8080/",
          "height": 131
        }
      },
      "source": [
        "#pca\n",
        "#our features are called 'df_5' and our label is called 'label'\n",
        "pca = PCA(.95)\n",
        "sub_a = pca.fit_transform(df_5)\n",
        "sub_a"
      ],
      "execution_count": 0,
      "outputs": [
        {
          "output_type": "execute_result",
          "data": {
            "text/plain": [
              "array([[-2.0326405 , -0.41420892],\n",
              "       [-0.90707479,  0.27441152],\n",
              "       [-2.09110381, -0.44997673],\n",
              "       ...,\n",
              "       [ 0.92293725, -0.26387752],\n",
              "       [-0.22510326, -0.96624803],\n",
              "       [ 1.35043076, -0.00233724]])"
            ]
          },
          "metadata": {
            "tags": []
          },
          "execution_count": 38
        }
      ]
    },
    {
      "cell_type": "code",
      "metadata": {
        "id": "GDUUDHjPwmpD",
        "colab_type": "code",
        "outputId": "ba1c733c-404b-487a-952c-ea041d134806",
        "colab": {
          "base_uri": "https://localhost:8080/",
          "height": 33
        }
      },
      "source": [
        "sub_a.shape"
      ],
      "execution_count": 0,
      "outputs": [
        {
          "output_type": "execute_result",
          "data": {
            "text/plain": [
              "(9995, 2)"
            ]
          },
          "metadata": {
            "tags": []
          },
          "execution_count": 39
        }
      ]
    },
    {
      "cell_type": "code",
      "metadata": {
        "id": "TY9vZAX_5A0E",
        "colab_type": "code",
        "outputId": "de682ad5-fdeb-4ea2-edec-00d89badf55d",
        "colab": {
          "base_uri": "https://localhost:8080/",
          "height": 408
        }
      },
      "source": [
        "#Subset A contains 2 principal components that were \n",
        "#...originally scaled down from 3 features\n",
        "\n",
        "subset_a = pd.DataFrame(data=sub_a, columns=['PC 1', 'PC 2'])\n",
        "subset_a"
      ],
      "execution_count": 0,
      "outputs": [
        {
          "output_type": "execute_result",
          "data": {
            "text/html": [
              "<div>\n",
              "<style scoped>\n",
              "    .dataframe tbody tr th:only-of-type {\n",
              "        vertical-align: middle;\n",
              "    }\n",
              "\n",
              "    .dataframe tbody tr th {\n",
              "        vertical-align: top;\n",
              "    }\n",
              "\n",
              "    .dataframe thead th {\n",
              "        text-align: right;\n",
              "    }\n",
              "</style>\n",
              "<table border=\"1\" class=\"dataframe\">\n",
              "  <thead>\n",
              "    <tr style=\"text-align: right;\">\n",
              "      <th></th>\n",
              "      <th>PC 1</th>\n",
              "      <th>PC 2</th>\n",
              "    </tr>\n",
              "  </thead>\n",
              "  <tbody>\n",
              "    <tr>\n",
              "      <th>0</th>\n",
              "      <td>-2.032641</td>\n",
              "      <td>-0.414209</td>\n",
              "    </tr>\n",
              "    <tr>\n",
              "      <th>1</th>\n",
              "      <td>-0.907075</td>\n",
              "      <td>0.274412</td>\n",
              "    </tr>\n",
              "    <tr>\n",
              "      <th>2</th>\n",
              "      <td>-2.091104</td>\n",
              "      <td>-0.449977</td>\n",
              "    </tr>\n",
              "    <tr>\n",
              "      <th>3</th>\n",
              "      <td>-1.562416</td>\n",
              "      <td>-0.126526</td>\n",
              "    </tr>\n",
              "    <tr>\n",
              "      <th>4</th>\n",
              "      <td>-1.151492</td>\n",
              "      <td>0.124877</td>\n",
              "    </tr>\n",
              "    <tr>\n",
              "      <th>...</th>\n",
              "      <td>...</td>\n",
              "      <td>...</td>\n",
              "    </tr>\n",
              "    <tr>\n",
              "      <th>9990</th>\n",
              "      <td>0.410797</td>\n",
              "      <td>-0.577204</td>\n",
              "    </tr>\n",
              "    <tr>\n",
              "      <th>9991</th>\n",
              "      <td>0.212022</td>\n",
              "      <td>-0.698815</td>\n",
              "    </tr>\n",
              "    <tr>\n",
              "      <th>9992</th>\n",
              "      <td>0.922937</td>\n",
              "      <td>-0.263878</td>\n",
              "    </tr>\n",
              "    <tr>\n",
              "      <th>9993</th>\n",
              "      <td>-0.225103</td>\n",
              "      <td>-0.966248</td>\n",
              "    </tr>\n",
              "    <tr>\n",
              "      <th>9994</th>\n",
              "      <td>1.350431</td>\n",
              "      <td>-0.002337</td>\n",
              "    </tr>\n",
              "  </tbody>\n",
              "</table>\n",
              "<p>9995 rows × 2 columns</p>\n",
              "</div>"
            ],
            "text/plain": [
              "          PC 1      PC 2\n",
              "0    -2.032641 -0.414209\n",
              "1    -0.907075  0.274412\n",
              "2    -2.091104 -0.449977\n",
              "3    -1.562416 -0.126526\n",
              "4    -1.151492  0.124877\n",
              "...        ...       ...\n",
              "9990  0.410797 -0.577204\n",
              "9991  0.212022 -0.698815\n",
              "9992  0.922937 -0.263878\n",
              "9993 -0.225103 -0.966248\n",
              "9994  1.350431 -0.002337\n",
              "\n",
              "[9995 rows x 2 columns]"
            ]
          },
          "metadata": {
            "tags": []
          },
          "execution_count": 40
        }
      ]
    },
    {
      "cell_type": "code",
      "metadata": {
        "id": "b7oyWVf3MeyH",
        "colab_type": "code",
        "outputId": "8b1eb26c-274b-4b76-cea0-9a08c5376060",
        "colab": {
          "base_uri": "https://localhost:8080/",
          "height": 33
        }
      },
      "source": [
        "print(f'We have {pca.n_components_} principal components')"
      ],
      "execution_count": 0,
      "outputs": [
        {
          "output_type": "stream",
          "text": [
            "We have 2 principal components\n"
          ],
          "name": "stdout"
        }
      ]
    },
    {
      "cell_type": "code",
      "metadata": {
        "id": "OWx8XyQvKK45",
        "colab_type": "code",
        "outputId": "9c789b27-775e-4110-9505-d877f19e0703",
        "colab": {
          "base_uri": "https://localhost:8080/",
          "height": 419
        }
      },
      "source": [
        "ax = sns.heatmap(abs(pca.components_),\n",
        "                 annot=True,\n",
        "                 cmap='YlGnBu',\n",
        "                 yticklabels=[ \"PCA\"+str(x) for x in range(1,pca.n_components_+1)],\n",
        "                 xticklabels=list(df_5.columns),\n",
        "                 cbar_kws={\"orientation\": \"horizontal\"})\n",
        "plt.title('Weight of each Feature within each Pricinpal Component')\n",
        "ax.set_aspect(\"equal\")"
      ],
      "execution_count": 0,
      "outputs": [
        {
          "output_type": "display_data",
          "data": {
            "image/png": "[encoded data removed]",
            "text/plain": [
              "<Figure size 640x480 with 2 Axes>"
            ]
          },
          "metadata": {
            "tags": []
          }
        }
      ]
    },
    {
      "cell_type": "code",
      "metadata": {
        "id": "SvyFH4h9i-Cp",
        "colab_type": "code",
        "outputId": "80986cb8-37c5-4e78-e2ce-ba3d9dee4e1d",
        "colab": {
          "base_uri": "https://localhost:8080/",
          "height": 199
        }
      },
      "source": [
        "df_4.head()"
      ],
      "execution_count": 0,
      "outputs": [
        {
          "output_type": "execute_result",
          "data": {
            "text/html": [
              "<div>\n",
              "<style scoped>\n",
              "    .dataframe tbody tr th:only-of-type {\n",
              "        vertical-align: middle;\n",
              "    }\n",
              "\n",
              "    .dataframe tbody tr th {\n",
              "        vertical-align: top;\n",
              "    }\n",
              "\n",
              "    .dataframe thead th {\n",
              "        text-align: right;\n",
              "    }\n",
              "</style>\n",
              "<table border=\"1\" class=\"dataframe\">\n",
              "  <thead>\n",
              "    <tr style=\"text-align: right;\">\n",
              "      <th></th>\n",
              "      <th>Female</th>\n",
              "      <th>Male</th>\n",
              "      <th>Height</th>\n",
              "      <th>Weight</th>\n",
              "    </tr>\n",
              "  </thead>\n",
              "  <tbody>\n",
              "    <tr>\n",
              "      <th>0</th>\n",
              "      <td>0</td>\n",
              "      <td>1</td>\n",
              "      <td>73.847017</td>\n",
              "      <td>241.893563</td>\n",
              "    </tr>\n",
              "    <tr>\n",
              "      <th>1</th>\n",
              "      <td>0</td>\n",
              "      <td>1</td>\n",
              "      <td>68.781904</td>\n",
              "      <td>162.310473</td>\n",
              "    </tr>\n",
              "    <tr>\n",
              "      <th>2</th>\n",
              "      <td>0</td>\n",
              "      <td>1</td>\n",
              "      <td>74.110105</td>\n",
              "      <td>212.740856</td>\n",
              "    </tr>\n",
              "    <tr>\n",
              "      <th>3</th>\n",
              "      <td>0</td>\n",
              "      <td>1</td>\n",
              "      <td>71.730978</td>\n",
              "      <td>220.042470</td>\n",
              "    </tr>\n",
              "    <tr>\n",
              "      <th>4</th>\n",
              "      <td>0</td>\n",
              "      <td>1</td>\n",
              "      <td>69.881796</td>\n",
              "      <td>206.349801</td>\n",
              "    </tr>\n",
              "  </tbody>\n",
              "</table>\n",
              "</div>"
            ],
            "text/plain": [
              "   Female  Male     Height      Weight\n",
              "0       0     1  73.847017  241.893563\n",
              "1       0     1  68.781904  162.310473\n",
              "2       0     1  74.110105  212.740856\n",
              "3       0     1  71.730978  220.042470\n",
              "4       0     1  69.881796  206.349801"
            ]
          },
          "metadata": {
            "tags": []
          },
          "execution_count": 46
        }
      ]
    },
    {
      "cell_type": "code",
      "metadata": {
        "id": "RqrvaaMswspP",
        "colab_type": "code",
        "outputId": "283a119c-dc8f-499a-c940-1763ddd82fa4",
        "colab": {
          "base_uri": "https://localhost:8080/",
          "height": 440
        }
      },
      "source": [
        "#heatmap\n",
        "sns.heatmap(abs(df_4.corr()), annot=True, vmin=0, vmax=1)\n",
        "plt.show()"
      ],
      "execution_count": 0,
      "outputs": [
        {
          "output_type": "display_data",
          "data": {
            "image/png": "[encoded data removed]",
            "text/plain": [
              "<Figure size 640x480 with 2 Axes>"
            ]
          },
          "metadata": {
            "tags": []
          }
        }
      ]
    },
    {
      "cell_type": "code",
      "metadata": {
        "id": "uqomoGN3xeAN",
        "colab_type": "code",
        "outputId": "fa8a7ac8-cece-408f-a332-36b1116fbdf7",
        "colab": {
          "base_uri": "https://localhost:8080/",
          "height": 131
        }
      },
      "source": [
        "#Subset B contains the single feature of 'Height'\n",
        "subset_b = df_5['Height']\n",
        "subset_b  = subset_b.values.reshape(-1,1)\n",
        "subset_b, subset_b.shape, type(subset_b)"
      ],
      "execution_count": 0,
      "outputs": [
        {
          "output_type": "execute_result",
          "data": {
            "text/plain": [
              "(array([[ 1.95005027],\n",
              "        [ 0.6305442 ],\n",
              "        [ 2.01858708],\n",
              "        ...,\n",
              "        [-0.64957266],\n",
              "        [ 0.69628073],\n",
              "        [-1.15072534]]), (9995, 1), numpy.ndarray)"
            ]
          },
          "metadata": {
            "tags": []
          },
          "execution_count": 52
        }
      ]
    },
    {
      "cell_type": "code",
      "metadata": {
        "id": "RbetVJ3vx5an",
        "colab_type": "code",
        "outputId": "efc8741c-0d80-4de4-bd87-ae34c8d2e798",
        "colab": {
          "base_uri": "https://localhost:8080/",
          "height": 199
        }
      },
      "source": [
        "#Subset C contains all three features\n",
        "subset_c = df_5\n",
        "subset_c.head()"
      ],
      "execution_count": 0,
      "outputs": [
        {
          "output_type": "execute_result",
          "data": {
            "text/html": [
              "<div>\n",
              "<style scoped>\n",
              "    .dataframe tbody tr th:only-of-type {\n",
              "        vertical-align: middle;\n",
              "    }\n",
              "\n",
              "    .dataframe tbody tr th {\n",
              "        vertical-align: top;\n",
              "    }\n",
              "\n",
              "    .dataframe thead th {\n",
              "        text-align: right;\n",
              "    }\n",
              "</style>\n",
              "<table border=\"1\" class=\"dataframe\">\n",
              "  <thead>\n",
              "    <tr style=\"text-align: right;\">\n",
              "      <th></th>\n",
              "      <th>Female</th>\n",
              "      <th>Male</th>\n",
              "      <th>Height</th>\n",
              "    </tr>\n",
              "  </thead>\n",
              "  <tbody>\n",
              "    <tr>\n",
              "      <th>0</th>\n",
              "      <td>0</td>\n",
              "      <td>1</td>\n",
              "      <td>1.950050</td>\n",
              "    </tr>\n",
              "    <tr>\n",
              "      <th>1</th>\n",
              "      <td>0</td>\n",
              "      <td>1</td>\n",
              "      <td>0.630544</td>\n",
              "    </tr>\n",
              "    <tr>\n",
              "      <th>2</th>\n",
              "      <td>0</td>\n",
              "      <td>1</td>\n",
              "      <td>2.018587</td>\n",
              "    </tr>\n",
              "    <tr>\n",
              "      <th>3</th>\n",
              "      <td>0</td>\n",
              "      <td>1</td>\n",
              "      <td>1.398804</td>\n",
              "    </tr>\n",
              "    <tr>\n",
              "      <th>4</th>\n",
              "      <td>0</td>\n",
              "      <td>1</td>\n",
              "      <td>0.917076</td>\n",
              "    </tr>\n",
              "  </tbody>\n",
              "</table>\n",
              "</div>"
            ],
            "text/plain": [
              "   Female  Male    Height\n",
              "0       0     1  1.950050\n",
              "1       0     1  0.630544\n",
              "2       0     1  2.018587\n",
              "3       0     1  1.398804\n",
              "4       0     1  0.917076"
            ]
          },
          "metadata": {
            "tags": []
          },
          "execution_count": 49
        }
      ]
    },
    {
      "cell_type": "code",
      "metadata": {
        "id": "icsbo5pp-kp6",
        "colab_type": "code",
        "outputId": "b05c8cc7-70a5-40ac-c371-5fcdfee85086",
        "colab": {
          "base_uri": "https://localhost:8080/",
          "height": 212
        }
      },
      "source": [
        "weight_label = df_4['Weight']\n",
        "weight_label"
      ],
      "execution_count": 0,
      "outputs": [
        {
          "output_type": "execute_result",
          "data": {
            "text/plain": [
              "0       241.893563\n",
              "1       162.310473\n",
              "2       212.740856\n",
              "3       220.042470\n",
              "4       206.349801\n",
              "           ...    \n",
              "9990    136.777454\n",
              "9991    170.867906\n",
              "9992    128.475319\n",
              "9993    163.852461\n",
              "9994    113.649103\n",
              "Name: Weight, Length: 9995, dtype: float64"
            ]
          },
          "metadata": {
            "tags": []
          },
          "execution_count": 51
        }
      ]
    },
    {
      "cell_type": "markdown",
      "metadata": {
        "id": "bGvWTa1Q5qAK",
        "colab_type": "text"
      },
      "source": [
        "Coefficients between....\n",
        "\n",
        "*   0.9 and 1.0 are highly correlated\n",
        "*   0.5 and 0.7 are moderately correlated\n",
        "\n",
        "All together we have found 3 subsets to work with:\n",
        "\n",
        "*   Subset A\t2 feats (PCA(.95))\n",
        "*   Subset B\t1 feat (Height)\n",
        "*   Subset C\t3 feats (Female, Male, Height)\n",
        "\n",
        "\n",
        "\n",
        "\n",
        "\n",
        "\n",
        "Since this dataset isn't very complex, I feel comfortable with these three subsets. Otherwise I would consider using an ExtraTreesClassifier to find the Feature Importance"
      ]
    },
    {
      "cell_type": "code",
      "metadata": {
        "id": "xFD8wdtyz0cG",
        "colab_type": "code",
        "colab": {}
      },
      "source": [
        "#Split up features and label for training and testing for subset_c \n",
        "\n",
        "train_X, test_X, train_y, test_y = train_test_split(subset_c, weight_label, test_size=0.2, random_state=13)"
      ],
      "execution_count": 0,
      "outputs": []
    },
    {
      "cell_type": "code",
      "metadata": {
        "id": "eZgXO061z0YT",
        "colab_type": "code",
        "outputId": "ec35c008-1440-493a-f82e-dfa4112c45bf",
        "colab": {
          "base_uri": "https://localhost:8080/",
          "height": 33
        }
      },
      "source": [
        "type(train_X), train_X.shape, type(train_y), train_y.shape"
      ],
      "execution_count": 0,
      "outputs": [
        {
          "output_type": "execute_result",
          "data": {
            "text/plain": [
              "(pandas.core.frame.DataFrame, (7996, 3), pandas.core.series.Series, (7996,))"
            ]
          },
          "metadata": {
            "tags": []
          },
          "execution_count": 59
        }
      ]
    },
    {
      "cell_type": "code",
      "metadata": {
        "id": "Io5q7AD1z0VK",
        "colab_type": "code",
        "outputId": "8461138a-137e-4323-971f-93f76b337b24",
        "colab": {
          "base_uri": "https://localhost:8080/",
          "height": 33
        }
      },
      "source": [
        "type(test_X), test_X.shape, type(test_y), test_y.shape"
      ],
      "execution_count": 0,
      "outputs": [
        {
          "output_type": "execute_result",
          "data": {
            "text/plain": [
              "(pandas.core.frame.DataFrame, (1999, 3), pandas.core.series.Series, (1999,))"
            ]
          },
          "metadata": {
            "tags": []
          },
          "execution_count": 61
        }
      ]
    },
    {
      "cell_type": "code",
      "metadata": {
        "id": "EJV0HJiQz0RG",
        "colab_type": "code",
        "colab": {}
      },
      "source": [
        "np.save('p2_c_train_X', train_X)"
      ],
      "execution_count": 0,
      "outputs": []
    },
    {
      "cell_type": "code",
      "metadata": {
        "id": "dehY0R1t333n",
        "colab_type": "code",
        "colab": {}
      },
      "source": [
        "np.save('p2_c_train_y', train_y)"
      ],
      "execution_count": 0,
      "outputs": []
    },
    {
      "cell_type": "code",
      "metadata": {
        "id": "pESSVe2T33u0",
        "colab_type": "code",
        "colab": {}
      },
      "source": [
        "np.save('p2_c_test_X', test_X)"
      ],
      "execution_count": 0,
      "outputs": []
    },
    {
      "cell_type": "code",
      "metadata": {
        "id": "lQ4sRQvC33nR",
        "colab_type": "code",
        "colab": {}
      },
      "source": [
        "np.save('p2_c_test_y', test_y)"
      ],
      "execution_count": 0,
      "outputs": []
    },
    {
      "cell_type": "code",
      "metadata": {
        "id": "GqSSxyDkz0Lp",
        "colab_type": "code",
        "colab": {}
      },
      "source": [
        "#Split up features and label for training and testing for subset_a\n",
        "\n",
        "a_train_X, a_test_X, a_train_y, a_test_y = train_test_split(subset_a, weight_label, test_size=0.2, random_state=13)"
      ],
      "execution_count": 0,
      "outputs": []
    },
    {
      "cell_type": "code",
      "metadata": {
        "id": "cWZlXISN5L-E",
        "colab_type": "code",
        "outputId": "c5325846-1034-4778-cf3b-632c43b37d5e",
        "colab": {
          "base_uri": "https://localhost:8080/",
          "height": 33
        }
      },
      "source": [
        "type(a_train_X), a_train_X.shape, type(a_train_y), a_train_y.shape"
      ],
      "execution_count": 0,
      "outputs": [
        {
          "output_type": "execute_result",
          "data": {
            "text/plain": [
              "(pandas.core.frame.DataFrame, (7996, 2), pandas.core.series.Series, (7996,))"
            ]
          },
          "metadata": {
            "tags": []
          },
          "execution_count": 67
        }
      ]
    },
    {
      "cell_type": "code",
      "metadata": {
        "id": "mME5HRJs5L5_",
        "colab_type": "code",
        "outputId": "47cc8e68-7129-45bf-c698-c17221c9805c",
        "colab": {
          "base_uri": "https://localhost:8080/",
          "height": 33
        }
      },
      "source": [
        "type(a_test_X), a_test_X.shape, type(a_test_y), a_test_y.shape"
      ],
      "execution_count": 0,
      "outputs": [
        {
          "output_type": "execute_result",
          "data": {
            "text/plain": [
              "(pandas.core.frame.DataFrame, (1999, 2), pandas.core.series.Series, (1999,))"
            ]
          },
          "metadata": {
            "tags": []
          },
          "execution_count": 68
        }
      ]
    },
    {
      "cell_type": "code",
      "metadata": {
        "id": "PC6EW31Z5L1r",
        "colab_type": "code",
        "colab": {}
      },
      "source": [
        "np.save('p2_a_train_X', a_train_X)"
      ],
      "execution_count": 0,
      "outputs": []
    },
    {
      "cell_type": "code",
      "metadata": {
        "id": "E8v4Z9ZV5LyK",
        "colab_type": "code",
        "colab": {}
      },
      "source": [
        "np.save('p2_a_train_y', a_train_y)"
      ],
      "execution_count": 0,
      "outputs": []
    },
    {
      "cell_type": "code",
      "metadata": {
        "id": "q4j3iGYI5Ltx",
        "colab_type": "code",
        "colab": {}
      },
      "source": [
        "np.save('p2_a_test_X', a_test_X)"
      ],
      "execution_count": 0,
      "outputs": []
    },
    {
      "cell_type": "code",
      "metadata": {
        "id": "1dBDDThR5LqC",
        "colab_type": "code",
        "colab": {}
      },
      "source": [
        "np.save('p2_a_test_y', a_test_y)"
      ],
      "execution_count": 0,
      "outputs": []
    },
    {
      "cell_type": "code",
      "metadata": {
        "id": "pIw7zfb05Lju",
        "colab_type": "code",
        "colab": {}
      },
      "source": [
        "#Split up features and label for training and testing for subset_b\n",
        "\n",
        "b_train_X, b_test_X, b_train_y, b_test_y = train_test_split(subset_b, weight_label, test_size=0.2, random_state=13)"
      ],
      "execution_count": 0,
      "outputs": []
    },
    {
      "cell_type": "code",
      "metadata": {
        "id": "p-Z24V2m5LeK",
        "colab_type": "code",
        "outputId": "c6026791-194b-4371-b43b-b11ff1e224ea",
        "colab": {
          "base_uri": "https://localhost:8080/",
          "height": 33
        }
      },
      "source": [
        "type(b_train_X), b_train_X.shape, type(b_train_y), b_train_y.shape"
      ],
      "execution_count": 0,
      "outputs": [
        {
          "output_type": "execute_result",
          "data": {
            "text/plain": [
              "(numpy.ndarray, (7996, 1), pandas.core.series.Series, (7996,))"
            ]
          },
          "metadata": {
            "tags": []
          },
          "execution_count": 75
        }
      ]
    },
    {
      "cell_type": "code",
      "metadata": {
        "id": "ybCGc95i5LSU",
        "colab_type": "code",
        "outputId": "3dc463f6-77a4-4e65-af1a-814ac1148de4",
        "colab": {
          "base_uri": "https://localhost:8080/",
          "height": 33
        }
      },
      "source": [
        "type(b_test_X), b_test_X.shape, type(b_test_y), b_test_y.shape"
      ],
      "execution_count": 0,
      "outputs": [
        {
          "output_type": "execute_result",
          "data": {
            "text/plain": [
              "(numpy.ndarray, (1999, 1), pandas.core.series.Series, (1999,))"
            ]
          },
          "metadata": {
            "tags": []
          },
          "execution_count": 76
        }
      ]
    },
    {
      "cell_type": "code",
      "metadata": {
        "id": "2wADatiu8Zcd",
        "colab_type": "code",
        "colab": {}
      },
      "source": [
        "np.save('p2_b_train_X', b_train_X)"
      ],
      "execution_count": 0,
      "outputs": []
    },
    {
      "cell_type": "code",
      "metadata": {
        "id": "TIp_iJ0x8he2",
        "colab_type": "code",
        "colab": {}
      },
      "source": [
        "np.save('p2_b_train_y', b_train_y)"
      ],
      "execution_count": 0,
      "outputs": []
    },
    {
      "cell_type": "code",
      "metadata": {
        "id": "RTtPI-br8hbF",
        "colab_type": "code",
        "colab": {}
      },
      "source": [
        "np.save('p2_b_test_X', b_test_X)"
      ],
      "execution_count": 0,
      "outputs": []
    },
    {
      "cell_type": "code",
      "metadata": {
        "id": "61f_Rl9g8hWU",
        "colab_type": "code",
        "colab": {}
      },
      "source": [
        "np.save('p2_b_test_y', b_test_y)"
      ],
      "execution_count": 0,
      "outputs": []
    },
    {
      "cell_type": "code",
      "metadata": {
        "id": "Id5OnDmL852u",
        "colab_type": "code",
        "colab": {}
      },
      "source": [
        "#load in data"
      ],
      "execution_count": 0,
      "outputs": []
    },
    {
      "cell_type": "code",
      "metadata": {
        "id": "IOrmm4fv85ym",
        "colab_type": "code",
        "colab": {}
      },
      "source": [
        "a_train_X = np.load('p2_a_train_X.npy')"
      ],
      "execution_count": 0,
      "outputs": []
    },
    {
      "cell_type": "code",
      "metadata": {
        "id": "sYR0wRrN85uG",
        "colab_type": "code",
        "colab": {}
      },
      "source": [
        "a_train_y = np.load('p2_a_train_y.npy')"
      ],
      "execution_count": 0,
      "outputs": []
    },
    {
      "cell_type": "code",
      "metadata": {
        "id": "R86iypPu85qv",
        "colab_type": "code",
        "colab": {}
      },
      "source": [
        "a_test_X = np.load('p2_a_test_X.npy')"
      ],
      "execution_count": 0,
      "outputs": []
    },
    {
      "cell_type": "code",
      "metadata": {
        "id": "zr1i2c_N84o0",
        "colab_type": "code",
        "colab": {}
      },
      "source": [
        "a_test_y = np.load('p2_a_test_y.npy')"
      ],
      "execution_count": 0,
      "outputs": []
    },
    {
      "cell_type": "code",
      "metadata": {
        "id": "N05SQqRT9uR1",
        "colab_type": "code",
        "colab": {}
      },
      "source": [
        "b_train_X = np.load('p2_b_train_X.npy')"
      ],
      "execution_count": 0,
      "outputs": []
    },
    {
      "cell_type": "code",
      "metadata": {
        "id": "wiJInXA-9uI7",
        "colab_type": "code",
        "colab": {}
      },
      "source": [
        "b_train_y = np.load('p2_b_train_y.npy')"
      ],
      "execution_count": 0,
      "outputs": []
    },
    {
      "cell_type": "code",
      "metadata": {
        "id": "0iRQ9tVd9t_1",
        "colab_type": "code",
        "colab": {}
      },
      "source": [
        "b_test_X = np.load('p2_b_test_X.npy')"
      ],
      "execution_count": 0,
      "outputs": []
    },
    {
      "cell_type": "code",
      "metadata": {
        "id": "ikhUd--J9t2c",
        "colab_type": "code",
        "colab": {}
      },
      "source": [
        "b_test_y = np.load('p2_b_test_y.npy')"
      ],
      "execution_count": 0,
      "outputs": []
    },
    {
      "cell_type": "code",
      "metadata": {
        "id": "bdqJcwML9tt2",
        "colab_type": "code",
        "colab": {}
      },
      "source": [
        "c_train_X = np.load('p2_c_train_X.npy')"
      ],
      "execution_count": 0,
      "outputs": []
    },
    {
      "cell_type": "code",
      "metadata": {
        "id": "llm25Dby9tkd",
        "colab_type": "code",
        "colab": {}
      },
      "source": [
        "c_train_y = np.load('p2_c_train_y.npy')"
      ],
      "execution_count": 0,
      "outputs": []
    },
    {
      "cell_type": "code",
      "metadata": {
        "id": "ZrPMIA6G9tbI",
        "colab_type": "code",
        "colab": {}
      },
      "source": [
        "c_test_X = np.load('p2_c_test_X.npy')"
      ],
      "execution_count": 0,
      "outputs": []
    },
    {
      "cell_type": "code",
      "metadata": {
        "id": "uiNwOQ7r9tQt",
        "colab_type": "code",
        "colab": {}
      },
      "source": [
        "c_test_y = np.load('p2_c_test_y.npy')"
      ],
      "execution_count": 0,
      "outputs": []
    },
    {
      "cell_type": "markdown",
      "metadata": {
        "id": "4DQo5-s3izH4",
        "colab_type": "text"
      },
      "source": [
        "#Machine Learning --> Linear Regression"
      ]
    },
    {
      "cell_type": "markdown",
      "metadata": {
        "id": "ZU4wquD4iRax",
        "colab_type": "text"
      },
      "source": [
        "####Subset A"
      ]
    },
    {
      "cell_type": "code",
      "metadata": {
        "id": "0wtw9T1aiQm0",
        "colab_type": "code",
        "colab": {
          "base_uri": "https://localhost:8080/",
          "height": 33
        },
        "outputId": "67a65342-91dc-493a-b678-f8e4cb8e41f3"
      },
      "source": [
        "linreg_1 = LinearRegression()\n",
        "linreg_1"
      ],
      "execution_count": 22,
      "outputs": [
        {
          "output_type": "execute_result",
          "data": {
            "text/plain": [
              "LinearRegression(copy_X=True, fit_intercept=True, n_jobs=None, normalize=False)"
            ]
          },
          "metadata": {
            "tags": []
          },
          "execution_count": 22
        }
      ]
    },
    {
      "cell_type": "code",
      "metadata": {
        "id": "9ank5MyenRo3",
        "colab_type": "code",
        "colab": {
          "base_uri": "https://localhost:8080/",
          "height": 33
        },
        "outputId": "355166a7-3405-421b-afb8-9d4dafaaaaa8"
      },
      "source": [
        "param_grid = {'fit_intercept': [False, True], 'normalize': [False, True]}\n",
        "param_grid"
      ],
      "execution_count": 23,
      "outputs": [
        {
          "output_type": "execute_result",
          "data": {
            "text/plain": [
              "{'fit_intercept': [False, True], 'normalize': [False, True]}"
            ]
          },
          "metadata": {
            "tags": []
          },
          "execution_count": 23
        }
      ]
    },
    {
      "cell_type": "code",
      "metadata": {
        "id": "X-XrVcGBnRmA",
        "colab_type": "code",
        "colab": {
          "base_uri": "https://localhost:8080/",
          "height": 147
        },
        "outputId": "647b2a3e-a077-495a-c08f-ef762182dab8"
      },
      "source": [
        "kf_model_1  = GridSearchCV(linreg_1, param_grid=param_grid, cv=10, n_jobs=50)\n",
        "kf_model_1"
      ],
      "execution_count": 24,
      "outputs": [
        {
          "output_type": "execute_result",
          "data": {
            "text/plain": [
              "GridSearchCV(cv=10, error_score=nan,\n",
              "             estimator=LinearRegression(copy_X=True, fit_intercept=True,\n",
              "                                        n_jobs=None, normalize=False),\n",
              "             iid='deprecated', n_jobs=50,\n",
              "             param_grid={'fit_intercept': [False, True],\n",
              "                         'normalize': [False, True]},\n",
              "             pre_dispatch='2*n_jobs', refit=True, return_train_score=False,\n",
              "             scoring=None, verbose=0)"
            ]
          },
          "metadata": {
            "tags": []
          },
          "execution_count": 24
        }
      ]
    },
    {
      "cell_type": "code",
      "metadata": {
        "id": "XUaLSqQonRgU",
        "colab_type": "code",
        "colab": {
          "base_uri": "https://localhost:8080/",
          "height": 147
        },
        "outputId": "5c1a60bc-a519-41d2-fc78-54d5ac779c8b"
      },
      "source": [
        "kf_model_1.fit(a_train_X, a_train_y)"
      ],
      "execution_count": 25,
      "outputs": [
        {
          "output_type": "execute_result",
          "data": {
            "text/plain": [
              "GridSearchCV(cv=10, error_score=nan,\n",
              "             estimator=LinearRegression(copy_X=True, fit_intercept=True,\n",
              "                                        n_jobs=None, normalize=False),\n",
              "             iid='deprecated', n_jobs=50,\n",
              "             param_grid={'fit_intercept': [False, True],\n",
              "                         'normalize': [False, True]},\n",
              "             pre_dispatch='2*n_jobs', refit=True, return_train_score=False,\n",
              "             scoring=None, verbose=0)"
            ]
          },
          "metadata": {
            "tags": []
          },
          "execution_count": 25
        }
      ]
    },
    {
      "cell_type": "code",
      "metadata": {
        "id": "JpnEHWUAoYo-",
        "colab_type": "code",
        "colab": {
          "base_uri": "https://localhost:8080/",
          "height": 49
        },
        "outputId": "f0938b4f-d551-45e6-807b-b5be0316d380"
      },
      "source": [
        "a_pred_y = kf_model_1.predict(a_test_X)\n",
        "a_pred_y"
      ],
      "execution_count": 26,
      "outputs": [
        {
          "output_type": "execute_result",
          "data": {
            "text/plain": [
              "array([104.07014146, 127.41680339, 173.35137245, ..., 201.39906538,\n",
              "       185.26689732, 136.46373821])"
            ]
          },
          "metadata": {
            "tags": []
          },
          "execution_count": 26
        }
      ]
    },
    {
      "cell_type": "code",
      "metadata": {
        "id": "p5BxN2BRtQZA",
        "colab_type": "code",
        "colab": {
          "base_uri": "https://localhost:8080/",
          "height": 408
        },
        "outputId": "3ed6c484-0f89-4545-a914-877f8f6794ca"
      },
      "source": [
        "pd.DataFrame({'Tested': a_test_y, 'Predicted': a_pred_y})"
      ],
      "execution_count": 27,
      "outputs": [
        {
          "output_type": "execute_result",
          "data": {
            "text/html": [
              "<div>\n",
              "<style scoped>\n",
              "    .dataframe tbody tr th:only-of-type {\n",
              "        vertical-align: middle;\n",
              "    }\n",
              "\n",
              "    .dataframe tbody tr th {\n",
              "        vertical-align: top;\n",
              "    }\n",
              "\n",
              "    .dataframe thead th {\n",
              "        text-align: right;\n",
              "    }\n",
              "</style>\n",
              "<table border=\"1\" class=\"dataframe\">\n",
              "  <thead>\n",
              "    <tr style=\"text-align: right;\">\n",
              "      <th></th>\n",
              "      <th>Tested</th>\n",
              "      <th>Predicted</th>\n",
              "    </tr>\n",
              "  </thead>\n",
              "  <tbody>\n",
              "    <tr>\n",
              "      <th>0</th>\n",
              "      <td>85.793085</td>\n",
              "      <td>104.070141</td>\n",
              "    </tr>\n",
              "    <tr>\n",
              "      <th>1</th>\n",
              "      <td>119.117424</td>\n",
              "      <td>127.416803</td>\n",
              "    </tr>\n",
              "    <tr>\n",
              "      <th>2</th>\n",
              "      <td>171.524042</td>\n",
              "      <td>173.351372</td>\n",
              "    </tr>\n",
              "    <tr>\n",
              "      <th>3</th>\n",
              "      <td>194.240362</td>\n",
              "      <td>172.995083</td>\n",
              "    </tr>\n",
              "    <tr>\n",
              "      <th>4</th>\n",
              "      <td>132.697317</td>\n",
              "      <td>128.305467</td>\n",
              "    </tr>\n",
              "    <tr>\n",
              "      <th>...</th>\n",
              "      <td>...</td>\n",
              "      <td>...</td>\n",
              "    </tr>\n",
              "    <tr>\n",
              "      <th>1994</th>\n",
              "      <td>142.206380</td>\n",
              "      <td>143.261284</td>\n",
              "    </tr>\n",
              "    <tr>\n",
              "      <th>1995</th>\n",
              "      <td>142.452571</td>\n",
              "      <td>135.866666</td>\n",
              "    </tr>\n",
              "    <tr>\n",
              "      <th>1996</th>\n",
              "      <td>182.174364</td>\n",
              "      <td>201.399065</td>\n",
              "    </tr>\n",
              "    <tr>\n",
              "      <th>1997</th>\n",
              "      <td>179.204782</td>\n",
              "      <td>185.266897</td>\n",
              "    </tr>\n",
              "    <tr>\n",
              "      <th>1998</th>\n",
              "      <td>138.895712</td>\n",
              "      <td>136.463738</td>\n",
              "    </tr>\n",
              "  </tbody>\n",
              "</table>\n",
              "<p>1999 rows × 2 columns</p>\n",
              "</div>"
            ],
            "text/plain": [
              "          Tested   Predicted\n",
              "0      85.793085  104.070141\n",
              "1     119.117424  127.416803\n",
              "2     171.524042  173.351372\n",
              "3     194.240362  172.995083\n",
              "4     132.697317  128.305467\n",
              "...          ...         ...\n",
              "1994  142.206380  143.261284\n",
              "1995  142.452571  135.866666\n",
              "1996  182.174364  201.399065\n",
              "1997  179.204782  185.266897\n",
              "1998  138.895712  136.463738\n",
              "\n",
              "[1999 rows x 2 columns]"
            ]
          },
          "metadata": {
            "tags": []
          },
          "execution_count": 27
        }
      ]
    },
    {
      "cell_type": "code",
      "metadata": {
        "id": "72bazK36p2zm",
        "colab_type": "code",
        "colab": {
          "base_uri": "https://localhost:8080/",
          "height": 264
        },
        "outputId": "434fa4f8-7227-45fb-a3e8-c88269fe9824"
      },
      "source": [
        "x = range(50,301,50)\n",
        "y = x\n",
        "plt.scatter(a_test_y, a_pred_y)\n",
        "plt.plot(x,y, color='red')\n",
        "plt.show()"
      ],
      "execution_count": 28,
      "outputs": [
        {
          "output_type": "display_data",
          "data": {
            "image/png": "[encoded data removed]",
            "text/plain": [
              "<Figure size 432x288 with 1 Axes>"
            ]
          },
          "metadata": {
            "tags": []
          }
        }
      ]
    },
    {
      "cell_type": "code",
      "metadata": {
        "id": "4FQPT171oYcl",
        "colab_type": "code",
        "colab": {
          "base_uri": "https://localhost:8080/",
          "height": 33
        },
        "outputId": "e8c7a4b2-2526-45d7-ef7c-14cf8a842307"
      },
      "source": [
        "#mean absolute error\n",
        "\n",
        "metrics.mean_absolute_error(a_test_y, a_pred_y)"
      ],
      "execution_count": 29,
      "outputs": [
        {
          "output_type": "execute_result",
          "data": {
            "text/plain": [
              "8.020949545134666"
            ]
          },
          "metadata": {
            "tags": []
          },
          "execution_count": 29
        }
      ]
    },
    {
      "cell_type": "code",
      "metadata": {
        "id": "zqSFlWneoYO-",
        "colab_type": "code",
        "colab": {
          "base_uri": "https://localhost:8080/",
          "height": 33
        },
        "outputId": "8a3a4ff5-0cca-4eba-e0e7-ac794219ad53"
      },
      "source": [
        "#mean squared error\n",
        "\n",
        "metrics.mean_squared_error(a_test_y, a_pred_y)"
      ],
      "execution_count": 30,
      "outputs": [
        {
          "output_type": "execute_result",
          "data": {
            "text/plain": [
              "99.93468232235509"
            ]
          },
          "metadata": {
            "tags": []
          },
          "execution_count": 30
        }
      ]
    },
    {
      "cell_type": "code",
      "metadata": {
        "id": "wczv5rJErMWt",
        "colab_type": "code",
        "colab": {
          "base_uri": "https://localhost:8080/",
          "height": 33
        },
        "outputId": "64fc1dc0-7c14-421f-b925-c72218e2dfdb"
      },
      "source": [
        "#root mean squared error\n",
        "\n",
        "np.sqrt(metrics.mean_squared_error(a_test_y, a_pred_y))"
      ],
      "execution_count": 31,
      "outputs": [
        {
          "output_type": "execute_result",
          "data": {
            "text/plain": [
              "9.996733582643637"
            ]
          },
          "metadata": {
            "tags": []
          },
          "execution_count": 31
        }
      ]
    },
    {
      "cell_type": "code",
      "metadata": {
        "id": "IXi9Q0NRrMQ9",
        "colab_type": "code",
        "colab": {
          "base_uri": "https://localhost:8080/",
          "height": 33
        },
        "outputId": "ad293513-5e82-42ec-c62c-87319af01a1e"
      },
      "source": [
        "#adjusted r squared\n",
        "\n",
        "metrics.r2_score(a_test_y, a_pred_y)"
      ],
      "execution_count": 32,
      "outputs": [
        {
          "output_type": "execute_result",
          "data": {
            "text/plain": [
              "0.9013201586271592"
            ]
          },
          "metadata": {
            "tags": []
          },
          "execution_count": 32
        }
      ]
    },
    {
      "cell_type": "code",
      "metadata": {
        "id": "Ss9PFculrLOW",
        "colab_type": "code",
        "colab": {
          "base_uri": "https://localhost:8080/",
          "height": 33
        },
        "outputId": "1fc4431c-1bab-4034-d49b-1f1f5afff634"
      },
      "source": [
        "#model's best parameters\n",
        "\n",
        "kf_model_1.best_params_"
      ],
      "execution_count": 33,
      "outputs": [
        {
          "output_type": "execute_result",
          "data": {
            "text/plain": [
              "{'fit_intercept': True, 'normalize': False}"
            ]
          },
          "metadata": {
            "tags": []
          },
          "execution_count": 33
        }
      ]
    },
    {
      "cell_type": "code",
      "metadata": {
        "id": "SG_XKVKBsRcu",
        "colab_type": "code",
        "colab": {
          "base_uri": "https://localhost:8080/",
          "height": 33
        },
        "outputId": "effa590a-9a05-4eec-e116-93cb45206af1"
      },
      "source": [
        "#model's coefficients\n",
        "#The coefficiants are negative. Why?\n",
        "#In scikit learn, a decision was made to have all \n",
        "#outputs for training be based on classification \n",
        "#accuracy instead of preference of whether a user\n",
        "#wants to find the loss OR accuracy.\n",
        "\n",
        "kf_model_1.best_estimator_.coef_"
      ],
      "execution_count": 34,
      "outputs": [
        {
          "output_type": "execute_result",
          "data": {
            "text/plain": [
              "array([-26.72518139,  -0.15326423])"
            ]
          },
          "metadata": {
            "tags": []
          },
          "execution_count": 34
        }
      ]
    },
    {
      "cell_type": "code",
      "metadata": {
        "id": "oFyR2p5JsnP4",
        "colab_type": "code",
        "colab": {
          "base_uri": "https://localhost:8080/",
          "height": 33
        },
        "outputId": "3caab520-be92-4461-c4e8-01775bc617b2"
      },
      "source": [
        "#model's intercept\n",
        "\n",
        "kf_model_1.best_estimator_.intercept_"
      ],
      "execution_count": 35,
      "outputs": [
        {
          "output_type": "execute_result",
          "data": {
            "text/plain": [
              "161.3587398891754"
            ]
          },
          "metadata": {
            "tags": []
          },
          "execution_count": 35
        }
      ]
    },
    {
      "cell_type": "code",
      "metadata": {
        "id": "N2yVYc3HbGBj",
        "colab_type": "code",
        "colab": {
          "base_uri": "https://localhost:8080/",
          "height": 33
        },
        "outputId": "ee50eaf6-fb66-4566-bb18-b5186587ecc9"
      },
      "source": [
        "kf_model_1.best_score_"
      ],
      "execution_count": 36,
      "outputs": [
        {
          "output_type": "execute_result",
          "data": {
            "text/plain": [
              "0.9024190524110856"
            ]
          },
          "metadata": {
            "tags": []
          },
          "execution_count": 36
        }
      ]
    },
    {
      "cell_type": "markdown",
      "metadata": {
        "id": "6Ts-amThvnnY",
        "colab_type": "text"
      },
      "source": [
        "####Subset B"
      ]
    },
    {
      "cell_type": "code",
      "metadata": {
        "id": "KVfHRwbC-vSe",
        "colab_type": "code",
        "outputId": "f7e93a26-a445-4bcd-e308-29e9f3850e68",
        "colab": {
          "base_uri": "https://localhost:8080/",
          "height": 33
        }
      },
      "source": [
        "linreg_2 = LinearRegression()\n",
        "linreg_2"
      ],
      "execution_count": 68,
      "outputs": [
        {
          "output_type": "execute_result",
          "data": {
            "text/plain": [
              "LinearRegression(copy_X=True, fit_intercept=True, n_jobs=None, normalize=False)"
            ]
          },
          "metadata": {
            "tags": []
          },
          "execution_count": 68
        }
      ]
    },
    {
      "cell_type": "code",
      "metadata": {
        "id": "XFR63-Pd-vN_",
        "colab_type": "code",
        "colab": {}
      },
      "source": [
        "param_grid = {'fit_intercept': [True, False], 'normalize': [True, False]}"
      ],
      "execution_count": 0,
      "outputs": []
    },
    {
      "cell_type": "code",
      "metadata": {
        "id": "f6Tc3IiF-vKO",
        "colab_type": "code",
        "outputId": "6a08f4b3-5086-4f77-b276-e0fd79fbee98",
        "colab": {
          "base_uri": "https://localhost:8080/",
          "height": 147
        }
      },
      "source": [
        "kf_model = GridSearchCV(linreg_2, param_grid=param_grid, cv=10, n_jobs=50)\n",
        "kf_model"
      ],
      "execution_count": 70,
      "outputs": [
        {
          "output_type": "execute_result",
          "data": {
            "text/plain": [
              "GridSearchCV(cv=10, error_score=nan,\n",
              "             estimator=LinearRegression(copy_X=True, fit_intercept=True,\n",
              "                                        n_jobs=None, normalize=False),\n",
              "             iid='deprecated', n_jobs=50,\n",
              "             param_grid={'fit_intercept': [True, False],\n",
              "                         'normalize': [True, False]},\n",
              "             pre_dispatch='2*n_jobs', refit=True, return_train_score=False,\n",
              "             scoring=None, verbose=0)"
            ]
          },
          "metadata": {
            "tags": []
          },
          "execution_count": 70
        }
      ]
    },
    {
      "cell_type": "code",
      "metadata": {
        "id": "t4clrX0V_eVe",
        "colab_type": "code",
        "outputId": "7045211c-c555-46c5-ee8d-26c9fa094d72",
        "colab": {
          "base_uri": "https://localhost:8080/",
          "height": 147
        }
      },
      "source": [
        "kf_model.fit(b_train_X, b_train_y)"
      ],
      "execution_count": 71,
      "outputs": [
        {
          "output_type": "execute_result",
          "data": {
            "text/plain": [
              "GridSearchCV(cv=10, error_score=nan,\n",
              "             estimator=LinearRegression(copy_X=True, fit_intercept=True,\n",
              "                                        n_jobs=None, normalize=False),\n",
              "             iid='deprecated', n_jobs=50,\n",
              "             param_grid={'fit_intercept': [True, False],\n",
              "                         'normalize': [True, False]},\n",
              "             pre_dispatch='2*n_jobs', refit=True, return_train_score=False,\n",
              "             scoring=None, verbose=0)"
            ]
          },
          "metadata": {
            "tags": []
          },
          "execution_count": 71
        }
      ]
    },
    {
      "cell_type": "code",
      "metadata": {
        "id": "lhEVXz73_pBj",
        "colab_type": "code",
        "outputId": "bbc6650a-0b5d-417a-a7b1-224a83c621d7",
        "colab": {
          "base_uri": "https://localhost:8080/",
          "height": 49
        }
      },
      "source": [
        "b_y_pred = kf_model.predict(b_test_X)\n",
        "b_y_pred"
      ],
      "execution_count": 72,
      "outputs": [
        {
          "output_type": "execute_result",
          "data": {
            "text/plain": [
              "array([ 99.73189457, 129.99129108, 164.20166641, ..., 200.55402649,\n",
              "       179.64526997, 141.71694112])"
            ]
          },
          "metadata": {
            "tags": []
          },
          "execution_count": 72
        }
      ]
    },
    {
      "cell_type": "code",
      "metadata": {
        "id": "3l6c6MkCLJ71",
        "colab_type": "code",
        "outputId": "7722e7cd-27dd-42e0-b21b-9994d1d76653",
        "colab": {
          "base_uri": "https://localhost:8080/",
          "height": 33
        }
      },
      "source": [
        "kf_model.best_estimator_.coef_"
      ],
      "execution_count": 73,
      "outputs": [
        {
          "output_type": "execute_result",
          "data": {
            "text/plain": [
              "array([29.65081752])"
            ]
          },
          "metadata": {
            "tags": []
          },
          "execution_count": 73
        }
      ]
    },
    {
      "cell_type": "code",
      "metadata": {
        "id": "-6YyQM5tJ9dx",
        "colab_type": "code",
        "outputId": "c71c69a2-2d35-46c6-bc25-23de39de17f2",
        "colab": {
          "base_uri": "https://localhost:8080/",
          "height": 33
        }
      },
      "source": [
        "kf_model.best_estimator_.intercept_"
      ],
      "execution_count": 74,
      "outputs": [
        {
          "output_type": "execute_result",
          "data": {
            "text/plain": [
              "161.32695990453792"
            ]
          },
          "metadata": {
            "tags": []
          },
          "execution_count": 74
        }
      ]
    },
    {
      "cell_type": "code",
      "metadata": {
        "id": "BgvJ85kYLNgF",
        "colab_type": "code",
        "outputId": "58de9bde-fb69-49e3-cb3a-4ba66f5b88ba",
        "colab": {
          "base_uri": "https://localhost:8080/",
          "height": 33
        }
      },
      "source": [
        "kf_model.best_score_"
      ],
      "execution_count": 75,
      "outputs": [
        {
          "output_type": "execute_result",
          "data": {
            "text/plain": [
              "0.8543523704641366"
            ]
          },
          "metadata": {
            "tags": []
          },
          "execution_count": 75
        }
      ]
    },
    {
      "cell_type": "code",
      "metadata": {
        "id": "pl4LbWLVNsH5",
        "colab_type": "code",
        "outputId": "eb9c61db-1fbd-4ded-9710-4c813e1de387",
        "colab": {
          "base_uri": "https://localhost:8080/",
          "height": 33
        }
      },
      "source": [
        "kf_model.best_estimator_"
      ],
      "execution_count": 76,
      "outputs": [
        {
          "output_type": "execute_result",
          "data": {
            "text/plain": [
              "LinearRegression(copy_X=True, fit_intercept=True, n_jobs=None, normalize=True)"
            ]
          },
          "metadata": {
            "tags": []
          },
          "execution_count": 76
        }
      ]
    },
    {
      "cell_type": "code",
      "metadata": {
        "id": "aUS-U_bWNr78",
        "colab_type": "code",
        "outputId": "94c035af-c83b-4daa-aa25-210b4bc3e897",
        "colab": {
          "base_uri": "https://localhost:8080/",
          "height": 33
        }
      },
      "source": [
        "kf_model.best_params_"
      ],
      "execution_count": 77,
      "outputs": [
        {
          "output_type": "execute_result",
          "data": {
            "text/plain": [
              "{'fit_intercept': True, 'normalize': True}"
            ]
          },
          "metadata": {
            "tags": []
          },
          "execution_count": 77
        }
      ]
    },
    {
      "cell_type": "code",
      "metadata": {
        "id": "1XRNIWO3DTqd",
        "colab_type": "code",
        "outputId": "57c9ef79-5b34-4e16-9799-c8c83b63fd39",
        "colab": {
          "base_uri": "https://localhost:8080/",
          "height": 350
        }
      },
      "source": [
        "pa_1 = pd.DataFrame({'Predicted': b_y_pred, 'Actual': b_test_y})\n",
        "pa_1.head(10)"
      ],
      "execution_count": 79,
      "outputs": [
        {
          "output_type": "execute_result",
          "data": {
            "text/html": [
              "<div>\n",
              "<style scoped>\n",
              "    .dataframe tbody tr th:only-of-type {\n",
              "        vertical-align: middle;\n",
              "    }\n",
              "\n",
              "    .dataframe tbody tr th {\n",
              "        vertical-align: top;\n",
              "    }\n",
              "\n",
              "    .dataframe thead th {\n",
              "        text-align: right;\n",
              "    }\n",
              "</style>\n",
              "<table border=\"1\" class=\"dataframe\">\n",
              "  <thead>\n",
              "    <tr style=\"text-align: right;\">\n",
              "      <th></th>\n",
              "      <th>Predicted</th>\n",
              "      <th>Actual</th>\n",
              "    </tr>\n",
              "  </thead>\n",
              "  <tbody>\n",
              "    <tr>\n",
              "      <th>0</th>\n",
              "      <td>99.731895</td>\n",
              "      <td>85.793085</td>\n",
              "    </tr>\n",
              "    <tr>\n",
              "      <th>1</th>\n",
              "      <td>129.991291</td>\n",
              "      <td>119.117424</td>\n",
              "    </tr>\n",
              "    <tr>\n",
              "      <th>2</th>\n",
              "      <td>164.201666</td>\n",
              "      <td>171.524042</td>\n",
              "    </tr>\n",
              "    <tr>\n",
              "      <th>3</th>\n",
              "      <td>189.064885</td>\n",
              "      <td>194.240362</td>\n",
              "    </tr>\n",
              "    <tr>\n",
              "      <th>4</th>\n",
              "      <td>131.143080</td>\n",
              "      <td>132.697317</td>\n",
              "    </tr>\n",
              "    <tr>\n",
              "      <th>5</th>\n",
              "      <td>190.551095</td>\n",
              "      <td>190.585377</td>\n",
              "    </tr>\n",
              "    <tr>\n",
              "      <th>6</th>\n",
              "      <td>142.419620</td>\n",
              "      <td>140.642935</td>\n",
              "    </tr>\n",
              "    <tr>\n",
              "      <th>7</th>\n",
              "      <td>122.921919</td>\n",
              "      <td>139.105837</td>\n",
              "    </tr>\n",
              "    <tr>\n",
              "      <th>8</th>\n",
              "      <td>201.758726</td>\n",
              "      <td>196.672557</td>\n",
              "    </tr>\n",
              "    <tr>\n",
              "      <th>9</th>\n",
              "      <td>183.357909</td>\n",
              "      <td>205.699461</td>\n",
              "    </tr>\n",
              "  </tbody>\n",
              "</table>\n",
              "</div>"
            ],
            "text/plain": [
              "    Predicted      Actual\n",
              "0   99.731895   85.793085\n",
              "1  129.991291  119.117424\n",
              "2  164.201666  171.524042\n",
              "3  189.064885  194.240362\n",
              "4  131.143080  132.697317\n",
              "5  190.551095  190.585377\n",
              "6  142.419620  140.642935\n",
              "7  122.921919  139.105837\n",
              "8  201.758726  196.672557\n",
              "9  183.357909  205.699461"
            ]
          },
          "metadata": {
            "tags": []
          },
          "execution_count": 79
        }
      ]
    },
    {
      "cell_type": "code",
      "metadata": {
        "id": "I8YgIk1PESXP",
        "colab_type": "code",
        "outputId": "2444911d-87d3-4100-934b-a088080eba8b",
        "colab": {
          "base_uri": "https://localhost:8080/",
          "height": 294
        }
      },
      "source": [
        "#plt.style.use('classic')\n",
        "x = np.linspace(0,300,100)\n",
        "y = x\n",
        "plt.scatter(b_test_y, b_y_pred)\n",
        "plt.plot(x,y, color='red')\n",
        "plt.xlabel('actual weights')\n",
        "plt.ylabel('predicted weights')\n",
        "plt.title('Progress of our Predictions (A perfect solution would result in the points falling on the straight line )')\n",
        "plt.show()"
      ],
      "execution_count": 82,
      "outputs": [
        {
          "output_type": "display_data",
          "data": {
            "image/png": "[encoded data removed]",
            "text/plain": [
              "<Figure size 432x288 with 1 Axes>"
            ]
          },
          "metadata": {
            "tags": []
          }
        }
      ]
    },
    {
      "cell_type": "code",
      "metadata": {
        "id": "OjM_0FD8V25r",
        "colab_type": "code",
        "outputId": "caa75ed0-1623-481c-de77-e4a4dd3a179b",
        "colab": {
          "base_uri": "https://localhost:8080/",
          "height": 33
        }
      },
      "source": [
        "#mean absolute error\n",
        "metrics.mean_absolute_error(b_test_y, b_y_pred)"
      ],
      "execution_count": 83,
      "outputs": [
        {
          "output_type": "execute_result",
          "data": {
            "text/plain": [
              "9.726938017123206"
            ]
          },
          "metadata": {
            "tags": []
          },
          "execution_count": 83
        }
      ]
    },
    {
      "cell_type": "code",
      "metadata": {
        "id": "bxHva3eoZAr2",
        "colab_type": "code",
        "outputId": "96efdaa5-1c27-4be2-aff3-eecacfcd482a",
        "colab": {
          "base_uri": "https://localhost:8080/",
          "height": 33
        }
      },
      "source": [
        "#mean squared error \n",
        "metrics.mean_squared_error(b_test_y, b_y_pred)"
      ],
      "execution_count": 84,
      "outputs": [
        {
          "output_type": "execute_result",
          "data": {
            "text/plain": [
              "147.49721981731224"
            ]
          },
          "metadata": {
            "tags": []
          },
          "execution_count": 84
        }
      ]
    },
    {
      "cell_type": "code",
      "metadata": {
        "id": "psX4d2DbcYcg",
        "colab_type": "code",
        "outputId": "137b838f-173f-487d-bade-4a60e7c6f807",
        "colab": {
          "base_uri": "https://localhost:8080/",
          "height": 33
        }
      },
      "source": [
        "#root mean squared error\n",
        "np.sqrt(metrics.mean_squared_error(b_test_y, b_y_pred))"
      ],
      "execution_count": 85,
      "outputs": [
        {
          "output_type": "execute_result",
          "data": {
            "text/plain": [
              "12.144843342641858"
            ]
          },
          "metadata": {
            "tags": []
          },
          "execution_count": 85
        }
      ]
    },
    {
      "cell_type": "code",
      "metadata": {
        "id": "BIjYZ43YknP7",
        "colab_type": "code",
        "colab": {
          "base_uri": "https://localhost:8080/",
          "height": 33
        },
        "outputId": "17de2b09-49c0-4bbc-a160-10ca7fe5fbb2"
      },
      "source": [
        "#adjusted r^2\n",
        "metrics.r2_score(b_test_y, b_y_pred)"
      ],
      "execution_count": 86,
      "outputs": [
        {
          "output_type": "execute_result",
          "data": {
            "text/plain": [
              "0.8543548454223535"
            ]
          },
          "metadata": {
            "tags": []
          },
          "execution_count": 86
        }
      ]
    },
    {
      "cell_type": "markdown",
      "metadata": {
        "id": "k_KpQjqZltc4",
        "colab_type": "text"
      },
      "source": [
        "####Subset C"
      ]
    },
    {
      "cell_type": "code",
      "metadata": {
        "id": "Sv0Ao0DwnIwC",
        "colab_type": "code",
        "colab": {
          "base_uri": "https://localhost:8080/",
          "height": 33
        },
        "outputId": "ef6c5246-9077-4fc6-d2c7-70c48a8591e0"
      },
      "source": [
        "linreg_3 = LinearRegression()\n",
        "linreg_3"
      ],
      "execution_count": 37,
      "outputs": [
        {
          "output_type": "execute_result",
          "data": {
            "text/plain": [
              "LinearRegression(copy_X=True, fit_intercept=True, n_jobs=None, normalize=False)"
            ]
          },
          "metadata": {
            "tags": []
          },
          "execution_count": 37
        }
      ]
    },
    {
      "cell_type": "code",
      "metadata": {
        "id": "-2AUm-bBGsD_",
        "colab_type": "code",
        "colab": {}
      },
      "source": [
        "param_grid = {'fit_intercept': [True, False], 'normalize': [True, False]}"
      ],
      "execution_count": 0,
      "outputs": []
    },
    {
      "cell_type": "code",
      "metadata": {
        "id": "NAilK5WfGsAM",
        "colab_type": "code",
        "colab": {
          "base_uri": "https://localhost:8080/",
          "height": 147
        },
        "outputId": "4b266cdf-789f-4004-af11-a1461a5e7f4f"
      },
      "source": [
        "kf_model = GridSearchCV(linreg_3, param_grid=param_grid, cv=10, n_jobs=50)\n",
        "kf_model"
      ],
      "execution_count": 39,
      "outputs": [
        {
          "output_type": "execute_result",
          "data": {
            "text/plain": [
              "GridSearchCV(cv=10, error_score=nan,\n",
              "             estimator=LinearRegression(copy_X=True, fit_intercept=True,\n",
              "                                        n_jobs=None, normalize=False),\n",
              "             iid='deprecated', n_jobs=50,\n",
              "             param_grid={'fit_intercept': [True, False],\n",
              "                         'normalize': [True, False]},\n",
              "             pre_dispatch='2*n_jobs', refit=True, return_train_score=False,\n",
              "             scoring=None, verbose=0)"
            ]
          },
          "metadata": {
            "tags": []
          },
          "execution_count": 39
        }
      ]
    },
    {
      "cell_type": "code",
      "metadata": {
        "id": "yiD9PBiYGr8d",
        "colab_type": "code",
        "colab": {
          "base_uri": "https://localhost:8080/",
          "height": 147
        },
        "outputId": "c5978fa6-848e-4875-ffb2-a34de07ea94f"
      },
      "source": [
        "kf_model.fit(c_train_X, c_train_y)"
      ],
      "execution_count": 40,
      "outputs": [
        {
          "output_type": "execute_result",
          "data": {
            "text/plain": [
              "GridSearchCV(cv=10, error_score=nan,\n",
              "             estimator=LinearRegression(copy_X=True, fit_intercept=True,\n",
              "                                        n_jobs=None, normalize=False),\n",
              "             iid='deprecated', n_jobs=50,\n",
              "             param_grid={'fit_intercept': [True, False],\n",
              "                         'normalize': [True, False]},\n",
              "             pre_dispatch='2*n_jobs', refit=True, return_train_score=False,\n",
              "             scoring=None, verbose=0)"
            ]
          },
          "metadata": {
            "tags": []
          },
          "execution_count": 40
        }
      ]
    },
    {
      "cell_type": "code",
      "metadata": {
        "id": "CuEs953xGr5O",
        "colab_type": "code",
        "colab": {
          "base_uri": "https://localhost:8080/",
          "height": 49
        },
        "outputId": "2a3d23d9-9729-4de6-b2de-01034a275f86"
      },
      "source": [
        "c_pred_y = kf_model.predict(c_test_X)\n",
        "c_pred_y"
      ],
      "execution_count": 41,
      "outputs": [
        {
          "output_type": "execute_result",
          "data": {
            "text/plain": [
              "array([104.06103516, 127.40771484, 173.36108398, ..., 201.40893555,\n",
              "       185.27661133, 136.45483398])"
            ]
          },
          "metadata": {
            "tags": []
          },
          "execution_count": 41
        }
      ]
    },
    {
      "cell_type": "code",
      "metadata": {
        "id": "HrdO588aGr2c",
        "colab_type": "code",
        "colab": {
          "base_uri": "https://localhost:8080/",
          "height": 408
        },
        "outputId": "31c04090-5f4f-45f8-8750-af47ac58346f"
      },
      "source": [
        "pd.DataFrame({'Actual': c_test_y, 'Predicted': c_pred_y})"
      ],
      "execution_count": 42,
      "outputs": [
        {
          "output_type": "execute_result",
          "data": {
            "text/html": [
              "<div>\n",
              "<style scoped>\n",
              "    .dataframe tbody tr th:only-of-type {\n",
              "        vertical-align: middle;\n",
              "    }\n",
              "\n",
              "    .dataframe tbody tr th {\n",
              "        vertical-align: top;\n",
              "    }\n",
              "\n",
              "    .dataframe thead th {\n",
              "        text-align: right;\n",
              "    }\n",
              "</style>\n",
              "<table border=\"1\" class=\"dataframe\">\n",
              "  <thead>\n",
              "    <tr style=\"text-align: right;\">\n",
              "      <th></th>\n",
              "      <th>Actual</th>\n",
              "      <th>Predicted</th>\n",
              "    </tr>\n",
              "  </thead>\n",
              "  <tbody>\n",
              "    <tr>\n",
              "      <th>0</th>\n",
              "      <td>85.793085</td>\n",
              "      <td>104.061035</td>\n",
              "    </tr>\n",
              "    <tr>\n",
              "      <th>1</th>\n",
              "      <td>119.117424</td>\n",
              "      <td>127.407715</td>\n",
              "    </tr>\n",
              "    <tr>\n",
              "      <th>2</th>\n",
              "      <td>171.524042</td>\n",
              "      <td>173.361084</td>\n",
              "    </tr>\n",
              "    <tr>\n",
              "      <th>3</th>\n",
              "      <td>194.240362</td>\n",
              "      <td>172.986328</td>\n",
              "    </tr>\n",
              "    <tr>\n",
              "      <th>4</th>\n",
              "      <td>132.697317</td>\n",
              "      <td>128.296387</td>\n",
              "    </tr>\n",
              "    <tr>\n",
              "      <th>...</th>\n",
              "      <td>...</td>\n",
              "      <td>...</td>\n",
              "    </tr>\n",
              "    <tr>\n",
              "      <th>1994</th>\n",
              "      <td>142.206380</td>\n",
              "      <td>143.252441</td>\n",
              "    </tr>\n",
              "    <tr>\n",
              "      <th>1995</th>\n",
              "      <td>142.452571</td>\n",
              "      <td>135.857666</td>\n",
              "    </tr>\n",
              "    <tr>\n",
              "      <th>1996</th>\n",
              "      <td>182.174364</td>\n",
              "      <td>201.408936</td>\n",
              "    </tr>\n",
              "    <tr>\n",
              "      <th>1997</th>\n",
              "      <td>179.204782</td>\n",
              "      <td>185.276611</td>\n",
              "    </tr>\n",
              "    <tr>\n",
              "      <th>1998</th>\n",
              "      <td>138.895712</td>\n",
              "      <td>136.454834</td>\n",
              "    </tr>\n",
              "  </tbody>\n",
              "</table>\n",
              "<p>1999 rows × 2 columns</p>\n",
              "</div>"
            ],
            "text/plain": [
              "          Actual   Predicted\n",
              "0      85.793085  104.061035\n",
              "1     119.117424  127.407715\n",
              "2     171.524042  173.361084\n",
              "3     194.240362  172.986328\n",
              "4     132.697317  128.296387\n",
              "...          ...         ...\n",
              "1994  142.206380  143.252441\n",
              "1995  142.452571  135.857666\n",
              "1996  182.174364  201.408936\n",
              "1997  179.204782  185.276611\n",
              "1998  138.895712  136.454834\n",
              "\n",
              "[1999 rows x 2 columns]"
            ]
          },
          "metadata": {
            "tags": []
          },
          "execution_count": 42
        }
      ]
    },
    {
      "cell_type": "code",
      "metadata": {
        "id": "sW4U2MQ6I4G3",
        "colab_type": "code",
        "colab": {
          "base_uri": "https://localhost:8080/",
          "height": 264
        },
        "outputId": "a954f8f5-5d23-46e0-a128-d6385b0f05bd"
      },
      "source": [
        "x = range(75,276,25)\n",
        "y = x \n",
        "plt.scatter(c_test_y, c_pred_y)\n",
        "plt.plot(x,y,color='red')\n",
        "plt.show()"
      ],
      "execution_count": 43,
      "outputs": [
        {
          "output_type": "display_data",
          "data": {
            "image/png": "[encoded data removed]",
            "text/plain": [
              "<Figure size 432x288 with 1 Axes>"
            ]
          },
          "metadata": {
            "tags": []
          }
        }
      ]
    },
    {
      "cell_type": "code",
      "metadata": {
        "id": "Lr3IYwxjHm-D",
        "colab_type": "code",
        "colab": {
          "base_uri": "https://localhost:8080/",
          "height": 33
        },
        "outputId": "3148d909-2fe5-4853-be93-32ee4e98a7e4"
      },
      "source": [
        "kf_model.best_estimator_"
      ],
      "execution_count": 44,
      "outputs": [
        {
          "output_type": "execute_result",
          "data": {
            "text/plain": [
              "LinearRegression(copy_X=True, fit_intercept=True, n_jobs=None, normalize=True)"
            ]
          },
          "metadata": {
            "tags": []
          },
          "execution_count": 44
        }
      ]
    },
    {
      "cell_type": "code",
      "metadata": {
        "id": "Hh4GHoPsHm6c",
        "colab_type": "code",
        "colab": {
          "base_uri": "https://localhost:8080/",
          "height": 33
        },
        "outputId": "6b68b337-315e-4dd9-d871-9c20ca4d63bf"
      },
      "source": [
        "kf_model.best_params_"
      ],
      "execution_count": 45,
      "outputs": [
        {
          "output_type": "execute_result",
          "data": {
            "text/plain": [
              "{'fit_intercept': True, 'normalize': True}"
            ]
          },
          "metadata": {
            "tags": []
          },
          "execution_count": 45
        }
      ]
    },
    {
      "cell_type": "code",
      "metadata": {
        "id": "RKJxEA14Hm13",
        "colab_type": "code",
        "colab": {
          "base_uri": "https://localhost:8080/",
          "height": 33
        },
        "outputId": "2b2903b0-04bb-4679-cd2f-b767861bb3cf"
      },
      "source": [
        "kf_model.best_score_"
      ],
      "execution_count": 46,
      "outputs": [
        {
          "output_type": "execute_result",
          "data": {
            "text/plain": [
              "0.9024207352344742"
            ]
          },
          "metadata": {
            "tags": []
          },
          "execution_count": 46
        }
      ]
    },
    {
      "cell_type": "code",
      "metadata": {
        "id": "5UEgRRAXHms3",
        "colab_type": "code",
        "colab": {
          "base_uri": "https://localhost:8080/",
          "height": 33
        },
        "outputId": "74a213f1-1bf3-4e41-a1c4-b6e13c59e18f"
      },
      "source": [
        "metrics.mean_absolute_error(c_test_y, c_pred_y)"
      ],
      "execution_count": 47,
      "outputs": [
        {
          "output_type": "execute_result",
          "data": {
            "text/plain": [
              "8.021070326955545"
            ]
          },
          "metadata": {
            "tags": []
          },
          "execution_count": 47
        }
      ]
    },
    {
      "cell_type": "code",
      "metadata": {
        "id": "LuMi1vxUIOQ6",
        "colab_type": "code",
        "colab": {
          "base_uri": "https://localhost:8080/",
          "height": 33
        },
        "outputId": "6c410e6e-9da3-4cb0-b459-6773f6baaff2"
      },
      "source": [
        "metrics.mean_squared_error(c_test_y, c_pred_y)"
      ],
      "execution_count": 48,
      "outputs": [
        {
          "output_type": "execute_result",
          "data": {
            "text/plain": [
              "99.93821640752233"
            ]
          },
          "metadata": {
            "tags": []
          },
          "execution_count": 48
        }
      ]
    },
    {
      "cell_type": "code",
      "metadata": {
        "id": "zoWtWbs7IOM-",
        "colab_type": "code",
        "colab": {
          "base_uri": "https://localhost:8080/",
          "height": 33
        },
        "outputId": "dd8ea0e3-bc50-4792-b03d-c35237000e14"
      },
      "source": [
        "np.sqrt(metrics.mean_squared_error(c_test_y, c_pred_y))"
      ],
      "execution_count": 49,
      "outputs": [
        {
          "output_type": "execute_result",
          "data": {
            "text/plain": [
              "9.996910343077122"
            ]
          },
          "metadata": {
            "tags": []
          },
          "execution_count": 49
        }
      ]
    },
    {
      "cell_type": "code",
      "metadata": {
        "id": "6yk4qc2xIOE_",
        "colab_type": "code",
        "colab": {
          "base_uri": "https://localhost:8080/",
          "height": 33
        },
        "outputId": "074f3d37-a327-439a-af88-55acb499059f"
      },
      "source": [
        "metrics.r2_score(c_test_y, c_pred_y)"
      ],
      "execution_count": 50,
      "outputs": [
        {
          "output_type": "execute_result",
          "data": {
            "text/plain": [
              "0.9013166689181252"
            ]
          },
          "metadata": {
            "tags": []
          },
          "execution_count": 50
        }
      ]
    },
    {
      "cell_type": "code",
      "metadata": {
        "id": "qDe9rMyQKcyU",
        "colab_type": "code",
        "colab": {
          "base_uri": "https://localhost:8080/",
          "height": 33
        },
        "outputId": "cda14cb9-68a5-4a20-8d31-f306ed699f3a"
      },
      "source": [
        "coeff = kf_model.best_estimator_.coef_\n",
        "coeff"
      ],
      "execution_count": 51,
      "outputs": [
        {
          "output_type": "execute_result",
          "data": {
            "text/plain": [
              "array([1.11198846e+12, 1.11198846e+12, 2.28772066e+01])"
            ]
          },
          "metadata": {
            "tags": []
          },
          "execution_count": 51
        }
      ]
    },
    {
      "cell_type": "code",
      "metadata": {
        "id": "5Cv3Vx9BKjEE",
        "colab_type": "code",
        "colab": {
          "base_uri": "https://localhost:8080/",
          "height": 33
        },
        "outputId": "85633783-61ce-4485-933d-68a9adab2b91"
      },
      "source": [
        "kf_model.best_estimator_.intercept_"
      ],
      "execution_count": 52,
      "outputs": [
        {
          "output_type": "execute_result",
          "data": {
            "text/plain": [
              "-1111988463604.087"
            ]
          },
          "metadata": {
            "tags": []
          },
          "execution_count": 52
        }
      ]
    },
    {
      "cell_type": "code",
      "metadata": {
        "id": "6af6yGWzK5RN",
        "colab_type": "code",
        "colab": {
          "base_uri": "https://localhost:8080/",
          "height": 139
        },
        "outputId": "50a504ad-693d-4bec-905a-19e18cf76a2b"
      },
      "source": [
        "pd.DataFrame({'coefficients': coeff}, index=['Female', 'Male', 'Height'])"
      ],
      "execution_count": 53,
      "outputs": [
        {
          "output_type": "execute_result",
          "data": {
            "text/html": [
              "<div>\n",
              "<style scoped>\n",
              "    .dataframe tbody tr th:only-of-type {\n",
              "        vertical-align: middle;\n",
              "    }\n",
              "\n",
              "    .dataframe tbody tr th {\n",
              "        vertical-align: top;\n",
              "    }\n",
              "\n",
              "    .dataframe thead th {\n",
              "        text-align: right;\n",
              "    }\n",
              "</style>\n",
              "<table border=\"1\" class=\"dataframe\">\n",
              "  <thead>\n",
              "    <tr style=\"text-align: right;\">\n",
              "      <th></th>\n",
              "      <th>coefficients</th>\n",
              "    </tr>\n",
              "  </thead>\n",
              "  <tbody>\n",
              "    <tr>\n",
              "      <th>Female</th>\n",
              "      <td>1.111988e+12</td>\n",
              "    </tr>\n",
              "    <tr>\n",
              "      <th>Male</th>\n",
              "      <td>1.111988e+12</td>\n",
              "    </tr>\n",
              "    <tr>\n",
              "      <th>Height</th>\n",
              "      <td>2.287721e+01</td>\n",
              "    </tr>\n",
              "  </tbody>\n",
              "</table>\n",
              "</div>"
            ],
            "text/plain": [
              "        coefficients\n",
              "Female  1.111988e+12\n",
              "Male    1.111988e+12\n",
              "Height  2.287721e+01"
            ]
          },
          "metadata": {
            "tags": []
          },
          "execution_count": 53
        }
      ]
    },
    {
      "cell_type": "code",
      "metadata": {
        "id": "liL4AThMatdk",
        "colab_type": "code",
        "colab": {
          "base_uri": "https://localhost:8080/",
          "height": 131
        },
        "outputId": "7c67e226-7ce4-446c-ad20-aed0676b6a65"
      },
      "source": [
        "c_test_X"
      ],
      "execution_count": 59,
      "outputs": [
        {
          "output_type": "execute_result",
          "data": {
            "text/plain": [
              "array([[ 1.        ,  0.        , -2.07734796],\n",
              "       [ 1.        ,  0.        , -1.0568231 ],\n",
              "       [ 0.        ,  1.        ,  0.09695201],\n",
              "       ...,\n",
              "       [ 0.        ,  1.        ,  1.32296745],\n",
              "       [ 0.        ,  1.        ,  0.61780118],\n",
              "       [ 1.        ,  0.        , -0.6613652 ]])"
            ]
          },
          "metadata": {
            "tags": []
          },
          "execution_count": 59
        }
      ]
    },
    {
      "cell_type": "code",
      "metadata": {
        "id": "GtYZ8gYObRfS",
        "colab_type": "code",
        "colab": {
          "base_uri": "https://localhost:8080/",
          "height": 33
        },
        "outputId": "5220aff0-4979-4741-fc1c-7b555d4ff6fc"
      },
      "source": [
        " #remember, our height feature was scaled. therefore you will need to include a number from -1 to 1\n",
        "\n",
        "kf_model.predict([[1,0,.5]])"
      ],
      "execution_count": 65,
      "outputs": [
        {
          "output_type": "execute_result",
          "data": {
            "text/plain": [
              "array([163.02368164])"
            ]
          },
          "metadata": {
            "tags": []
          },
          "execution_count": 65
        }
      ]
    },
    {
      "cell_type": "markdown",
      "metadata": {
        "id": "HStB5Xuji3YH",
        "colab_type": "text"
      },
      "source": [
        "#Conclusion"
      ]
    },
    {
      "cell_type": "markdown",
      "metadata": {
        "id": "_uTYIrmteyHw",
        "colab_type": "text"
      },
      "source": [
        "Metrics \n",
        "\n",
        "*   Mean Absolute Error - absolute distance between predictions and actual truth\n",
        "It has a linear mesure of fit and every residual is treated proportionately\n",
        "\n",
        "\"Like the RMSE (which will be explained later), the MAE is an absolute measure of fit. 'It can be interpreted as the standard deviation of the unexplained variance, and has the useful property of being in the same units as the response variable.'\n",
        "Or in layman’s term, we should expect our prediction to be off by 8.02 lbs (on average) from the ground truth (based on the problem above).\"\n",
        "\n",
        "\"Because we use the absolute value of the residual, the MAE does not indicate underperformance or overperformance of the model (whether or not the model under or overshoots actual data). Each residual contributes proportionally to the total amount of error, meaning that larger errors will contribute linearly to the overall error.\"\n",
        "\n",
        "\n",
        "*   Root Mean Squared Error - square rooted distance between predictions and actual\n",
        "It has a linear measure of fit, and outliers are penalized more\n",
        "\"Notice that the RMSE is larger than the MAE. Since the RMSE is squaring the difference between the predictions and the ground truth, any significant difference is made more substantial when it is being squared. RMSE is more sensitive to outliers. Hence, if the outliers are undesirable, the RMSE better evaluates how well your model is performing.\"\n",
        "\n",
        "\n",
        "*   Mean Squared Error - squared distance between predictions and actual truth \n",
        "It has a quadratic measure of fit, and it penalizes outliers more \n",
        "\n",
        "\n",
        "\n",
        "*   R Squared - If you like to understand how well the independent variables “explain” the variance in your model, the R-Squared formula can be powerful."
      ]
    },
    {
      "cell_type": "markdown",
      "metadata": {
        "id": "HxPSROcFUg7o",
        "colab_type": "text"
      },
      "source": [
        "Since we already removed outliers, we wont need to square the errors. Instead treat the data as linear. Use Mean Absoluter Error. \n",
        "\n",
        "*   A\t8.020949545134666\t2 feats\n",
        "\n",
        "*   B\t9.726938017123206\t1 feat\n",
        "\n",
        "*   C\t8.021070326955545\t3 feats\n",
        "\n",
        "Our Subset A has the best results, but Subset C is pretty darn close!\n"
      ]
    },
    {
      "cell_type": "markdown",
      "metadata": {
        "id": "k_QHh8wdKj3i",
        "colab_type": "text"
      },
      "source": [
        "#References\n",
        "\n",
        "*   datacareer.ch (I could not find the author), How to find coefficients and intercept with GridSearchCV/RandomizedSearchCV, https://www.datacareer.ch/blog/ridge-and-lasso-in-python/\n",
        "\n",
        "\n",
        "*   Alex Guanga, Understand Regression Metrics, https://becominghuman.ai/understand-regression-performance-metrics-bdb0e7fcc1b3\n",
        "\n",
        "\n",
        "*   Manoj Kumar Dobbali, Understanding Regression Metrics, https://towardsdatascience.com/metrics-to-understand-regression-models-in-plain-english-part-1-c902b2f4156f\n",
        "\n",
        "\n"
      ]
    }
  ]
}